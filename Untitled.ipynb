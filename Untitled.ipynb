{
 "cells": [
  {
   "cell_type": "code",
   "execution_count": 150,
   "id": "52a4906e-a02f-4fa6-a6be-c199f21dbc38",
   "metadata": {},
   "outputs": [],
   "source": [
    "import atoti as tt"
   ]
  },
  {
   "cell_type": "code",
   "execution_count": 151,
   "id": "dc38399d-23da-49a0-840b-8f426d2e9c22",
   "metadata": {},
   "outputs": [],
   "source": [
    "session = tt.Session.start()"
   ]
  },
  {
   "cell_type": "code",
   "execution_count": 153,
   "id": "8059b660-d81f-40e1-919f-6d3141851c40",
   "metadata": {},
   "outputs": [],
   "source": [
    "fact_table = session.read_csv(\n",
    "    r\"Datasets/WWI/FactSale.csv\", \n",
    "    keys=[\"Sale Key\"], \n",
    "    table_name=\"Sales\"\n",
    ")"
   ]
  },
  {
   "cell_type": "code",
   "execution_count": 154,
   "id": "95433cd8-53b1-4bb3-8a33-84f5a7b50b75",
   "metadata": {},
   "outputs": [
    {
     "data": {
      "text/html": [
       "<div>\n",
       "<style scoped>\n",
       "    .dataframe tbody tr th:only-of-type {\n",
       "        vertical-align: middle;\n",
       "    }\n",
       "\n",
       "    .dataframe tbody tr th {\n",
       "        vertical-align: top;\n",
       "    }\n",
       "\n",
       "    .dataframe thead th {\n",
       "        text-align: right;\n",
       "    }\n",
       "</style>\n",
       "<table border=\"1\" class=\"dataframe\">\n",
       "  <thead>\n",
       "    <tr style=\"text-align: right;\">\n",
       "      <th></th>\n",
       "      <th>City Key</th>\n",
       "      <th>Customer Key</th>\n",
       "      <th>Bill To Customer Key</th>\n",
       "      <th>Stock Item Key</th>\n",
       "      <th>Invoice Date Key</th>\n",
       "      <th>Delivery Date Key</th>\n",
       "      <th>Salesperson Key</th>\n",
       "      <th>WWI Invoice ID</th>\n",
       "      <th>Description</th>\n",
       "      <th>Package</th>\n",
       "      <th>Quantity</th>\n",
       "      <th>Unit Price</th>\n",
       "      <th>Tax Rate</th>\n",
       "      <th>Total Excluding Tax</th>\n",
       "      <th>Tax Amount</th>\n",
       "      <th>Profit</th>\n",
       "      <th>Total Including Tax</th>\n",
       "      <th>Total Dry Items</th>\n",
       "      <th>Total Chiller Items</th>\n",
       "      <th>Lineage Key</th>\n",
       "    </tr>\n",
       "    <tr>\n",
       "      <th>Sale Key</th>\n",
       "      <th></th>\n",
       "      <th></th>\n",
       "      <th></th>\n",
       "      <th></th>\n",
       "      <th></th>\n",
       "      <th></th>\n",
       "      <th></th>\n",
       "      <th></th>\n",
       "      <th></th>\n",
       "      <th></th>\n",
       "      <th></th>\n",
       "      <th></th>\n",
       "      <th></th>\n",
       "      <th></th>\n",
       "      <th></th>\n",
       "      <th></th>\n",
       "      <th></th>\n",
       "      <th></th>\n",
       "      <th></th>\n",
       "      <th></th>\n",
       "    </tr>\n",
       "  </thead>\n",
       "  <tbody>\n",
       "    <tr>\n",
       "      <th>54792</th>\n",
       "      <td>77092</td>\n",
       "      <td>0</td>\n",
       "      <td>0</td>\n",
       "      <td>176</td>\n",
       "      <td>11/22/2013</td>\n",
       "      <td>11/23/2013</td>\n",
       "      <td>91</td>\n",
       "      <td>16867</td>\n",
       "      <td>Developer joke mug - there are 10 types of peo...</td>\n",
       "      <td>Each</td>\n",
       "      <td>6</td>\n",
       "      <td>13.0</td>\n",
       "      <td>15</td>\n",
       "      <td>78.0</td>\n",
       "      <td>11.7</td>\n",
       "      <td>51.0</td>\n",
       "      <td>89.7</td>\n",
       "      <td>6</td>\n",
       "      <td>0</td>\n",
       "      <td>11</td>\n",
       "    </tr>\n",
       "    <tr>\n",
       "      <th>49813</th>\n",
       "      <td>76936</td>\n",
       "      <td>0</td>\n",
       "      <td>0</td>\n",
       "      <td>109</td>\n",
       "      <td>10/24/2013</td>\n",
       "      <td>10/25/2013</td>\n",
       "      <td>39</td>\n",
       "      <td>15352</td>\n",
       "      <td>Superhero action jacket (Blue) M</td>\n",
       "      <td>Each</td>\n",
       "      <td>10</td>\n",
       "      <td>30.0</td>\n",
       "      <td>15</td>\n",
       "      <td>300.0</td>\n",
       "      <td>45.0</td>\n",
       "      <td>80.0</td>\n",
       "      <td>345.0</td>\n",
       "      <td>10</td>\n",
       "      <td>0</td>\n",
       "      <td>11</td>\n",
       "    </tr>\n",
       "    <tr>\n",
       "      <th>57770</th>\n",
       "      <td>44439</td>\n",
       "      <td>273</td>\n",
       "      <td>202</td>\n",
       "      <td>165</td>\n",
       "      <td>12/11/2013</td>\n",
       "      <td>12/12/2013</td>\n",
       "      <td>86</td>\n",
       "      <td>17789</td>\n",
       "      <td>IT joke mug - that behavior is by design (Black)</td>\n",
       "      <td>Each</td>\n",
       "      <td>9</td>\n",
       "      <td>13.0</td>\n",
       "      <td>15</td>\n",
       "      <td>117.0</td>\n",
       "      <td>17.55</td>\n",
       "      <td>76.5</td>\n",
       "      <td>134.55</td>\n",
       "      <td>9</td>\n",
       "      <td>0</td>\n",
       "      <td>11</td>\n",
       "    </tr>\n",
       "    <tr>\n",
       "      <th>56807</th>\n",
       "      <td>40659</td>\n",
       "      <td>107</td>\n",
       "      <td>1</td>\n",
       "      <td>117</td>\n",
       "      <td>12/4/2013</td>\n",
       "      <td>12/5/2013</td>\n",
       "      <td>83</td>\n",
       "      <td>17485</td>\n",
       "      <td>Alien officer hoodie (Black) XXL</td>\n",
       "      <td>Each</td>\n",
       "      <td>9</td>\n",
       "      <td>35.0</td>\n",
       "      <td>15</td>\n",
       "      <td>315.0</td>\n",
       "      <td>47.25</td>\n",
       "      <td>162.0</td>\n",
       "      <td>362.25</td>\n",
       "      <td>9</td>\n",
       "      <td>0</td>\n",
       "      <td>11</td>\n",
       "    </tr>\n",
       "    <tr>\n",
       "      <th>57869</th>\n",
       "      <td>91464</td>\n",
       "      <td>0</td>\n",
       "      <td>0</td>\n",
       "      <td>169</td>\n",
       "      <td>12/12/2013</td>\n",
       "      <td>12/13/2013</td>\n",
       "      <td>39</td>\n",
       "      <td>17823</td>\n",
       "      <td>Developer joke mug - old C developers never di...</td>\n",
       "      <td>Each</td>\n",
       "      <td>6</td>\n",
       "      <td>13.0</td>\n",
       "      <td>15</td>\n",
       "      <td>78.0</td>\n",
       "      <td>11.7</td>\n",
       "      <td>51.0</td>\n",
       "      <td>89.7</td>\n",
       "      <td>6</td>\n",
       "      <td>0</td>\n",
       "      <td>11</td>\n",
       "    </tr>\n",
       "  </tbody>\n",
       "</table>\n",
       "</div>"
      ],
      "text/plain": [
       "          City Key  Customer Key  Bill To Customer Key  Stock Item Key  \\\n",
       "Sale Key                                                                 \n",
       "54792        77092             0                     0             176   \n",
       "49813        76936             0                     0             109   \n",
       "57770        44439           273                   202             165   \n",
       "56807        40659           107                     1             117   \n",
       "57869        91464             0                     0             169   \n",
       "\n",
       "         Invoice Date Key Delivery Date Key  Salesperson Key  WWI Invoice ID  \\\n",
       "Sale Key                                                                       \n",
       "54792          11/22/2013        11/23/2013               91           16867   \n",
       "49813          10/24/2013        10/25/2013               39           15352   \n",
       "57770          12/11/2013        12/12/2013               86           17789   \n",
       "56807           12/4/2013         12/5/2013               83           17485   \n",
       "57869          12/12/2013        12/13/2013               39           17823   \n",
       "\n",
       "                                                Description Package  Quantity  \\\n",
       "Sale Key                                                                        \n",
       "54792     Developer joke mug - there are 10 types of peo...    Each         6   \n",
       "49813                      Superhero action jacket (Blue) M    Each        10   \n",
       "57770      IT joke mug - that behavior is by design (Black)    Each         9   \n",
       "56807                      Alien officer hoodie (Black) XXL    Each         9   \n",
       "57869     Developer joke mug - old C developers never di...    Each         6   \n",
       "\n",
       "          Unit Price  Tax Rate  Total Excluding Tax  Tax Amount  Profit  \\\n",
       "Sale Key                                                                  \n",
       "54792           13.0        15                 78.0        11.7    51.0   \n",
       "49813           30.0        15                300.0        45.0    80.0   \n",
       "57770           13.0        15                117.0       17.55    76.5   \n",
       "56807           35.0        15                315.0       47.25   162.0   \n",
       "57869           13.0        15                 78.0        11.7    51.0   \n",
       "\n",
       "          Total Including Tax  Total Dry Items  Total Chiller Items  \\\n",
       "Sale Key                                                              \n",
       "54792                    89.7                6                    0   \n",
       "49813                   345.0               10                    0   \n",
       "57770                  134.55                9                    0   \n",
       "56807                  362.25                9                    0   \n",
       "57869                    89.7                6                    0   \n",
       "\n",
       "          Lineage Key  \n",
       "Sale Key               \n",
       "54792              11  \n",
       "49813              11  \n",
       "57770              11  \n",
       "56807              11  \n",
       "57869              11  "
      ]
     },
     "execution_count": 154,
     "metadata": {},
     "output_type": "execute_result"
    }
   ],
   "source": [
    "fact_table.head()"
   ]
  },
  {
   "cell_type": "code",
   "execution_count": 155,
   "id": "f784db01-d0a9-45d6-89d7-af9ba72d3e67",
   "metadata": {},
   "outputs": [],
   "source": [
    "cube = session.create_cube(fact_table)"
   ]
  },
  {
   "cell_type": "code",
   "execution_count": 156,
   "id": "2b573803-4399-4d53-b308-bb3bddd47f8a",
   "metadata": {},
   "outputs": [
    {
     "data": {
      "application/json": {
       "Sales": {
        "Delivery Date Key": [
         "Delivery Date Key"
        ],
        "Description": [
         "Description"
        ],
        "Invoice Date Key": [
         "Invoice Date Key"
        ],
        "Package": [
         "Package"
        ],
        "Sale Key": [
         "Sale Key"
        ]
       }
      },
      "text/html": [
       "<ul>\n",
       "<li>Dimensions\n",
       "  <ul>\n",
       "  <li>Sales\n",
       "    <ul>\n",
       "    <li>Delivery Date Key\n",
       "      <ol>\n",
       "      <li>Delivery Date Key</li>\n",
       "      </ol>    </li>\n",
       "    <li>Description\n",
       "      <ol>\n",
       "      <li>Description</li>\n",
       "      </ol>    </li>\n",
       "    <li>Invoice Date Key\n",
       "      <ol>\n",
       "      <li>Invoice Date Key</li>\n",
       "      </ol>    </li>\n",
       "    <li>Package\n",
       "      <ol>\n",
       "      <li>Package</li>\n",
       "      </ol>    </li>\n",
       "    <li>Sale Key\n",
       "      <ol>\n",
       "      <li>Sale Key</li>\n",
       "      </ol>    </li>\n",
       "    </ul>\n",
       "  </li>\n",
       "  </ul>\n",
       "</li>\n",
       "</ul>\n"
      ],
      "text/plain": [
       "{('Sales', 'Sale Key'): <atoti.hierarchy.Hierarchy object at 0x000002A9EBA00D00>, ('Sales', 'Description'): <atoti.hierarchy.Hierarchy object at 0x000002A9EBA02650>, ('Sales', 'Package'): <atoti.hierarchy.Hierarchy object at 0x000002A9EBA02E30>, ('Sales', 'Invoice Date Key'): <atoti.hierarchy.Hierarchy object at 0x000002A9EBA031C0>, ('Sales', 'Delivery Date Key'): <atoti.hierarchy.Hierarchy object at 0x000002A9EBA02C50>}"
      ]
     },
     "execution_count": 156,
     "metadata": {
      "application/json": {
       "expanded": true,
       "root": "Dimensions"
      }
     },
     "output_type": "execute_result"
    }
   ],
   "source": [
    "h = cube.hierarchies\n",
    "h"
   ]
  },
  {
   "cell_type": "code",
   "execution_count": 157,
   "id": "d9c4eca7-8988-47ca-ac22-b67b6d9e01f7",
   "metadata": {},
   "outputs": [],
   "source": [
    "l = cube.levels"
   ]
  },
  {
   "cell_type": "code",
   "execution_count": 158,
   "id": "054a42d1-acd9-48e0-a25a-02ab7efca20e",
   "metadata": {},
   "outputs": [
    {
     "data": {
      "application/json": {
       "Bill To Customer Key.MEAN": {
        "formatter": "DOUBLE[#,###.00]"
       },
       "Bill To Customer Key.SUM": {
        "formatter": "INT[#,###]"
       },
       "City Key.MEAN": {
        "formatter": "DOUBLE[#,###.00]"
       },
       "City Key.SUM": {
        "formatter": "INT[#,###]"
       },
       "Customer Key.MEAN": {
        "formatter": "DOUBLE[#,###.00]"
       },
       "Customer Key.SUM": {
        "formatter": "INT[#,###]"
       },
       "Lineage Key.MEAN": {
        "formatter": "DOUBLE[#,###.00]"
       },
       "Lineage Key.SUM": {
        "formatter": "INT[#,###]"
       },
       "Profit.MEAN": {
        "formatter": "DOUBLE[#,###.00]"
       },
       "Profit.SUM": {
        "formatter": "DOUBLE[#,###.00]"
       },
       "Quantity.MEAN": {
        "formatter": "DOUBLE[#,###.00]"
       },
       "Quantity.SUM": {
        "formatter": "INT[#,###]"
       },
       "Salesperson Key.MEAN": {
        "formatter": "DOUBLE[#,###.00]"
       },
       "Salesperson Key.SUM": {
        "formatter": "INT[#,###]"
       },
       "Stock Item Key.MEAN": {
        "formatter": "DOUBLE[#,###.00]"
       },
       "Stock Item Key.SUM": {
        "formatter": "INT[#,###]"
       },
       "Tax Amount.MEAN": {
        "formatter": "DOUBLE[#,###.00]"
       },
       "Tax Amount.SUM": {
        "formatter": "DOUBLE[#,###.00]"
       },
       "Tax Rate.MEAN": {
        "formatter": "DOUBLE[#,###.00]"
       },
       "Tax Rate.SUM": {
        "formatter": "INT[#,###]"
       },
       "Total Chiller Items.MEAN": {
        "formatter": "DOUBLE[#,###.00]"
       },
       "Total Chiller Items.SUM": {
        "formatter": "INT[#,###]"
       },
       "Total Dry Items.MEAN": {
        "formatter": "DOUBLE[#,###.00]"
       },
       "Total Dry Items.SUM": {
        "formatter": "INT[#,###]"
       },
       "Total Excluding Tax.MEAN": {
        "formatter": "DOUBLE[#,###.00]"
       },
       "Total Excluding Tax.SUM": {
        "formatter": "DOUBLE[#,###.00]"
       },
       "Total Including Tax.MEAN": {
        "formatter": "DOUBLE[#,###.00]"
       },
       "Total Including Tax.SUM": {
        "formatter": "DOUBLE[#,###.00]"
       },
       "Unit Price.MEAN": {
        "formatter": "DOUBLE[#,###.00]"
       },
       "Unit Price.SUM": {
        "formatter": "DOUBLE[#,###.00]"
       },
       "WWI Invoice ID.MEAN": {
        "formatter": "DOUBLE[#,###.00]"
       },
       "WWI Invoice ID.SUM": {
        "formatter": "INT[#,###]"
       },
       "contributors.COUNT": {
        "formatter": "INT[#,###]"
       }
      },
      "text/html": [
       "<ul>\n",
       "<li>Measures\n",
       "  <ul>\n",
       "  <li>Bill To Customer Key.MEAN\n",
       "    <ul>\n",
       "    <li>formatter: DOUBLE[#,###.00]</li>\n",
       "    </ul>\n",
       "  </li>\n",
       "  <li>Bill To Customer Key.SUM\n",
       "    <ul>\n",
       "    <li>formatter: INT[#,###]</li>\n",
       "    </ul>\n",
       "  </li>\n",
       "  <li>City Key.MEAN\n",
       "    <ul>\n",
       "    <li>formatter: DOUBLE[#,###.00]</li>\n",
       "    </ul>\n",
       "  </li>\n",
       "  <li>City Key.SUM\n",
       "    <ul>\n",
       "    <li>formatter: INT[#,###]</li>\n",
       "    </ul>\n",
       "  </li>\n",
       "  <li>Customer Key.MEAN\n",
       "    <ul>\n",
       "    <li>formatter: DOUBLE[#,###.00]</li>\n",
       "    </ul>\n",
       "  </li>\n",
       "  <li>Customer Key.SUM\n",
       "    <ul>\n",
       "    <li>formatter: INT[#,###]</li>\n",
       "    </ul>\n",
       "  </li>\n",
       "  <li>Lineage Key.MEAN\n",
       "    <ul>\n",
       "    <li>formatter: DOUBLE[#,###.00]</li>\n",
       "    </ul>\n",
       "  </li>\n",
       "  <li>Lineage Key.SUM\n",
       "    <ul>\n",
       "    <li>formatter: INT[#,###]</li>\n",
       "    </ul>\n",
       "  </li>\n",
       "  <li>Profit.MEAN\n",
       "    <ul>\n",
       "    <li>formatter: DOUBLE[#,###.00]</li>\n",
       "    </ul>\n",
       "  </li>\n",
       "  <li>Profit.SUM\n",
       "    <ul>\n",
       "    <li>formatter: DOUBLE[#,###.00]</li>\n",
       "    </ul>\n",
       "  </li>\n",
       "  <li>Quantity.MEAN\n",
       "    <ul>\n",
       "    <li>formatter: DOUBLE[#,###.00]</li>\n",
       "    </ul>\n",
       "  </li>\n",
       "  <li>Quantity.SUM\n",
       "    <ul>\n",
       "    <li>formatter: INT[#,###]</li>\n",
       "    </ul>\n",
       "  </li>\n",
       "  <li>Salesperson Key.MEAN\n",
       "    <ul>\n",
       "    <li>formatter: DOUBLE[#,###.00]</li>\n",
       "    </ul>\n",
       "  </li>\n",
       "  <li>Salesperson Key.SUM\n",
       "    <ul>\n",
       "    <li>formatter: INT[#,###]</li>\n",
       "    </ul>\n",
       "  </li>\n",
       "  <li>Stock Item Key.MEAN\n",
       "    <ul>\n",
       "    <li>formatter: DOUBLE[#,###.00]</li>\n",
       "    </ul>\n",
       "  </li>\n",
       "  <li>Stock Item Key.SUM\n",
       "    <ul>\n",
       "    <li>formatter: INT[#,###]</li>\n",
       "    </ul>\n",
       "  </li>\n",
       "  <li>Tax Amount.MEAN\n",
       "    <ul>\n",
       "    <li>formatter: DOUBLE[#,###.00]</li>\n",
       "    </ul>\n",
       "  </li>\n",
       "  <li>Tax Amount.SUM\n",
       "    <ul>\n",
       "    <li>formatter: DOUBLE[#,###.00]</li>\n",
       "    </ul>\n",
       "  </li>\n",
       "  <li>Tax Rate.MEAN\n",
       "    <ul>\n",
       "    <li>formatter: DOUBLE[#,###.00]</li>\n",
       "    </ul>\n",
       "  </li>\n",
       "  <li>Tax Rate.SUM\n",
       "    <ul>\n",
       "    <li>formatter: INT[#,###]</li>\n",
       "    </ul>\n",
       "  </li>\n",
       "  <li>Total Chiller Items.MEAN\n",
       "    <ul>\n",
       "    <li>formatter: DOUBLE[#,###.00]</li>\n",
       "    </ul>\n",
       "  </li>\n",
       "  <li>Total Chiller Items.SUM\n",
       "    <ul>\n",
       "    <li>formatter: INT[#,###]</li>\n",
       "    </ul>\n",
       "  </li>\n",
       "  <li>Total Dry Items.MEAN\n",
       "    <ul>\n",
       "    <li>formatter: DOUBLE[#,###.00]</li>\n",
       "    </ul>\n",
       "  </li>\n",
       "  <li>Total Dry Items.SUM\n",
       "    <ul>\n",
       "    <li>formatter: INT[#,###]</li>\n",
       "    </ul>\n",
       "  </li>\n",
       "  <li>Total Excluding Tax.MEAN\n",
       "    <ul>\n",
       "    <li>formatter: DOUBLE[#,###.00]</li>\n",
       "    </ul>\n",
       "  </li>\n",
       "  <li>Total Excluding Tax.SUM\n",
       "    <ul>\n",
       "    <li>formatter: DOUBLE[#,###.00]</li>\n",
       "    </ul>\n",
       "  </li>\n",
       "  <li>Total Including Tax.MEAN\n",
       "    <ul>\n",
       "    <li>formatter: DOUBLE[#,###.00]</li>\n",
       "    </ul>\n",
       "  </li>\n",
       "  <li>Total Including Tax.SUM\n",
       "    <ul>\n",
       "    <li>formatter: DOUBLE[#,###.00]</li>\n",
       "    </ul>\n",
       "  </li>\n",
       "  <li>Unit Price.MEAN\n",
       "    <ul>\n",
       "    <li>formatter: DOUBLE[#,###.00]</li>\n",
       "    </ul>\n",
       "  </li>\n",
       "  <li>Unit Price.SUM\n",
       "    <ul>\n",
       "    <li>formatter: DOUBLE[#,###.00]</li>\n",
       "    </ul>\n",
       "  </li>\n",
       "  <li>WWI Invoice ID.MEAN\n",
       "    <ul>\n",
       "    <li>formatter: DOUBLE[#,###.00]</li>\n",
       "    </ul>\n",
       "  </li>\n",
       "  <li>WWI Invoice ID.SUM\n",
       "    <ul>\n",
       "    <li>formatter: INT[#,###]</li>\n",
       "    </ul>\n",
       "  </li>\n",
       "  <li>contributors.COUNT\n",
       "    <ul>\n",
       "    <li>formatter: INT[#,###]</li>\n",
       "    </ul>\n",
       "  </li>\n",
       "  </ul>\n",
       "</li>\n",
       "</ul>\n"
      ],
      "text/plain": [
       "{'City Key.SUM': <atoti.measure.Measure object at 0x000002A9EB9D17E0>, 'Tax Rate.MEAN': <atoti.measure.Measure object at 0x000002A9EBA7FD00>, 'Total Chiller Items.MEAN': <atoti.measure.Measure object at 0x000002A9EBA7D780>, 'Bill To Customer Key.SUM': <atoti.measure.Measure object at 0x000002A9EBA7FF10>, 'Tax Amount.MEAN': <atoti.measure.Measure object at 0x000002A9EBA7D930>, 'Tax Rate.SUM': <atoti.measure.Measure object at 0x000002A9EBA7FC10>, 'Total Dry Items.SUM': <atoti.measure.Measure object at 0x000002A9EBA7D570>, 'Stock Item Key.MEAN': <atoti.measure.Measure object at 0x000002A9EA7B54B0>, 'Profit.MEAN': <atoti.measure.Measure object at 0x000002A9EA7B5C60>, 'Salesperson Key.MEAN': <atoti.measure.Measure object at 0x000002A9EA7B4C70>, 'Customer Key.SUM': <atoti.measure.Measure object at 0x000002A9EA7B57E0>, 'WWI Invoice ID.SUM': <atoti.measure.Measure object at 0x000002A9EA7B5090>, 'Quantity.SUM': <atoti.measure.Measure object at 0x000002A9EA7B5F00>, 'update.TIMESTAMP': <atoti.measure.Measure object at 0x000002A9EA7B4970>, 'Total Including Tax.MEAN': <atoti.measure.Measure object at 0x000002A9E7C7C760>, 'Total Excluding Tax.SUM': <atoti.measure.Measure object at 0x000002A9E7C7C8B0>, 'Lineage Key.MEAN': <atoti.measure.Measure object at 0x000002A9E7C7FE80>, 'Unit Price.MEAN': <atoti.measure.Measure object at 0x000002A9E7C7CD00>, 'City Key.MEAN': <atoti.measure.Measure object at 0x000002A9E7C7E5F0>, 'Bill To Customer Key.MEAN': <atoti.measure.Measure object at 0x000002A9E7C7C6D0>, 'Tax Amount.SUM': <atoti.measure.Measure object at 0x000002A9E7C7C9A0>, 'Profit.SUM': <atoti.measure.Measure object at 0x000002A9E7C7FC70>, 'Quantity.MEAN': <atoti.measure.Measure object at 0x000002A9E7C7E4D0>, 'Total Including Tax.SUM': <atoti.measure.Measure object at 0x000002A9E7C7EA10>, 'Stock Item Key.SUM': <atoti.measure.Measure object at 0x000002A9E7C7CE80>, 'Customer Key.MEAN': <atoti.measure.Measure object at 0x000002A9E7C7FCA0>, 'Total Dry Items.MEAN': <atoti.measure.Measure object at 0x000002A9E7C7E2F0>, 'Total Chiller Items.SUM': <atoti.measure.Measure object at 0x000002A9E7C7FCD0>, 'Total Excluding Tax.MEAN': <atoti.measure.Measure object at 0x000002A9EF7BE5C0>, 'Salesperson Key.SUM': <atoti.measure.Measure object at 0x000002A9EF7BE710>, 'contributors.COUNT': <atoti.measure.Measure object at 0x000002A9EBA36F20>, 'WWI Invoice ID.MEAN': <atoti.measure.Measure object at 0x000002A9EBA372E0>, 'Unit Price.SUM': <atoti.measure.Measure object at 0x000002A9EBA377C0>, 'Lineage Key.SUM': <atoti.measure.Measure object at 0x000002A9EBA37010>}"
      ]
     },
     "execution_count": 158,
     "metadata": {
      "application/json": {
       "expanded": false,
       "root": "Measures"
      }
     },
     "output_type": "execute_result"
    }
   ],
   "source": [
    "m = cube.measures\n",
    "m"
   ]
  },
  {
   "cell_type": "code",
   "execution_count": 159,
   "id": "4d583b0b-ac6e-456f-921b-12e656967f56",
   "metadata": {},
   "outputs": [
    {
     "data": {
      "application/vnd.atoti.convert-mdx-query-result-to-widget.v0+json": {
       "mdx": "SELECT {[Measures].[Quantity.SUM]} ON COLUMNS FROM [Sales]",
       "sessionId": "1741544292_580331",
       "widgetCreationCode": "session.widget"
      },
      "text/html": [
       "<div>\n",
       "<style scoped>\n",
       "    .dataframe tbody tr th:only-of-type {\n",
       "        vertical-align: middle;\n",
       "    }\n",
       "\n",
       "    .dataframe tbody tr th {\n",
       "        vertical-align: top;\n",
       "    }\n",
       "\n",
       "    .dataframe thead th {\n",
       "        text-align: right;\n",
       "    }\n",
       "</style>\n",
       "<table border=\"1\" class=\"dataframe\">\n",
       "  <thead>\n",
       "    <tr style=\"text-align: right;\">\n",
       "      <th></th>\n",
       "      <th>Quantity.SUM</th>\n",
       "    </tr>\n",
       "  </thead>\n",
       "  <tbody>\n",
       "    <tr>\n",
       "      <th>0</th>\n",
       "      <td>1,028,670</td>\n",
       "    </tr>\n",
       "  </tbody>\n",
       "</table>\n",
       "</div>"
      ],
      "text/plain": [
       "  Quantity.SUM\n",
       "0    1,028,670"
      ]
     },
     "execution_count": 159,
     "metadata": {},
     "output_type": "execute_result"
    }
   ],
   "source": [
    "cube.query(m[\"Quantity.SUM\"])"
   ]
  },
  {
   "cell_type": "code",
   "execution_count": 160,
   "id": "b16cf7f9-3cbc-48a6-bd0b-5c5010e06589",
   "metadata": {},
   "outputs": [
    {
     "data": {
      "application/vnd.atoti.convert-mdx-query-result-to-widget.v0+json": {
       "mdx": "SELECT {[Measures].[Quantity.SUM]} ON COLUMNS, NON EMPTY Hierarchize(Descendants({[Sales].[Sale Key].[ALL].[AllMember]}, 1, SELF_AND_BEFORE)) ON ROWS FROM [Sales]",
       "sessionId": "1741544292_580331",
       "widgetCreationCode": "session.widget"
      },
      "text/html": [
       "<div>\n",
       "<style scoped>\n",
       "    .dataframe tbody tr th:only-of-type {\n",
       "        vertical-align: middle;\n",
       "    }\n",
       "\n",
       "    .dataframe tbody tr th {\n",
       "        vertical-align: top;\n",
       "    }\n",
       "\n",
       "    .dataframe thead th {\n",
       "        text-align: right;\n",
       "    }\n",
       "</style>\n",
       "<table border=\"1\" class=\"dataframe\">\n",
       "  <thead>\n",
       "    <tr style=\"text-align: right;\">\n",
       "      <th></th>\n",
       "      <th>Quantity.SUM</th>\n",
       "    </tr>\n",
       "    <tr>\n",
       "      <th>Sale Key</th>\n",
       "      <th></th>\n",
       "    </tr>\n",
       "  </thead>\n",
       "  <tbody>\n",
       "    <tr>\n",
       "      <th>2</th>\n",
       "      <td>9</td>\n",
       "    </tr>\n",
       "    <tr>\n",
       "      <th>3</th>\n",
       "      <td>9</td>\n",
       "    </tr>\n",
       "    <tr>\n",
       "      <th>28</th>\n",
       "      <td>10</td>\n",
       "    </tr>\n",
       "    <tr>\n",
       "      <th>29</th>\n",
       "      <td>8</td>\n",
       "    </tr>\n",
       "    <tr>\n",
       "      <th>30</th>\n",
       "      <td>4</td>\n",
       "    </tr>\n",
       "    <tr>\n",
       "      <th>...</th>\n",
       "      <td>...</td>\n",
       "    </tr>\n",
       "    <tr>\n",
       "      <th>228199</th>\n",
       "      <td>72</td>\n",
       "    </tr>\n",
       "    <tr>\n",
       "      <th>228200</th>\n",
       "      <td>9</td>\n",
       "    </tr>\n",
       "    <tr>\n",
       "      <th>228201</th>\n",
       "      <td>1</td>\n",
       "    </tr>\n",
       "    <tr>\n",
       "      <th>228210</th>\n",
       "      <td>48</td>\n",
       "    </tr>\n",
       "    <tr>\n",
       "      <th>228211</th>\n",
       "      <td>10</td>\n",
       "    </tr>\n",
       "  </tbody>\n",
       "</table>\n",
       "<p>26397 rows × 1 columns</p>\n",
       "</div>"
      ],
      "text/plain": [
       "         Quantity.SUM\n",
       "Sale Key             \n",
       "2                   9\n",
       "3                   9\n",
       "28                 10\n",
       "29                  8\n",
       "30                  4\n",
       "...               ...\n",
       "228199             72\n",
       "228200              9\n",
       "228201              1\n",
       "228210             48\n",
       "228211             10\n",
       "\n",
       "[26397 rows x 1 columns]"
      ]
     },
     "execution_count": 160,
     "metadata": {},
     "output_type": "execute_result"
    }
   ],
   "source": [
    "cube.query(m[\"Quantity.SUM\"], levels=[l[\"Sale Key\"]])"
   ]
  },
  {
   "cell_type": "code",
   "execution_count": 161,
   "id": "953eda54-77dd-4ea8-8447-ec0137557ac4",
   "metadata": {},
   "outputs": [
    {
     "data": {
      "application/vnd.atoti.convert-mdx-query-result-to-widget.v0+json": {
       "mdx": "SELECT {[Measures].[Quantity.SUM]} ON COLUMNS FROM [Sales] WHERE [Sales].[Sale Key].[ALL].[AllMember].[2]",
       "sessionId": "1741544292_580331",
       "widgetCreationCode": "session.widget"
      },
      "text/html": [
       "<div>\n",
       "<style scoped>\n",
       "    .dataframe tbody tr th:only-of-type {\n",
       "        vertical-align: middle;\n",
       "    }\n",
       "\n",
       "    .dataframe tbody tr th {\n",
       "        vertical-align: top;\n",
       "    }\n",
       "\n",
       "    .dataframe thead th {\n",
       "        text-align: right;\n",
       "    }\n",
       "</style>\n",
       "<table border=\"1\" class=\"dataframe\">\n",
       "  <thead>\n",
       "    <tr style=\"text-align: right;\">\n",
       "      <th></th>\n",
       "      <th>Quantity.SUM</th>\n",
       "    </tr>\n",
       "  </thead>\n",
       "  <tbody>\n",
       "    <tr>\n",
       "      <th>0</th>\n",
       "      <td>9</td>\n",
       "    </tr>\n",
       "  </tbody>\n",
       "</table>\n",
       "</div>"
      ],
      "text/plain": [
       "  Quantity.SUM\n",
       "0            9"
      ]
     },
     "execution_count": 161,
     "metadata": {},
     "output_type": "execute_result"
    }
   ],
   "source": [
    "cube.query(\n",
    "    m[\"Quantity.SUM\"],\n",
    "    filter=l[\"Sale Key\"] == \"2\",\n",
    ")"
   ]
  },
  {
   "cell_type": "code",
   "execution_count": 162,
   "id": "78bd6b7d-2c19-470a-959e-0b6055c3b8ee",
   "metadata": {},
   "outputs": [
    {
     "data": {
      "application/vnd.atoti.convert-mdx-query-result-to-widget.v0+json": {
       "mdx": "SELECT {[Measures].[Quantity.SUM]} ON COLUMNS, NON EMPTY Crossjoin(Hierarchize(Descendants({[Sales].[Delivery Date Key].[ALL].[AllMember]}, 1, SELF_AND_BEFORE)), Hierarchize(Descendants({[Sales].[Description].[ALL].[AllMember]}, 1, SELF_AND_BEFORE))) ON ROWS FROM [Sales]",
       "sessionId": "1741544292_580331",
       "widgetCreationCode": "session.widget"
      },
      "text/html": [
       "<div>\n",
       "<style scoped>\n",
       "    .dataframe tbody tr th:only-of-type {\n",
       "        vertical-align: middle;\n",
       "    }\n",
       "\n",
       "    .dataframe tbody tr th {\n",
       "        vertical-align: top;\n",
       "    }\n",
       "\n",
       "    .dataframe thead th {\n",
       "        text-align: right;\n",
       "    }\n",
       "</style>\n",
       "<table border=\"1\" class=\"dataframe\">\n",
       "  <thead>\n",
       "    <tr style=\"text-align: right;\">\n",
       "      <th></th>\n",
       "      <th></th>\n",
       "      <th>Quantity.SUM</th>\n",
       "    </tr>\n",
       "    <tr>\n",
       "      <th>Delivery Date Key</th>\n",
       "      <th>Description</th>\n",
       "      <th></th>\n",
       "    </tr>\n",
       "  </thead>\n",
       "  <tbody>\n",
       "    <tr>\n",
       "      <th rowspan=\"5\" valign=\"top\">1/1/2014</th>\n",
       "      <th>10 mm Double sided bubble wrap 20m</th>\n",
       "      <td>100</td>\n",
       "    </tr>\n",
       "    <tr>\n",
       "      <th>20 mm Anti static bubble wrap (Blue) 20m</th>\n",
       "      <td>100</td>\n",
       "    </tr>\n",
       "    <tr>\n",
       "      <th>32 mm Anti static bubble wrap (Blue) 50m</th>\n",
       "      <td>10</td>\n",
       "    </tr>\n",
       "    <tr>\n",
       "      <th>Air cushion film 200mmx100mm 325m</th>\n",
       "      <td>9</td>\n",
       "    </tr>\n",
       "    <tr>\n",
       "      <th>Air cushion film 200mmx200mm 325m</th>\n",
       "      <td>10</td>\n",
       "    </tr>\n",
       "    <tr>\n",
       "      <th>...</th>\n",
       "      <th>...</th>\n",
       "      <td>...</td>\n",
       "    </tr>\n",
       "    <tr>\n",
       "      <th rowspan=\"5\" valign=\"top\">NULL</th>\n",
       "      <th>Superhero action jacket (Blue) S</th>\n",
       "      <td>8</td>\n",
       "    </tr>\n",
       "    <tr>\n",
       "      <th>Superhero action jacket (Blue) XS</th>\n",
       "      <td>2</td>\n",
       "    </tr>\n",
       "    <tr>\n",
       "      <th>The Gu red shirt XML tag t-shirt (Black) L</th>\n",
       "      <td>48</td>\n",
       "    </tr>\n",
       "    <tr>\n",
       "      <th>The Gu red shirt XML tag t-shirt (White) XL</th>\n",
       "      <td>120</td>\n",
       "    </tr>\n",
       "    <tr>\n",
       "      <th>USB food flash drive - sushi roll</th>\n",
       "      <td>6</td>\n",
       "    </tr>\n",
       "  </tbody>\n",
       "</table>\n",
       "<p>24823 rows × 1 columns</p>\n",
       "</div>"
      ],
      "text/plain": [
       "                                                              Quantity.SUM\n",
       "Delivery Date Key Description                                             \n",
       "1/1/2014          10 mm Double sided bubble wrap 20m                   100\n",
       "                  20 mm Anti static bubble wrap (Blue) 20m             100\n",
       "                  32 mm Anti static bubble wrap (Blue) 50m              10\n",
       "                  Air cushion film 200mmx100mm 325m                      9\n",
       "                  Air cushion film 200mmx200mm 325m                     10\n",
       "...                                                                    ...\n",
       "NULL              Superhero action jacket (Blue) S                       8\n",
       "                  Superhero action jacket (Blue) XS                      2\n",
       "                  The Gu red shirt XML tag t-shirt (Black) L            48\n",
       "                  The Gu red shirt XML tag t-shirt (White) XL          120\n",
       "                  USB food flash drive - sushi roll                      6\n",
       "\n",
       "[24823 rows x 1 columns]"
      ]
     },
     "execution_count": 162,
     "metadata": {},
     "output_type": "execute_result"
    }
   ],
   "source": [
    "cube.query(m[\"Quantity.SUM\"], levels=[l[\"Delivery Date Key\"], l[\"Description\"]])"
   ]
  },
  {
   "cell_type": "code",
   "execution_count": 163,
   "id": "58284658-3157-4d24-aa5b-f200785d0925",
   "metadata": {},
   "outputs": [
    {
     "data": {
      "application/vnd.atoti.convert-mdx-query-result-to-widget.v0+json": {
       "mdx": "SELECT {[Measures].[Quantity.SUM]} ON COLUMNS, NON EMPTY Crossjoin(Hierarchize(Descendants({[Sales].[Delivery Date Key].[ALL].[AllMember]}, 1, SELF_AND_BEFORE)), Hierarchize(Descendants({[Sales].[Description].[ALL].[AllMember]}, 1, SELF_AND_BEFORE))) ON ROWS FROM [Sales] WHERE [Sales].[Sale Key].[ALL].[AllMember].[2]",
       "sessionId": "1741544292_580331",
       "widgetCreationCode": "session.widget"
      },
      "text/html": [
       "<div>\n",
       "<style scoped>\n",
       "    .dataframe tbody tr th:only-of-type {\n",
       "        vertical-align: middle;\n",
       "    }\n",
       "\n",
       "    .dataframe tbody tr th {\n",
       "        vertical-align: top;\n",
       "    }\n",
       "\n",
       "    .dataframe thead th {\n",
       "        text-align: right;\n",
       "    }\n",
       "</style>\n",
       "<table border=\"1\" class=\"dataframe\">\n",
       "  <thead>\n",
       "    <tr style=\"text-align: right;\">\n",
       "      <th></th>\n",
       "      <th></th>\n",
       "      <th>Quantity.SUM</th>\n",
       "    </tr>\n",
       "    <tr>\n",
       "      <th>Delivery Date Key</th>\n",
       "      <th>Description</th>\n",
       "      <th></th>\n",
       "    </tr>\n",
       "  </thead>\n",
       "  <tbody>\n",
       "    <tr>\n",
       "      <th>1/2/2013</th>\n",
       "      <th>Developer joke mug - old C developers never die (White)</th>\n",
       "      <td>9</td>\n",
       "    </tr>\n",
       "  </tbody>\n",
       "</table>\n",
       "</div>"
      ],
      "text/plain": [
       "                                                                     Quantity.SUM\n",
       "Delivery Date Key Description                                                    \n",
       "1/2/2013          Developer joke mug - old C developers never die...            9"
      ]
     },
     "execution_count": 163,
     "metadata": {},
     "output_type": "execute_result"
    }
   ],
   "source": [
    "cube.query(\n",
    "    m[\"Quantity.SUM\"],\n",
    "    levels=[l[\"Delivery Date Key\"], l[\"Description\"]],\n",
    "    filter=l[\"Sale Key\"] == \"2\",\n",
    ")"
   ]
  },
  {
   "cell_type": "code",
   "execution_count": 55,
   "id": "d74f27aa-62f0-4886-b204-08eb6c57f5cc",
   "metadata": {
    "atoti": {
     "widget": {
      "mapping": {
       "columns": [
        "ALL_MEASURES"
       ],
       "measures": [
        "[Measures].[Quantity.SUM]"
       ],
       "rows": [
        "[Sales].[Sale Key].[Sale Key]"
       ]
      },
      "query": {
       "mdx": "SELECT NON EMPTY {[Measures].[Quantity.SUM]} ON COLUMNS, NON EMPTY Hierarchize(Descendants({[Sales].[Sale Key].[ALL].[AllMember]}, 1, SELF_AND_BEFORE)) ON ROWS FROM [Sales] CELL PROPERTIES VALUE, FORMATTED_VALUE, BACK_COLOR, FORE_COLOR, FONT_FLAGS",
       "updateMode": "once"
      },
      "serverKey": "default",
      "widgetKey": "pivot-table"
     }
    }
   },
   "outputs": [
    {
     "data": {
      "application/vnd.atoti.widget.v0+json": {
       "sessionId": "1741384240_281415",
       "sessionUrl": "http://localhost:61486",
       "widgetCreationCode": "session.widget"
      },
      "text/html": [
       "<img height=\"0\" width=\"0\" src=\"data:,\" />"
      ],
      "text/plain": [
       "Open the notebook in JupyterLab with the Atoti JupyterLab extension enabled to build this widget."
      ]
     },
     "metadata": {},
     "output_type": "display_data"
    }
   ],
   "source": [
    "session.widget"
   ]
  },
  {
   "cell_type": "code",
   "execution_count": 56,
   "id": "a63d2583-213a-49e4-bd18-01233ac0cd75",
   "metadata": {
    "atoti": {
     "widget": {
      "mapping": {
       "horizontalSubplots": [],
       "secondaryValues": [],
       "splitBy": [
        "ALL_MEASURES"
       ],
       "values": [
        "[Measures].[Quantity.SUM]"
       ],
       "verticalSubplots": [],
       "xAxis": [
        "[Sales].[Sale Key].[Sale Key]"
       ]
      },
      "query": {
       "mdx": "SELECT NON EMPTY {[Measures].[Quantity.SUM]} ON COLUMNS, NON EMPTY Hierarchize(Descendants({[Sales].[Sale Key].[ALL].[AllMember]}, 1, SELF_AND_BEFORE)) ON ROWS FROM [Sales] CELL PROPERTIES VALUE, FORMATTED_VALUE, BACK_COLOR, FORE_COLOR, FONT_FLAGS",
       "updateMode": "once"
      },
      "serverKey": "default",
      "widgetKey": "plotly-line-chart"
     }
    }
   },
   "outputs": [
    {
     "data": {
      "application/vnd.atoti.widget.v0+json": {
       "sessionId": "1741384240_281415",
       "sessionUrl": "http://localhost:61486",
       "widgetCreationCode": "session.widget"
      },
      "text/plain": [
       "Open the notebook in JupyterLab with the Atoti JupyterLab extension enabled to build this widget."
      ]
     },
     "metadata": {},
     "output_type": "display_data"
    }
   ],
   "source": [
    "session.widget"
   ]
  },
  {
   "cell_type": "code",
   "execution_count": 100,
   "id": "bf29190c-a3f5-4f93-a322-f220aa1fbc6c",
   "metadata": {
    "atoti": {
     "widget": {
      "mapping": {
       "columns": [
        "ALL_MEASURES"
       ],
       "measures": [
        "[Measures].[Quantity.SUM]",
        "[Measures].[Quantity.MEAN]"
       ],
       "rows": [
        "[Sales].[Delivery Date Key].[Delivery Date Key] => [StockItem].[Stock Item].[Stock Item]"
       ]
      },
      "query": {
       "mdx": "SELECT NON EMPTY {[Measures].[Quantity.SUM], [Measures].[Quantity.MEAN]} ON COLUMNS, NON EMPTY Hierarchize(Union(Crossjoin(Descendants({[Sales].[Delivery Date Key].[ALL].[AllMember]}, 1, SELF_AND_BEFORE), [StockItem].[Stock Item].DefaultMember), Crossjoin([Sales].[Delivery Date Key].[ALL].[AllMember].[1/10/2015], Hierarchize(Descendants({[StockItem].[Stock Item].[ALL].[AllMember]}, 1, SELF_AND_BEFORE))))) ON ROWS FROM [Sales] CELL PROPERTIES VALUE, FORMATTED_VALUE, BACK_COLOR, FORE_COLOR, FONT_FLAGS",
       "updateMode": "once"
      },
      "serverKey": "default",
      "widgetKey": "pivot-table"
     }
    }
   },
   "outputs": [
    {
     "data": {
      "application/vnd.atoti.widget.v0+json": {
       "sessionId": "1741384240_281415",
       "sessionUrl": "http://localhost:61486",
       "widgetCreationCode": "session.widget"
      },
      "text/plain": [
       "Open the notebook in JupyterLab with the Atoti JupyterLab extension enabled to build this widget."
      ]
     },
     "metadata": {},
     "output_type": "display_data"
    }
   ],
   "source": [
    "session.widget"
   ]
  },
  {
   "cell_type": "code",
   "execution_count": 101,
   "id": "3999c050-1811-4833-b633-08f524aff087",
   "metadata": {
    "atoti": {
     "widget": {
      "filters": [
       {
        "dimensionName": "Date",
        "hierarchyName": "Short Month",
        "isExclusionFilter": false,
        "members": [
         [
          "AllMember",
          "Feb"
         ],
         [
          "AllMember",
          "Jan"
         ],
         [
          "AllMember",
          "Mar"
         ],
         [
          "AllMember",
          "Apr"
         ]
        ],
        "type": "members"
       }
      ],
      "mapping": {
       "horizontalSubplots": [],
       "secondaryValues": [],
       "splitBy": [
        "ALL_MEASURES"
       ],
       "values": [
        "[Measures].[Quantity.SUM]"
       ],
       "verticalSubplots": [],
       "xAxis": [
        "[Date].[Short Month].[Short Month]"
       ]
      },
      "query": {
       "mdx": "SELECT NON EMPTY {[Measures].[Quantity.SUM]} ON COLUMNS, NON EMPTY Hierarchize(Descendants({[Date].[Short Month].[ALL].[AllMember]}, 1, SELF_AND_BEFORE)) ON ROWS FROM [Sales] CELL PROPERTIES VALUE, FORMATTED_VALUE, BACK_COLOR, FORE_COLOR, FONT_FLAGS",
       "updateMode": "once"
      },
      "serverKey": "default",
      "widgetKey": "plotly-line-chart"
     }
    }
   },
   "outputs": [
    {
     "data": {
      "application/vnd.atoti.widget.v0+json": {
       "sessionId": "1741384240_281415",
       "sessionUrl": "http://localhost:61486",
       "widgetCreationCode": "session.widget"
      },
      "text/plain": [
       "Open the notebook in JupyterLab with the Atoti JupyterLab extension enabled to build this widget."
      ]
     },
     "metadata": {},
     "output_type": "display_data"
    }
   ],
   "source": [
    "session.widget"
   ]
  },
  {
   "cell_type": "code",
   "execution_count": 102,
   "id": "252f46c1-d8ad-428a-a3a8-48392eddae72",
   "metadata": {},
   "outputs": [
    {
     "data": {
      "application/vnd.atoti.link.v0+json": {
       "path": "",
       "sessionUrl": "http://localhost:61486"
      },
      "text/plain": [
       "http://localhost:61486"
      ]
     },
     "execution_count": 102,
     "metadata": {},
     "output_type": "execute_result"
    }
   ],
   "source": [
    "session.link"
   ]
  },
  {
   "cell_type": "code",
   "execution_count": 165,
   "id": "41a6dcd0-9024-430a-a03e-ca3129f94ca2",
   "metadata": {},
   "outputs": [],
   "source": [
    "date_table = session.read_csv(\n",
    "    r\"Datasets/WWI/DimDate.csv\", \n",
    "    keys=[\"Date\"], \n",
    "    table_name=\"Date\"\n",
    ")"
   ]
  },
  {
   "cell_type": "code",
   "execution_count": 166,
   "id": "febd6501-90ce-4d0a-9aa9-6ac142a20166",
   "metadata": {},
   "outputs": [
    {
     "data": {
      "text/html": [
       "<div>\n",
       "<style scoped>\n",
       "    .dataframe tbody tr th:only-of-type {\n",
       "        vertical-align: middle;\n",
       "    }\n",
       "\n",
       "    .dataframe tbody tr th {\n",
       "        vertical-align: top;\n",
       "    }\n",
       "\n",
       "    .dataframe thead th {\n",
       "        text-align: right;\n",
       "    }\n",
       "</style>\n",
       "<table border=\"1\" class=\"dataframe\">\n",
       "  <thead>\n",
       "    <tr style=\"text-align: right;\">\n",
       "      <th></th>\n",
       "      <th>Day Number</th>\n",
       "      <th>Day</th>\n",
       "      <th>Month</th>\n",
       "      <th>Short Month</th>\n",
       "      <th>Calendar Month Number</th>\n",
       "      <th>Calendar Month Label</th>\n",
       "      <th>Calendar Year</th>\n",
       "      <th>Calendar Year Label</th>\n",
       "      <th>Fiscal Month Number</th>\n",
       "      <th>Fiscal Month Label</th>\n",
       "      <th>Fiscal Year</th>\n",
       "      <th>Fiscal Year Label</th>\n",
       "      <th>ISO Week Number</th>\n",
       "    </tr>\n",
       "    <tr>\n",
       "      <th>Date</th>\n",
       "      <th></th>\n",
       "      <th></th>\n",
       "      <th></th>\n",
       "      <th></th>\n",
       "      <th></th>\n",
       "      <th></th>\n",
       "      <th></th>\n",
       "      <th></th>\n",
       "      <th></th>\n",
       "      <th></th>\n",
       "      <th></th>\n",
       "      <th></th>\n",
       "      <th></th>\n",
       "    </tr>\n",
       "  </thead>\n",
       "  <tbody>\n",
       "    <tr>\n",
       "      <th>1/7/2013</th>\n",
       "      <td>7</td>\n",
       "      <td>7</td>\n",
       "      <td>January</td>\n",
       "      <td>Jan</td>\n",
       "      <td>1</td>\n",
       "      <td>CY2013-Jan</td>\n",
       "      <td>2013</td>\n",
       "      <td>CY2013</td>\n",
       "      <td>3</td>\n",
       "      <td>FY2013-Jan</td>\n",
       "      <td>2013</td>\n",
       "      <td>FY2013</td>\n",
       "      <td>2</td>\n",
       "    </tr>\n",
       "    <tr>\n",
       "      <th>3/26/2015</th>\n",
       "      <td>26</td>\n",
       "      <td>26</td>\n",
       "      <td>March</td>\n",
       "      <td>Mar</td>\n",
       "      <td>3</td>\n",
       "      <td>CY2015-Mar</td>\n",
       "      <td>2015</td>\n",
       "      <td>CY2015</td>\n",
       "      <td>5</td>\n",
       "      <td>FY2015-Mar</td>\n",
       "      <td>2015</td>\n",
       "      <td>FY2015</td>\n",
       "      <td>13</td>\n",
       "    </tr>\n",
       "    <tr>\n",
       "      <th>1/15/2013</th>\n",
       "      <td>15</td>\n",
       "      <td>15</td>\n",
       "      <td>January</td>\n",
       "      <td>Jan</td>\n",
       "      <td>1</td>\n",
       "      <td>CY2013-Jan</td>\n",
       "      <td>2013</td>\n",
       "      <td>CY2013</td>\n",
       "      <td>3</td>\n",
       "      <td>FY2013-Jan</td>\n",
       "      <td>2013</td>\n",
       "      <td>FY2013</td>\n",
       "      <td>3</td>\n",
       "    </tr>\n",
       "    <tr>\n",
       "      <th>4/3/2015</th>\n",
       "      <td>3</td>\n",
       "      <td>3</td>\n",
       "      <td>April</td>\n",
       "      <td>Apr</td>\n",
       "      <td>4</td>\n",
       "      <td>CY2015-Apr</td>\n",
       "      <td>2015</td>\n",
       "      <td>CY2015</td>\n",
       "      <td>6</td>\n",
       "      <td>FY2015-Apr</td>\n",
       "      <td>2015</td>\n",
       "      <td>FY2015</td>\n",
       "      <td>14</td>\n",
       "    </tr>\n",
       "    <tr>\n",
       "      <th>1/23/2013</th>\n",
       "      <td>23</td>\n",
       "      <td>23</td>\n",
       "      <td>January</td>\n",
       "      <td>Jan</td>\n",
       "      <td>1</td>\n",
       "      <td>CY2013-Jan</td>\n",
       "      <td>2013</td>\n",
       "      <td>CY2013</td>\n",
       "      <td>3</td>\n",
       "      <td>FY2013-Jan</td>\n",
       "      <td>2013</td>\n",
       "      <td>FY2013</td>\n",
       "      <td>4</td>\n",
       "    </tr>\n",
       "  </tbody>\n",
       "</table>\n",
       "</div>"
      ],
      "text/plain": [
       "           Day Number  Day    Month Short Month  Calendar Month Number  \\\n",
       "Date                                                                     \n",
       "1/7/2013            7    7  January         Jan                      1   \n",
       "3/26/2015          26   26    March         Mar                      3   \n",
       "1/15/2013          15   15  January         Jan                      1   \n",
       "4/3/2015            3    3    April         Apr                      4   \n",
       "1/23/2013          23   23  January         Jan                      1   \n",
       "\n",
       "          Calendar Month Label  Calendar Year Calendar Year Label  \\\n",
       "Date                                                                \n",
       "1/7/2013            CY2013-Jan           2013              CY2013   \n",
       "3/26/2015           CY2015-Mar           2015              CY2015   \n",
       "1/15/2013           CY2013-Jan           2013              CY2013   \n",
       "4/3/2015            CY2015-Apr           2015              CY2015   \n",
       "1/23/2013           CY2013-Jan           2013              CY2013   \n",
       "\n",
       "           Fiscal Month Number Fiscal Month Label  Fiscal Year  \\\n",
       "Date                                                             \n",
       "1/7/2013                     3         FY2013-Jan         2013   \n",
       "3/26/2015                    5         FY2015-Mar         2015   \n",
       "1/15/2013                    3         FY2013-Jan         2013   \n",
       "4/3/2015                     6         FY2015-Apr         2015   \n",
       "1/23/2013                    3         FY2013-Jan         2013   \n",
       "\n",
       "          Fiscal Year Label  ISO Week Number  \n",
       "Date                                          \n",
       "1/7/2013             FY2013                2  \n",
       "3/26/2015            FY2015               13  \n",
       "1/15/2013            FY2013                3  \n",
       "4/3/2015             FY2015               14  \n",
       "1/23/2013            FY2013                4  "
      ]
     },
     "execution_count": 166,
     "metadata": {},
     "output_type": "execute_result"
    }
   ],
   "source": [
    "date_table.head()"
   ]
  },
  {
   "cell_type": "code",
   "execution_count": 167,
   "id": "86565d45-eccc-4bb8-99b4-ce18481ffa36",
   "metadata": {},
   "outputs": [],
   "source": [
    "fact_table.join(date_table, fact_table[\"Delivery Date Key\"] == date_table[\"Date\"])"
   ]
  },
  {
   "cell_type": "code",
   "execution_count": 168,
   "id": "e28e54f9-9dd6-4964-a93c-d035d21dbed0",
   "metadata": {},
   "outputs": [
    {
     "data": {
      "text/markdown": [
       "```mermaid\n",
       "erDiagram\n",
       "  \"Sales\" {\n",
       "    _ int PK \"Sale Key\"\n",
       "    nullable int \"City Key\"\n",
       "    nullable int \"Customer Key\"\n",
       "    nullable int \"Bill To Customer Key\"\n",
       "    nullable int \"Stock Item Key\"\n",
       "    _ String \"Invoice Date Key\"\n",
       "    _ String \"Delivery Date Key\"\n",
       "    nullable int \"Salesperson Key\"\n",
       "    nullable int \"WWI Invoice ID\"\n",
       "    _ String \"Description\"\n",
       "    _ String \"Package\"\n",
       "    nullable int \"Quantity\"\n",
       "    nullable double \"Unit Price\"\n",
       "    nullable int \"Tax Rate\"\n",
       "    nullable double \"Total Excluding Tax\"\n",
       "    nullable double \"Tax Amount\"\n",
       "    nullable double \"Profit\"\n",
       "    nullable double \"Total Including Tax\"\n",
       "    nullable int \"Total Dry Items\"\n",
       "    nullable int \"Total Chiller Items\"\n",
       "    nullable int \"Lineage Key\"\n",
       "  }\n",
       "  \"Date\" {\n",
       "    _ String PK \"Date\"\n",
       "    nullable int \"Day Number\"\n",
       "    nullable int \"Day\"\n",
       "    _ String \"Month\"\n",
       "    _ String \"Short Month\"\n",
       "    nullable int \"Calendar Month Number\"\n",
       "    _ String \"Calendar Month Label\"\n",
       "    nullable int \"Calendar Year\"\n",
       "    _ String \"Calendar Year Label\"\n",
       "    nullable int \"Fiscal Month Number\"\n",
       "    _ String \"Fiscal Month Label\"\n",
       "    nullable int \"Fiscal Year\"\n",
       "    _ String \"Fiscal Year Label\"\n",
       "    nullable int \"ISO Week Number\"\n",
       "  }\n",
       "  \"Sales\" }o--o| \"Date\" : \"`Delivery Date Key` == `Date`\"\n",
       "```\n"
      ],
      "text/plain": [
       "erDiagram\n",
       "  \"Sales\" {\n",
       "    _ int PK \"Sale Key\"\n",
       "    nullable int \"City Key\"\n",
       "    nullable int \"Customer Key\"\n",
       "    nullable int \"Bill To Customer Key\"\n",
       "    nullable int \"Stock Item Key\"\n",
       "    _ String \"Invoice Date Key\"\n",
       "    _ String \"Delivery Date Key\"\n",
       "    nullable int \"Salesperson Key\"\n",
       "    nullable int \"WWI Invoice ID\"\n",
       "    _ String \"Description\"\n",
       "    _ String \"Package\"\n",
       "    nullable int \"Quantity\"\n",
       "    nullable double \"Unit Price\"\n",
       "    nullable int \"Tax Rate\"\n",
       "    nullable double \"Total Excluding Tax\"\n",
       "    nullable double \"Tax Amount\"\n",
       "    nullable double \"Profit\"\n",
       "    nullable double \"Total Including Tax\"\n",
       "    nullable int \"Total Dry Items\"\n",
       "    nullable int \"Total Chiller Items\"\n",
       "    nullable int \"Lineage Key\"\n",
       "  }\n",
       "  \"Date\" {\n",
       "    _ String PK \"Date\"\n",
       "    nullable int \"Day Number\"\n",
       "    nullable int \"Day\"\n",
       "    _ String \"Month\"\n",
       "    _ String \"Short Month\"\n",
       "    nullable int \"Calendar Month Number\"\n",
       "    _ String \"Calendar Month Label\"\n",
       "    nullable int \"Calendar Year\"\n",
       "    _ String \"Calendar Year Label\"\n",
       "    nullable int \"Fiscal Month Number\"\n",
       "    _ String \"Fiscal Month Label\"\n",
       "    nullable int \"Fiscal Year\"\n",
       "    _ String \"Fiscal Year Label\"\n",
       "    nullable int \"ISO Week Number\"\n",
       "  }\n",
       "  \"Sales\" }o--o| \"Date\" : \"`Delivery Date Key` == `Date`\""
      ]
     },
     "execution_count": 168,
     "metadata": {},
     "output_type": "execute_result"
    }
   ],
   "source": [
    "session.tables.schema"
   ]
  },
  {
   "cell_type": "code",
   "execution_count": 37,
   "id": "6a07a490-592e-4d68-b8ce-01322142d786",
   "metadata": {},
   "outputs": [
    {
     "data": {
      "application/json": {
       "Date": {
        "Calendar Month Label": [
         "Calendar Month Label"
        ],
        "Calendar Year Label": [
         "Calendar Year Label"
        ],
        "Fiscal Month Label": [
         "Fiscal Month Label"
        ],
        "Fiscal Year Label": [
         "Fiscal Year Label"
        ],
        "Month": [
         "Month"
        ],
        "Short Month": [
         "Short Month"
        ]
       },
       "Sales": {
        "Delivery Date Key": [
         "Delivery Date Key"
        ],
        "Description": [
         "Description"
        ],
        "Invoice Date Key": [
         "Invoice Date Key"
        ],
        "Package": [
         "Package"
        ],
        "Sale Key": [
         "Sale Key"
        ]
       }
      },
      "text/html": [
       "<ul>\n",
       "<li>Dimensions\n",
       "  <ul>\n",
       "  <li>Date\n",
       "    <ul>\n",
       "    <li>Calendar Month Label\n",
       "      <ol>\n",
       "      <li>Calendar Month Label</li>\n",
       "      </ol>    </li>\n",
       "    <li>Calendar Year Label\n",
       "      <ol>\n",
       "      <li>Calendar Year Label</li>\n",
       "      </ol>    </li>\n",
       "    <li>Fiscal Month Label\n",
       "      <ol>\n",
       "      <li>Fiscal Month Label</li>\n",
       "      </ol>    </li>\n",
       "    <li>Fiscal Year Label\n",
       "      <ol>\n",
       "      <li>Fiscal Year Label</li>\n",
       "      </ol>    </li>\n",
       "    <li>Month\n",
       "      <ol>\n",
       "      <li>Month</li>\n",
       "      </ol>    </li>\n",
       "    <li>Short Month\n",
       "      <ol>\n",
       "      <li>Short Month</li>\n",
       "      </ol>    </li>\n",
       "    </ul>\n",
       "  </li>\n",
       "  <li>Sales\n",
       "    <ul>\n",
       "    <li>Delivery Date Key\n",
       "      <ol>\n",
       "      <li>Delivery Date Key</li>\n",
       "      </ol>    </li>\n",
       "    <li>Description\n",
       "      <ol>\n",
       "      <li>Description</li>\n",
       "      </ol>    </li>\n",
       "    <li>Invoice Date Key\n",
       "      <ol>\n",
       "      <li>Invoice Date Key</li>\n",
       "      </ol>    </li>\n",
       "    <li>Package\n",
       "      <ol>\n",
       "      <li>Package</li>\n",
       "      </ol>    </li>\n",
       "    <li>Sale Key\n",
       "      <ol>\n",
       "      <li>Sale Key</li>\n",
       "      </ol>    </li>\n",
       "    </ul>\n",
       "  </li>\n",
       "  </ul>\n",
       "</li>\n",
       "</ul>\n"
      ],
      "text/plain": [
       "{('Sales', 'Sale Key'): <atoti.hierarchy.Hierarchy object at 0x000002A9E0F23F70>, ('Sales', 'Description'): <atoti.hierarchy.Hierarchy object at 0x000002A9E1071090>, ('Sales', 'Package'): <atoti.hierarchy.Hierarchy object at 0x000002A9E10718A0>, ('Sales', 'Invoice Date Key'): <atoti.hierarchy.Hierarchy object at 0x000002A9EFF52C50>, ('Sales', 'Delivery Date Key'): <atoti.hierarchy.Hierarchy object at 0x000002A9EFF50C10>, ('Date', 'Month'): <atoti.hierarchy.Hierarchy object at 0x000002A9EFF506A0>, ('Date', 'Fiscal Year Label'): <atoti.hierarchy.Hierarchy object at 0x000002A9EFF51180>, ('Date', 'Calendar Year Label'): <atoti.hierarchy.Hierarchy object at 0x000002A9EFF50880>, ('Date', 'Fiscal Month Label'): <atoti.hierarchy.Hierarchy object at 0x000002A9EFF51030>, ('Date', 'Calendar Month Label'): <atoti.hierarchy.Hierarchy object at 0x000002A9EFF52E60>, ('Date', 'Short Month'): <atoti.hierarchy.Hierarchy object at 0x000002A9EFF532B0>}"
      ]
     },
     "execution_count": 37,
     "metadata": {
      "application/json": {
       "expanded": true,
       "root": "Dimensions"
      }
     },
     "output_type": "execute_result"
    }
   ],
   "source": [
    "h"
   ]
  },
  {
   "cell_type": "code",
   "execution_count": 169,
   "id": "59def48d-aea2-41a2-8f4f-069be0a72df7",
   "metadata": {},
   "outputs": [],
   "source": [
    "employee_table = session.read_csv(\n",
    "    r\"Datasets/WWI/DimEmployee.csv\", \n",
    "    keys=[\"Employee Key\"], \n",
    "    table_name=\"Employee\"\n",
    ")"
   ]
  },
  {
   "cell_type": "code",
   "execution_count": 170,
   "id": "ade3628d-9226-4c00-a29e-fcced025921f",
   "metadata": {},
   "outputs": [],
   "source": [
    "fact_table.join(employee_table, fact_table[\"Salesperson Key\"] == employee_table[\"Employee Key\"])"
   ]
  },
  {
   "cell_type": "code",
   "execution_count": 171,
   "id": "306feec7-f50e-408a-a830-8d7be02f7082",
   "metadata": {},
   "outputs": [
    {
     "data": {
      "text/markdown": [
       "```mermaid\n",
       "erDiagram\n",
       "  \"Sales\" {\n",
       "    _ int PK \"Sale Key\"\n",
       "    nullable int \"City Key\"\n",
       "    nullable int \"Customer Key\"\n",
       "    nullable int \"Bill To Customer Key\"\n",
       "    nullable int \"Stock Item Key\"\n",
       "    _ String \"Invoice Date Key\"\n",
       "    _ String \"Delivery Date Key\"\n",
       "    nullable int \"Salesperson Key\"\n",
       "    nullable int \"WWI Invoice ID\"\n",
       "    _ String \"Description\"\n",
       "    _ String \"Package\"\n",
       "    nullable int \"Quantity\"\n",
       "    nullable double \"Unit Price\"\n",
       "    nullable int \"Tax Rate\"\n",
       "    nullable double \"Total Excluding Tax\"\n",
       "    nullable double \"Tax Amount\"\n",
       "    nullable double \"Profit\"\n",
       "    nullable double \"Total Including Tax\"\n",
       "    nullable int \"Total Dry Items\"\n",
       "    nullable int \"Total Chiller Items\"\n",
       "    nullable int \"Lineage Key\"\n",
       "  }\n",
       "  \"Date\" {\n",
       "    _ String PK \"Date\"\n",
       "    nullable int \"Day Number\"\n",
       "    nullable int \"Day\"\n",
       "    _ String \"Month\"\n",
       "    _ String \"Short Month\"\n",
       "    nullable int \"Calendar Month Number\"\n",
       "    _ String \"Calendar Month Label\"\n",
       "    nullable int \"Calendar Year\"\n",
       "    _ String \"Calendar Year Label\"\n",
       "    nullable int \"Fiscal Month Number\"\n",
       "    _ String \"Fiscal Month Label\"\n",
       "    nullable int \"Fiscal Year\"\n",
       "    _ String \"Fiscal Year Label\"\n",
       "    nullable int \"ISO Week Number\"\n",
       "  }\n",
       "  \"Employee\" {\n",
       "    _ int PK \"Employee Key\"\n",
       "    nullable int \"WWI Employee ID\"\n",
       "    _ String \"Employee\"\n",
       "    _ String \"Preferred Name\"\n",
       "    nullable int \"Is Salesperson\"\n",
       "    _ String \"Photo\"\n",
       "    _ String \"Valid From\"\n",
       "    _ String \"Valid To\"\n",
       "    nullable int \"Lineage Key\"\n",
       "  }\n",
       "  \"Sales\" }o--o| \"Date\" : \"`Delivery Date Key` == `Date`\"\n",
       "  \"Sales\" }o--o| \"Employee\" : \"`Salesperson Key` == `Employee Key`\"\n",
       "```\n"
      ],
      "text/plain": [
       "erDiagram\n",
       "  \"Sales\" {\n",
       "    _ int PK \"Sale Key\"\n",
       "    nullable int \"City Key\"\n",
       "    nullable int \"Customer Key\"\n",
       "    nullable int \"Bill To Customer Key\"\n",
       "    nullable int \"Stock Item Key\"\n",
       "    _ String \"Invoice Date Key\"\n",
       "    _ String \"Delivery Date Key\"\n",
       "    nullable int \"Salesperson Key\"\n",
       "    nullable int \"WWI Invoice ID\"\n",
       "    _ String \"Description\"\n",
       "    _ String \"Package\"\n",
       "    nullable int \"Quantity\"\n",
       "    nullable double \"Unit Price\"\n",
       "    nullable int \"Tax Rate\"\n",
       "    nullable double \"Total Excluding Tax\"\n",
       "    nullable double \"Tax Amount\"\n",
       "    nullable double \"Profit\"\n",
       "    nullable double \"Total Including Tax\"\n",
       "    nullable int \"Total Dry Items\"\n",
       "    nullable int \"Total Chiller Items\"\n",
       "    nullable int \"Lineage Key\"\n",
       "  }\n",
       "  \"Date\" {\n",
       "    _ String PK \"Date\"\n",
       "    nullable int \"Day Number\"\n",
       "    nullable int \"Day\"\n",
       "    _ String \"Month\"\n",
       "    _ String \"Short Month\"\n",
       "    nullable int \"Calendar Month Number\"\n",
       "    _ String \"Calendar Month Label\"\n",
       "    nullable int \"Calendar Year\"\n",
       "    _ String \"Calendar Year Label\"\n",
       "    nullable int \"Fiscal Month Number\"\n",
       "    _ String \"Fiscal Month Label\"\n",
       "    nullable int \"Fiscal Year\"\n",
       "    _ String \"Fiscal Year Label\"\n",
       "    nullable int \"ISO Week Number\"\n",
       "  }\n",
       "  \"Employee\" {\n",
       "    _ int PK \"Employee Key\"\n",
       "    nullable int \"WWI Employee ID\"\n",
       "    _ String \"Employee\"\n",
       "    _ String \"Preferred Name\"\n",
       "    nullable int \"Is Salesperson\"\n",
       "    _ String \"Photo\"\n",
       "    _ String \"Valid From\"\n",
       "    _ String \"Valid To\"\n",
       "    nullable int \"Lineage Key\"\n",
       "  }\n",
       "  \"Sales\" }o--o| \"Date\" : \"`Delivery Date Key` == `Date`\"\n",
       "  \"Sales\" }o--o| \"Employee\" : \"`Salesperson Key` == `Employee Key`\""
      ]
     },
     "execution_count": 171,
     "metadata": {},
     "output_type": "execute_result"
    }
   ],
   "source": [
    "session.tables.schema"
   ]
  },
  {
   "cell_type": "code",
   "execution_count": 172,
   "id": "e0cccae0-3dfd-4c35-9782-0ac3c6d0ae68",
   "metadata": {},
   "outputs": [],
   "source": [
    "import pandas as pd\n",
    "\n",
    "# Lire le fichier CSV en ignorant la première ligne\n",
    "df = pd.read_csv(\"Datasets/WWI/DimCustomer.csv\", skiprows=1, header=None)\n",
    "\n",
    "# Définir les noms de colonnes\n",
    "df.columns = [\n",
    "    \"Customer Key\", \"WWI Customer ID\", \"Customer\", \"Bill To Customer\", \"Category\",\n",
    "    \"Buying Group\", \"Primary Contact\", \"Postal Code\", \"Credit Limit\", \"Valid From\", \"Valid To\", \"Lineage Key\"\n",
    "]\n",
    "\n",
    "# Supprimer les colonnes \"Valid From\" et \"Valid To\"\n",
    "df.drop(columns=[\"Valid From\", \"Valid To\"], inplace=True)\n",
    "\n",
    "# Remplacer \"?\" et \"-\" par une valeur vide dans la colonne \"Credit Limit\"\n",
    "df[\"Credit Limit\"] = df[\"Credit Limit\"].str.replace(\"?\", \"\", regex=False)\n",
    "df[\"Credit Limit\"] = df[\"Credit Limit\"].str.replace(\"-\", \"\", regex=False)\n",
    "\n",
    "# Convertir la colonne \"Customer Key\" en int (en gérant les erreurs si nécessaire)\n",
    "df[\"Customer Key\"] = pd.to_numeric(df[\"Customer Key\"], errors='coerce')\n",
    "\n",
    "# Importer le DataFrame dans Atoti\n",
    "customer_table = session.read_pandas(df, keys=[\"Customer Key\"], table_name=\"Customer\")\n"
   ]
  },
  {
   "cell_type": "code",
   "execution_count": 173,
   "id": "6088ba2b-4eb7-4516-94d8-3bcfbbe7b7bc",
   "metadata": {},
   "outputs": [
    {
     "data": {
      "text/html": [
       "<div>\n",
       "<style scoped>\n",
       "    .dataframe tbody tr th:only-of-type {\n",
       "        vertical-align: middle;\n",
       "    }\n",
       "\n",
       "    .dataframe tbody tr th {\n",
       "        vertical-align: top;\n",
       "    }\n",
       "\n",
       "    .dataframe thead th {\n",
       "        text-align: right;\n",
       "    }\n",
       "</style>\n",
       "<table border=\"1\" class=\"dataframe\">\n",
       "  <thead>\n",
       "    <tr style=\"text-align: right;\">\n",
       "      <th></th>\n",
       "      <th>WWI Customer ID</th>\n",
       "      <th>Customer</th>\n",
       "      <th>Bill To Customer</th>\n",
       "      <th>Category</th>\n",
       "      <th>Buying Group</th>\n",
       "      <th>Primary Contact</th>\n",
       "      <th>Postal Code</th>\n",
       "      <th>Credit Limit</th>\n",
       "      <th>Lineage Key</th>\n",
       "    </tr>\n",
       "    <tr>\n",
       "      <th>Customer Key</th>\n",
       "      <th></th>\n",
       "      <th></th>\n",
       "      <th></th>\n",
       "      <th></th>\n",
       "      <th></th>\n",
       "      <th></th>\n",
       "      <th></th>\n",
       "      <th></th>\n",
       "      <th></th>\n",
       "    </tr>\n",
       "  </thead>\n",
       "  <tbody>\n",
       "    <tr>\n",
       "      <th>7.0</th>\n",
       "      <td>7</td>\n",
       "      <td>Tailspin Toys (Frankewing, TN)</td>\n",
       "      <td>Tailspin Toys (Head Office)</td>\n",
       "      <td>Novelty Shop</td>\n",
       "      <td>Tailspin Toys</td>\n",
       "      <td>Kalidas Nadar</td>\n",
       "      <td>90761</td>\n",
       "      <td>100,000.000000</td>\n",
       "      <td>2</td>\n",
       "    </tr>\n",
       "    <tr>\n",
       "      <th>15.0</th>\n",
       "      <td>15</td>\n",
       "      <td>Tailspin Toys (Batson, TX)</td>\n",
       "      <td>Tailspin Toys (Head Office)</td>\n",
       "      <td>Novelty Shop</td>\n",
       "      <td>Tailspin Toys</td>\n",
       "      <td>Filips Jaunzems</td>\n",
       "      <td>90631</td>\n",
       "      <td>100,000.000000</td>\n",
       "      <td>2</td>\n",
       "    </tr>\n",
       "    <tr>\n",
       "      <th>23.0</th>\n",
       "      <td>23</td>\n",
       "      <td>Tailspin Toys (Ikatan, AK)</td>\n",
       "      <td>Tailspin Toys (Head Office)</td>\n",
       "      <td>Novelty Shop</td>\n",
       "      <td>Tailspin Toys</td>\n",
       "      <td>Hang Tang</td>\n",
       "      <td>90019</td>\n",
       "      <td>100,000.000000</td>\n",
       "      <td>2</td>\n",
       "    </tr>\n",
       "    <tr>\n",
       "      <th>31.0</th>\n",
       "      <td>31</td>\n",
       "      <td>Tailspin Toys (Lake Stevens, WA)</td>\n",
       "      <td>Tailspin Toys (Head Office)</td>\n",
       "      <td>Novelty Shop</td>\n",
       "      <td>Tailspin Toys</td>\n",
       "      <td>Kimberly Pace</td>\n",
       "      <td>90394</td>\n",
       "      <td>100,000.000000</td>\n",
       "      <td>2</td>\n",
       "    </tr>\n",
       "    <tr>\n",
       "      <th>39.0</th>\n",
       "      <td>39</td>\n",
       "      <td>Tailspin Toys (Diablock, KY)</td>\n",
       "      <td>Tailspin Toys (Head Office)</td>\n",
       "      <td>Novelty Shop</td>\n",
       "      <td>Tailspin Toys</td>\n",
       "      <td>Ashish Acharya</td>\n",
       "      <td>90158</td>\n",
       "      <td>100,000.000000</td>\n",
       "      <td>2</td>\n",
       "    </tr>\n",
       "  </tbody>\n",
       "</table>\n",
       "</div>"
      ],
      "text/plain": [
       "             WWI Customer ID                          Customer  \\\n",
       "Customer Key                                                     \n",
       "7.0                        7    Tailspin Toys (Frankewing, TN)   \n",
       "15.0                      15        Tailspin Toys (Batson, TX)   \n",
       "23.0                      23        Tailspin Toys (Ikatan, AK)   \n",
       "31.0                      31  Tailspin Toys (Lake Stevens, WA)   \n",
       "39.0                      39      Tailspin Toys (Diablock, KY)   \n",
       "\n",
       "                         Bill To Customer      Category   Buying Group  \\\n",
       "Customer Key                                                             \n",
       "7.0           Tailspin Toys (Head Office)  Novelty Shop  Tailspin Toys   \n",
       "15.0          Tailspin Toys (Head Office)  Novelty Shop  Tailspin Toys   \n",
       "23.0          Tailspin Toys (Head Office)  Novelty Shop  Tailspin Toys   \n",
       "31.0          Tailspin Toys (Head Office)  Novelty Shop  Tailspin Toys   \n",
       "39.0          Tailspin Toys (Head Office)  Novelty Shop  Tailspin Toys   \n",
       "\n",
       "              Primary Contact Postal Code     Credit Limit Lineage Key  \n",
       "Customer Key                                                            \n",
       "7.0             Kalidas Nadar       90761   100,000.000000           2  \n",
       "15.0          Filips Jaunzems       90631   100,000.000000           2  \n",
       "23.0                Hang Tang       90019   100,000.000000           2  \n",
       "31.0            Kimberly Pace       90394   100,000.000000           2  \n",
       "39.0           Ashish Acharya       90158   100,000.000000           2  "
      ]
     },
     "execution_count": 173,
     "metadata": {},
     "output_type": "execute_result"
    }
   ],
   "source": [
    "customer_table.head()"
   ]
  },
  {
   "cell_type": "code",
   "execution_count": 178,
   "id": "7d75e08f-a790-44c1-a540-043aa199cfd0",
   "metadata": {},
   "outputs": [],
   "source": [
    "fact_table.join(customer_table, fact_table[\"Customer Key\"] == customer_table[\"Customer Key\"]) \n"
   ]
  },
  {
   "cell_type": "code",
   "execution_count": 44,
   "id": "804de4fb-a464-45dd-aede-4569a7f74704",
   "metadata": {},
   "outputs": [
    {
     "data": {
      "text/markdown": [
       "```mermaid\n",
       "erDiagram\n",
       "  \"Sales\" {\n",
       "    _ int PK \"Sale Key\"\n",
       "    nullable int \"City Key\"\n",
       "    nullable double \"Customer Key\"\n",
       "    nullable int \"Bill To Customer Key\"\n",
       "    nullable int \"Stock Item Key\"\n",
       "    _ String \"Invoice Date Key\"\n",
       "    _ String \"Delivery Date Key\"\n",
       "    nullable int \"Salesperson Key\"\n",
       "    nullable int \"WWI Invoice ID\"\n",
       "    _ String \"Description\"\n",
       "    _ String \"Package\"\n",
       "    nullable int \"Quantity\"\n",
       "    nullable double \"Unit Price\"\n",
       "    nullable int \"Tax Rate\"\n",
       "    nullable double \"Total Excluding Tax\"\n",
       "    nullable double \"Tax Amount\"\n",
       "    nullable double \"Profit\"\n",
       "    nullable double \"Total Including Tax\"\n",
       "    nullable int \"Total Dry Items\"\n",
       "    nullable int \"Total Chiller Items\"\n",
       "    nullable int \"Lineage Key\"\n",
       "  }\n",
       "  \"Date\" {\n",
       "    _ String PK \"Date\"\n",
       "    nullable int \"Day Number\"\n",
       "    nullable int \"Day\"\n",
       "    _ String \"Month\"\n",
       "    _ String \"Short Month\"\n",
       "    nullable int \"Calendar Month Number\"\n",
       "    _ String \"Calendar Month Label\"\n",
       "    nullable int \"Calendar Year\"\n",
       "    _ String \"Calendar Year Label\"\n",
       "    nullable int \"Fiscal Month Number\"\n",
       "    _ String \"Fiscal Month Label\"\n",
       "    nullable int \"Fiscal Year\"\n",
       "    _ String \"Fiscal Year Label\"\n",
       "    nullable int \"ISO Week Number\"\n",
       "  }\n",
       "  \"Employee\" {\n",
       "    _ int PK \"Employee Key\"\n",
       "    nullable int \"WWI Employee ID\"\n",
       "    _ String \"Employee\"\n",
       "    _ String \"Preferred Name\"\n",
       "    nullable int \"Is Salesperson\"\n",
       "    _ String \"Photo\"\n",
       "    _ String \"Valid From\"\n",
       "    _ String \"Valid To\"\n",
       "    nullable int \"Lineage Key\"\n",
       "  }\n",
       "  \"Customer\" {\n",
       "    _ double PK \"Customer Key\"\n",
       "    _ String \"WWI Customer ID\"\n",
       "    _ String \"Customer\"\n",
       "    _ String \"Bill To Customer\"\n",
       "    _ String \"Category\"\n",
       "    _ String \"Buying Group\"\n",
       "    _ String \"Primary Contact\"\n",
       "    _ String \"Postal Code\"\n",
       "    _ String \"Credit Limit\"\n",
       "    _ String \"Lineage Key\"\n",
       "  }\n",
       "  \"Sales\" }o--o| \"Customer\" : \"`Customer Key` == `Customer Key`\"\n",
       "  \"Sales\" }o--o| \"Date\" : \"`Delivery Date Key` == `Date`\"\n",
       "  \"Sales\" }o--o| \"Employee\" : \"`Salesperson Key` == `Employee Key`\"\n",
       "```\n"
      ],
      "text/plain": [
       "erDiagram\n",
       "  \"Sales\" {\n",
       "    _ int PK \"Sale Key\"\n",
       "    nullable int \"City Key\"\n",
       "    nullable double \"Customer Key\"\n",
       "    nullable int \"Bill To Customer Key\"\n",
       "    nullable int \"Stock Item Key\"\n",
       "    _ String \"Invoice Date Key\"\n",
       "    _ String \"Delivery Date Key\"\n",
       "    nullable int \"Salesperson Key\"\n",
       "    nullable int \"WWI Invoice ID\"\n",
       "    _ String \"Description\"\n",
       "    _ String \"Package\"\n",
       "    nullable int \"Quantity\"\n",
       "    nullable double \"Unit Price\"\n",
       "    nullable int \"Tax Rate\"\n",
       "    nullable double \"Total Excluding Tax\"\n",
       "    nullable double \"Tax Amount\"\n",
       "    nullable double \"Profit\"\n",
       "    nullable double \"Total Including Tax\"\n",
       "    nullable int \"Total Dry Items\"\n",
       "    nullable int \"Total Chiller Items\"\n",
       "    nullable int \"Lineage Key\"\n",
       "  }\n",
       "  \"Date\" {\n",
       "    _ String PK \"Date\"\n",
       "    nullable int \"Day Number\"\n",
       "    nullable int \"Day\"\n",
       "    _ String \"Month\"\n",
       "    _ String \"Short Month\"\n",
       "    nullable int \"Calendar Month Number\"\n",
       "    _ String \"Calendar Month Label\"\n",
       "    nullable int \"Calendar Year\"\n",
       "    _ String \"Calendar Year Label\"\n",
       "    nullable int \"Fiscal Month Number\"\n",
       "    _ String \"Fiscal Month Label\"\n",
       "    nullable int \"Fiscal Year\"\n",
       "    _ String \"Fiscal Year Label\"\n",
       "    nullable int \"ISO Week Number\"\n",
       "  }\n",
       "  \"Employee\" {\n",
       "    _ int PK \"Employee Key\"\n",
       "    nullable int \"WWI Employee ID\"\n",
       "    _ String \"Employee\"\n",
       "    _ String \"Preferred Name\"\n",
       "    nullable int \"Is Salesperson\"\n",
       "    _ String \"Photo\"\n",
       "    _ String \"Valid From\"\n",
       "    _ String \"Valid To\"\n",
       "    nullable int \"Lineage Key\"\n",
       "  }\n",
       "  \"Customer\" {\n",
       "    _ double PK \"Customer Key\"\n",
       "    _ String \"WWI Customer ID\"\n",
       "    _ String \"Customer\"\n",
       "    _ String \"Bill To Customer\"\n",
       "    _ String \"Category\"\n",
       "    _ String \"Buying Group\"\n",
       "    _ String \"Primary Contact\"\n",
       "    _ String \"Postal Code\"\n",
       "    _ String \"Credit Limit\"\n",
       "    _ String \"Lineage Key\"\n",
       "  }\n",
       "  \"Sales\" }o--o| \"Customer\" : \"`Customer Key` == `Customer Key`\"\n",
       "  \"Sales\" }o--o| \"Date\" : \"`Delivery Date Key` == `Date`\"\n",
       "  \"Sales\" }o--o| \"Employee\" : \"`Salesperson Key` == `Employee Key`\""
      ]
     },
     "execution_count": 44,
     "metadata": {},
     "output_type": "execute_result"
    }
   ],
   "source": [
    "session.tables.schema"
   ]
  },
  {
   "cell_type": "code",
   "execution_count": 179,
   "id": "9ab9ad59-c13c-4e8f-a041-f95d57a87871",
   "metadata": {},
   "outputs": [
    {
     "data": {
      "application/json": {
       "City": {
        "City": [
         "City"
        ],
        "Country": [
         "Country"
        ],
        "Location": [
         "Location"
        ],
        "Sales Territory": [
         "Sales Territory"
        ],
        "State Province": [
         "State Province"
        ]
       },
       "Customer": {
        "Bill To Customer": [
         "Bill To Customer"
        ],
        "Buying Group": [
         "Buying Group"
        ],
        "Category": [
         "Category"
        ],
        "Credit Limit": [
         "Credit Limit"
        ],
        "Customer": [
         "Customer"
        ],
        "Lineage Key": [
         "Lineage Key"
        ],
        "Postal Code": [
         "Postal Code"
        ],
        "Primary Contact": [
         "Primary Contact"
        ],
        "WWI Customer ID": [
         "WWI Customer ID"
        ]
       },
       "Date": {
        "Calendar Month Label": [
         "Calendar Month Label"
        ],
        "Calendar Year Label": [
         "Calendar Year Label"
        ],
        "Fiscal Month Label": [
         "Fiscal Month Label"
        ],
        "Fiscal Year Label": [
         "Fiscal Year Label"
        ],
        "Month": [
         "Month"
        ],
        "Short Month": [
         "Short Month"
        ]
       },
       "Employee": {
        "Employee": [
         "Employee"
        ],
        "Photo": [
         "Photo"
        ],
        "Preferred Name": [
         "Preferred Name"
        ],
        "Valid From": [
         "Valid From"
        ],
        "Valid To": [
         "Valid To"
        ]
       },
       "Sales": {
        "Delivery Date Key": [
         "Delivery Date Key"
        ],
        "Description": [
         "Description"
        ],
        "Invoice Date Key": [
         "Invoice Date Key"
        ],
        "Package": [
         "Package"
        ],
        "Sale Key": [
         "Sale Key"
        ]
       }
      },
      "text/html": [
       "<ul>\n",
       "<li>Dimensions\n",
       "  <ul>\n",
       "  <li>City\n",
       "    <ul>\n",
       "    <li>City\n",
       "      <ol>\n",
       "      <li>City</li>\n",
       "      </ol>    </li>\n",
       "    <li>Country\n",
       "      <ol>\n",
       "      <li>Country</li>\n",
       "      </ol>    </li>\n",
       "    <li>Location\n",
       "      <ol>\n",
       "      <li>Location</li>\n",
       "      </ol>    </li>\n",
       "    <li>Sales Territory\n",
       "      <ol>\n",
       "      <li>Sales Territory</li>\n",
       "      </ol>    </li>\n",
       "    <li>State Province\n",
       "      <ol>\n",
       "      <li>State Province</li>\n",
       "      </ol>    </li>\n",
       "    </ul>\n",
       "  </li>\n",
       "  <li>Customer\n",
       "    <ul>\n",
       "    <li>Bill To Customer\n",
       "      <ol>\n",
       "      <li>Bill To Customer</li>\n",
       "      </ol>    </li>\n",
       "    <li>Buying Group\n",
       "      <ol>\n",
       "      <li>Buying Group</li>\n",
       "      </ol>    </li>\n",
       "    <li>Category\n",
       "      <ol>\n",
       "      <li>Category</li>\n",
       "      </ol>    </li>\n",
       "    <li>Credit Limit\n",
       "      <ol>\n",
       "      <li>Credit Limit</li>\n",
       "      </ol>    </li>\n",
       "    <li>Customer\n",
       "      <ol>\n",
       "      <li>Customer</li>\n",
       "      </ol>    </li>\n",
       "    <li>Lineage Key\n",
       "      <ol>\n",
       "      <li>Lineage Key</li>\n",
       "      </ol>    </li>\n",
       "    <li>Postal Code\n",
       "      <ol>\n",
       "      <li>Postal Code</li>\n",
       "      </ol>    </li>\n",
       "    <li>Primary Contact\n",
       "      <ol>\n",
       "      <li>Primary Contact</li>\n",
       "      </ol>    </li>\n",
       "    <li>WWI Customer ID\n",
       "      <ol>\n",
       "      <li>WWI Customer ID</li>\n",
       "      </ol>    </li>\n",
       "    </ul>\n",
       "  </li>\n",
       "  <li>Date\n",
       "    <ul>\n",
       "    <li>Calendar Month Label\n",
       "      <ol>\n",
       "      <li>Calendar Month Label</li>\n",
       "      </ol>    </li>\n",
       "    <li>Calendar Year Label\n",
       "      <ol>\n",
       "      <li>Calendar Year Label</li>\n",
       "      </ol>    </li>\n",
       "    <li>Fiscal Month Label\n",
       "      <ol>\n",
       "      <li>Fiscal Month Label</li>\n",
       "      </ol>    </li>\n",
       "    <li>Fiscal Year Label\n",
       "      <ol>\n",
       "      <li>Fiscal Year Label</li>\n",
       "      </ol>    </li>\n",
       "    <li>Month\n",
       "      <ol>\n",
       "      <li>Month</li>\n",
       "      </ol>    </li>\n",
       "    <li>Short Month\n",
       "      <ol>\n",
       "      <li>Short Month</li>\n",
       "      </ol>    </li>\n",
       "    </ul>\n",
       "  </li>\n",
       "  <li>Employee\n",
       "    <ul>\n",
       "    <li>Employee\n",
       "      <ol>\n",
       "      <li>Employee</li>\n",
       "      </ol>    </li>\n",
       "    <li>Photo\n",
       "      <ol>\n",
       "      <li>Photo</li>\n",
       "      </ol>    </li>\n",
       "    <li>Preferred Name\n",
       "      <ol>\n",
       "      <li>Preferred Name</li>\n",
       "      </ol>    </li>\n",
       "    <li>Valid From\n",
       "      <ol>\n",
       "      <li>Valid From</li>\n",
       "      </ol>    </li>\n",
       "    <li>Valid To\n",
       "      <ol>\n",
       "      <li>Valid To</li>\n",
       "      </ol>    </li>\n",
       "    </ul>\n",
       "  </li>\n",
       "  <li>Sales\n",
       "    <ul>\n",
       "    <li>Delivery Date Key\n",
       "      <ol>\n",
       "      <li>Delivery Date Key</li>\n",
       "      </ol>    </li>\n",
       "    <li>Description\n",
       "      <ol>\n",
       "      <li>Description</li>\n",
       "      </ol>    </li>\n",
       "    <li>Invoice Date Key\n",
       "      <ol>\n",
       "      <li>Invoice Date Key</li>\n",
       "      </ol>    </li>\n",
       "    <li>Package\n",
       "      <ol>\n",
       "      <li>Package</li>\n",
       "      </ol>    </li>\n",
       "    <li>Sale Key\n",
       "      <ol>\n",
       "      <li>Sale Key</li>\n",
       "      </ol>    </li>\n",
       "    </ul>\n",
       "  </li>\n",
       "  </ul>\n",
       "</li>\n",
       "</ul>\n"
      ],
      "text/plain": [
       "{('Employee', 'Employee'): <atoti.hierarchy.Hierarchy object at 0x000002A9E8D272E0>, ('Employee', 'Valid To'): <atoti.hierarchy.Hierarchy object at 0x000002A9E8D33010>, ('Employee', 'Preferred Name'): <atoti.hierarchy.Hierarchy object at 0x000002A9E9ECE170>, ('Employee', 'Valid From'): <atoti.hierarchy.Hierarchy object at 0x000002A9E9ECD0F0>, ('Employee', 'Photo'): <atoti.hierarchy.Hierarchy object at 0x000002A9E9ECEE00>, ('Sales', 'Sale Key'): <atoti.hierarchy.Hierarchy object at 0x000002A9E9ECD3C0>, ('Sales', 'Description'): <atoti.hierarchy.Hierarchy object at 0x000002A9E9ECCDF0>, ('Sales', 'Package'): <atoti.hierarchy.Hierarchy object at 0x000002A9E9ECFD90>, ('Sales', 'Invoice Date Key'): <atoti.hierarchy.Hierarchy object at 0x000002A9E9ECD000>, ('Sales', 'Delivery Date Key'): <atoti.hierarchy.Hierarchy object at 0x000002A9E9ECDF30>, ('Customer', 'Primary Contact'): <atoti.hierarchy.Hierarchy object at 0x000002A9E9ECDF90>, ('Customer', 'Postal Code'): <atoti.hierarchy.Hierarchy object at 0x000002A9E9ECF190>, ('Customer', 'Credit Limit'): <atoti.hierarchy.Hierarchy object at 0x000002A9E9ECF6D0>, ('Customer', 'WWI Customer ID'): <atoti.hierarchy.Hierarchy object at 0x000002A9E1137AC0>, ('Customer', 'Bill To Customer'): <atoti.hierarchy.Hierarchy object at 0x000002A9E1137220>, ('Customer', 'Category'): <atoti.hierarchy.Hierarchy object at 0x000002A9E8CACE20>, ('Customer', 'Buying Group'): <atoti.hierarchy.Hierarchy object at 0x000002A9E8CADBA0>, ('Customer', 'Lineage Key'): <atoti.hierarchy.Hierarchy object at 0x000002A9E8CACDC0>, ('Customer', 'Customer'): <atoti.hierarchy.Hierarchy object at 0x000002A9E8CAC430>, ('City', 'Country'): <atoti.hierarchy.Hierarchy object at 0x000002A9E8CACD30>, ('City', 'City'): <atoti.hierarchy.Hierarchy object at 0x000002A9E8CAC1C0>, ('City', 'State Province'): <atoti.hierarchy.Hierarchy object at 0x000002A9E8CAC1F0>, ('City', 'Location'): <atoti.hierarchy.Hierarchy object at 0x000002A9E8CACCD0>, ('City', 'Sales Territory'): <atoti.hierarchy.Hierarchy object at 0x000002A9E8CAC250>, ('Date', 'Month'): <atoti.hierarchy.Hierarchy object at 0x000002A9E8CAC0D0>, ('Date', 'Fiscal Year Label'): <atoti.hierarchy.Hierarchy object at 0x000002A9E8CACA00>, ('Date', 'Calendar Year Label'): <atoti.hierarchy.Hierarchy object at 0x000002A9E8CAC640>, ('Date', 'Fiscal Month Label'): <atoti.hierarchy.Hierarchy object at 0x000002A9E8CAC220>, ('Date', 'Calendar Month Label'): <atoti.hierarchy.Hierarchy object at 0x000002A9E8CAC280>, ('Date', 'Short Month'): <atoti.hierarchy.Hierarchy object at 0x000002A9E8CAC3A0>}"
      ]
     },
     "execution_count": 179,
     "metadata": {
      "application/json": {
       "expanded": true,
       "root": "Dimensions"
      }
     },
     "output_type": "execute_result"
    }
   ],
   "source": [
    "h"
   ]
  },
  {
   "cell_type": "code",
   "execution_count": null,
   "id": "8b4b3b37-64a0-4306-88d2-a7e5a8eadfbb",
   "metadata": {},
   "outputs": [],
   "source": [
    "city_table = session.read_csv(\n",
    "    r\"Datasets/WWI/DimCity.csv\", \n",
    "    keys=[\"City Key\"], \n",
    "    table_name=\"City\"\n",
    ")"
   ]
  },
  {
   "cell_type": "code",
   "execution_count": 181,
   "id": "09c4f7b8-12da-43b5-9455-8c59a06b0654",
   "metadata": {},
   "outputs": [
    {
     "data": {
      "text/html": [
       "<div>\n",
       "<style scoped>\n",
       "    .dataframe tbody tr th:only-of-type {\n",
       "        vertical-align: middle;\n",
       "    }\n",
       "\n",
       "    .dataframe tbody tr th {\n",
       "        vertical-align: top;\n",
       "    }\n",
       "\n",
       "    .dataframe thead th {\n",
       "        text-align: right;\n",
       "    }\n",
       "</style>\n",
       "<table border=\"1\" class=\"dataframe\">\n",
       "  <thead>\n",
       "    <tr style=\"text-align: right;\">\n",
       "      <th></th>\n",
       "      <th>City</th>\n",
       "      <th>State Province</th>\n",
       "      <th>Country</th>\n",
       "      <th>Sales Territory</th>\n",
       "      <th>Location</th>\n",
       "      <th>Latest Recorded Population</th>\n",
       "    </tr>\n",
       "    <tr>\n",
       "      <th>City Key</th>\n",
       "      <th></th>\n",
       "      <th></th>\n",
       "      <th></th>\n",
       "      <th></th>\n",
       "      <th></th>\n",
       "      <th></th>\n",
       "    </tr>\n",
       "  </thead>\n",
       "  <tbody>\n",
       "    <tr>\n",
       "      <th>18</th>\n",
       "      <td>Carson</td>\n",
       "      <td>California</td>\n",
       "      <td>United States</td>\n",
       "      <td>Far West</td>\n",
       "      <td>0xE6100000010C345A58816BEA4040AC1BEF8E0C925DC0</td>\n",
       "      <td>91714</td>\n",
       "    </tr>\n",
       "    <tr>\n",
       "      <th>12414</th>\n",
       "      <td>Moapa</td>\n",
       "      <td>Nevada</td>\n",
       "      <td>United States</td>\n",
       "      <td>Far West</td>\n",
       "      <td>0xE6100000010C94BC3AC78056424047263B91BBA75CC0</td>\n",
       "      <td>1025</td>\n",
       "    </tr>\n",
       "    <tr>\n",
       "      <th>12494</th>\n",
       "      <td>East Orosi</td>\n",
       "      <td>California</td>\n",
       "      <td>United States</td>\n",
       "      <td>Far West</td>\n",
       "      <td>0xE6100000010C05847B0A2546424041C2E6D2AED05DC0</td>\n",
       "      <td>495</td>\n",
       "    </tr>\n",
       "    <tr>\n",
       "      <th>12599</th>\n",
       "      <td>Glen Avon</td>\n",
       "      <td>California</td>\n",
       "      <td>United States</td>\n",
       "      <td>Far West</td>\n",
       "      <td>0xE6100000010CA1421ABA7E01414050429F7E065F5DC0</td>\n",
       "      <td>20199</td>\n",
       "    </tr>\n",
       "    <tr>\n",
       "      <th>12671</th>\n",
       "      <td>Harbison Canyon</td>\n",
       "      <td>California</td>\n",
       "      <td>United States</td>\n",
       "      <td>Far West</td>\n",
       "      <td>0xE6100000010C6BF8718F00694040203A4E1B1F355DC0</td>\n",
       "      <td>3841</td>\n",
       "    </tr>\n",
       "  </tbody>\n",
       "</table>\n",
       "</div>"
      ],
      "text/plain": [
       "                     City State Province        Country Sales Territory  \\\n",
       "City Key                                                                  \n",
       "18                 Carson     California  United States        Far West   \n",
       "12414               Moapa         Nevada  United States        Far West   \n",
       "12494          East Orosi     California  United States        Far West   \n",
       "12599           Glen Avon     California  United States        Far West   \n",
       "12671     Harbison Canyon     California  United States        Far West   \n",
       "\n",
       "                                                Location  \\\n",
       "City Key                                                   \n",
       "18        0xE6100000010C345A58816BEA4040AC1BEF8E0C925DC0   \n",
       "12414     0xE6100000010C94BC3AC78056424047263B91BBA75CC0   \n",
       "12494     0xE6100000010C05847B0A2546424041C2E6D2AED05DC0   \n",
       "12599     0xE6100000010CA1421ABA7E01414050429F7E065F5DC0   \n",
       "12671     0xE6100000010C6BF8718F00694040203A4E1B1F355DC0   \n",
       "\n",
       "          Latest Recorded Population  \n",
       "City Key                              \n",
       "18                             91714  \n",
       "12414                           1025  \n",
       "12494                            495  \n",
       "12599                          20199  \n",
       "12671                           3841  "
      ]
     },
     "execution_count": 181,
     "metadata": {},
     "output_type": "execute_result"
    }
   ],
   "source": [
    "city_table.head()"
   ]
  },
  {
   "cell_type": "code",
   "execution_count": 182,
   "id": "ce46a2c6-993d-415a-8793-1918deb6abb7",
   "metadata": {},
   "outputs": [],
   "source": [
    "fact_table.join(city_table, fact_table[\"City Key\"] == city_table[\"City Key\"]) "
   ]
  },
  {
   "cell_type": "code",
   "execution_count": 183,
   "id": "b571efb1-8ebf-4b96-8f81-0523be565a21",
   "metadata": {},
   "outputs": [
    {
     "data": {
      "text/markdown": [
       "```mermaid\n",
       "erDiagram\n",
       "  \"Sales\" {\n",
       "    _ int PK \"Sale Key\"\n",
       "    nullable int \"City Key\"\n",
       "    nullable double \"Customer Key\"\n",
       "    nullable int \"Bill To Customer Key\"\n",
       "    nullable int \"Stock Item Key\"\n",
       "    _ String \"Invoice Date Key\"\n",
       "    _ String \"Delivery Date Key\"\n",
       "    nullable int \"Salesperson Key\"\n",
       "    nullable int \"WWI Invoice ID\"\n",
       "    _ String \"Description\"\n",
       "    _ String \"Package\"\n",
       "    nullable int \"Quantity\"\n",
       "    nullable double \"Unit Price\"\n",
       "    nullable int \"Tax Rate\"\n",
       "    nullable double \"Total Excluding Tax\"\n",
       "    nullable double \"Tax Amount\"\n",
       "    nullable double \"Profit\"\n",
       "    nullable double \"Total Including Tax\"\n",
       "    nullable int \"Total Dry Items\"\n",
       "    nullable int \"Total Chiller Items\"\n",
       "    nullable int \"Lineage Key\"\n",
       "  }\n",
       "  \"Date\" {\n",
       "    _ String PK \"Date\"\n",
       "    nullable int \"Day Number\"\n",
       "    nullable int \"Day\"\n",
       "    _ String \"Month\"\n",
       "    _ String \"Short Month\"\n",
       "    nullable int \"Calendar Month Number\"\n",
       "    _ String \"Calendar Month Label\"\n",
       "    nullable int \"Calendar Year\"\n",
       "    _ String \"Calendar Year Label\"\n",
       "    nullable int \"Fiscal Month Number\"\n",
       "    _ String \"Fiscal Month Label\"\n",
       "    nullable int \"Fiscal Year\"\n",
       "    _ String \"Fiscal Year Label\"\n",
       "    nullable int \"ISO Week Number\"\n",
       "  }\n",
       "  \"Employee\" {\n",
       "    _ int PK \"Employee Key\"\n",
       "    nullable int \"WWI Employee ID\"\n",
       "    _ String \"Employee\"\n",
       "    _ String \"Preferred Name\"\n",
       "    nullable int \"Is Salesperson\"\n",
       "    _ String \"Photo\"\n",
       "    _ String \"Valid From\"\n",
       "    _ String \"Valid To\"\n",
       "    nullable int \"Lineage Key\"\n",
       "  }\n",
       "  \"Customer\" {\n",
       "    _ double PK \"Customer Key\"\n",
       "    _ String \"WWI Customer ID\"\n",
       "    _ String \"Customer\"\n",
       "    _ String \"Bill To Customer\"\n",
       "    _ String \"Category\"\n",
       "    _ String \"Buying Group\"\n",
       "    _ String \"Primary Contact\"\n",
       "    _ String \"Postal Code\"\n",
       "    _ String \"Credit Limit\"\n",
       "    _ String \"Lineage Key\"\n",
       "  }\n",
       "  \"City\" {\n",
       "    _ int PK \"City Key\"\n",
       "    _ String \"City\"\n",
       "    _ String \"State Province\"\n",
       "    _ String \"Country\"\n",
       "    _ String \"Sales Territory\"\n",
       "    _ String \"Location\"\n",
       "    nullable int \"Latest Recorded Population\"\n",
       "  }\n",
       "  \"Sales\" }o--o| \"City\" : \"`City Key` == `City Key`\"\n",
       "  \"Sales\" }o--o| \"Customer\" : \"`Customer Key` == `Customer Key`\"\n",
       "  \"Sales\" }o--o| \"Date\" : \"`Delivery Date Key` == `Date`\"\n",
       "  \"Sales\" }o--o| \"Employee\" : \"`Salesperson Key` == `Employee Key`\"\n",
       "```\n"
      ],
      "text/plain": [
       "erDiagram\n",
       "  \"Sales\" {\n",
       "    _ int PK \"Sale Key\"\n",
       "    nullable int \"City Key\"\n",
       "    nullable double \"Customer Key\"\n",
       "    nullable int \"Bill To Customer Key\"\n",
       "    nullable int \"Stock Item Key\"\n",
       "    _ String \"Invoice Date Key\"\n",
       "    _ String \"Delivery Date Key\"\n",
       "    nullable int \"Salesperson Key\"\n",
       "    nullable int \"WWI Invoice ID\"\n",
       "    _ String \"Description\"\n",
       "    _ String \"Package\"\n",
       "    nullable int \"Quantity\"\n",
       "    nullable double \"Unit Price\"\n",
       "    nullable int \"Tax Rate\"\n",
       "    nullable double \"Total Excluding Tax\"\n",
       "    nullable double \"Tax Amount\"\n",
       "    nullable double \"Profit\"\n",
       "    nullable double \"Total Including Tax\"\n",
       "    nullable int \"Total Dry Items\"\n",
       "    nullable int \"Total Chiller Items\"\n",
       "    nullable int \"Lineage Key\"\n",
       "  }\n",
       "  \"Date\" {\n",
       "    _ String PK \"Date\"\n",
       "    nullable int \"Day Number\"\n",
       "    nullable int \"Day\"\n",
       "    _ String \"Month\"\n",
       "    _ String \"Short Month\"\n",
       "    nullable int \"Calendar Month Number\"\n",
       "    _ String \"Calendar Month Label\"\n",
       "    nullable int \"Calendar Year\"\n",
       "    _ String \"Calendar Year Label\"\n",
       "    nullable int \"Fiscal Month Number\"\n",
       "    _ String \"Fiscal Month Label\"\n",
       "    nullable int \"Fiscal Year\"\n",
       "    _ String \"Fiscal Year Label\"\n",
       "    nullable int \"ISO Week Number\"\n",
       "  }\n",
       "  \"Employee\" {\n",
       "    _ int PK \"Employee Key\"\n",
       "    nullable int \"WWI Employee ID\"\n",
       "    _ String \"Employee\"\n",
       "    _ String \"Preferred Name\"\n",
       "    nullable int \"Is Salesperson\"\n",
       "    _ String \"Photo\"\n",
       "    _ String \"Valid From\"\n",
       "    _ String \"Valid To\"\n",
       "    nullable int \"Lineage Key\"\n",
       "  }\n",
       "  \"Customer\" {\n",
       "    _ double PK \"Customer Key\"\n",
       "    _ String \"WWI Customer ID\"\n",
       "    _ String \"Customer\"\n",
       "    _ String \"Bill To Customer\"\n",
       "    _ String \"Category\"\n",
       "    _ String \"Buying Group\"\n",
       "    _ String \"Primary Contact\"\n",
       "    _ String \"Postal Code\"\n",
       "    _ String \"Credit Limit\"\n",
       "    _ String \"Lineage Key\"\n",
       "  }\n",
       "  \"City\" {\n",
       "    _ int PK \"City Key\"\n",
       "    _ String \"City\"\n",
       "    _ String \"State Province\"\n",
       "    _ String \"Country\"\n",
       "    _ String \"Sales Territory\"\n",
       "    _ String \"Location\"\n",
       "    nullable int \"Latest Recorded Population\"\n",
       "  }\n",
       "  \"Sales\" }o--o| \"City\" : \"`City Key` == `City Key`\"\n",
       "  \"Sales\" }o--o| \"Customer\" : \"`Customer Key` == `Customer Key`\"\n",
       "  \"Sales\" }o--o| \"Date\" : \"`Delivery Date Key` == `Date`\"\n",
       "  \"Sales\" }o--o| \"Employee\" : \"`Salesperson Key` == `Employee Key`\""
      ]
     },
     "execution_count": 183,
     "metadata": {},
     "output_type": "execute_result"
    }
   ],
   "source": [
    "session.tables.schema"
   ]
  },
  {
   "cell_type": "code",
   "execution_count": 184,
   "id": "7c4abecb-699f-4ef4-801b-ad4b44e43359",
   "metadata": {},
   "outputs": [
    {
     "name": "stdout",
     "output_type": "stream",
     "text": [
      "               WWI Stock Item ID  \\\n",
      "Stock Item Key                     \n",
      "7                            213   \n",
      "15                           205   \n",
      "23                           197   \n",
      "31                           189   \n",
      "39                           181   \n",
      "\n",
      "                                                       Stock Item Color  \\\n",
      "Stock Item Key                                                            \n",
      "7                               Air cushion film 200mmx100mm 325m   N/A   \n",
      "15                                          Tape dispenser (Blue)   N/A   \n",
      "23              Black and orange this way up despatch tape 48m...   N/A   \n",
      "31                                  Clear packaging tape 48mmx75m   N/A   \n",
      "39                          Shipping carton (Brown) 356x229x229mm   N/A   \n",
      "\n",
      "               Selling Package Buying Package Brand           Size  \\\n",
      "Stock Item Key                                                       \n",
      "7                         Each           Each   N/A           325m   \n",
      "15                        Each           Each   N/A            N/A   \n",
      "23                        Each           Each   N/A       48mmx75m   \n",
      "31                        Each           Each   N/A       48mmx75m   \n",
      "39                        Each           Each   N/A  356x229x229mm   \n",
      "\n",
      "               Lead Time Days Quantity Per Outer Is Chiller Stock Barcode  \\\n",
      "Stock Item Key                                                              \n",
      "7                          14                  1                0     N/A   \n",
      "15                         20                 10                0     N/A   \n",
      "23                         14                 24                0     N/A   \n",
      "31                         14                 26                0     N/A   \n",
      "39                         14                 25                0     N/A   \n",
      "\n",
      "               Tax Rate Unit Price  Recommended Retail Price  \\\n",
      "Stock Item Key                                                 \n",
      "7                    14         87                    130.07   \n",
      "15                   20         32                     47.84   \n",
      "23                   14        3.7                      5.53   \n",
      "31                   14        2.9                      4.34   \n",
      "39                   14       1.14                       1.7   \n",
      "\n",
      "               Typical Weight Per Unit Photo Discount Valid From Valid To  \\\n",
      "Stock Item Key                                                              \n",
      "7                                    5   N/A      N/A    00:00.0  00:00.0   \n",
      "15                                   1   N/A      N/A    00:00.0  00:00.0   \n",
      "23                                 0.5   N/A      N/A    00:00.0  00:00.0   \n",
      "31                                 0.5   N/A      N/A    00:00.0  00:00.0   \n",
      "39                                 0.4   N/A      N/A    00:00.0  00:00.0   \n",
      "\n",
      "               Lineage Key  \n",
      "Stock Item Key              \n",
      "7                        5  \n",
      "15                       5  \n",
      "23                       5  \n",
      "31                       5  \n",
      "39                       5  \n"
     ]
    }
   ],
   "source": [
    "import pandas as pd\n",
    "\n",
    "# Charger le fichier CSV et ignorer la première ligne\n",
    "df = pd.read_csv(\"Datasets/WWI/DimStockItem.csv\", skiprows=1, header=None)\n",
    "\n",
    "# Définir les noms de colonnes\n",
    "df.columns = [\n",
    "    \"Stock Item Key\", \"WWI Stock Item ID\", \"Stock Item\", \"Color\", \"Selling Package\", \"Buying Package\", \n",
    "    \"Brand\", \"Size\", \"Lead Time Days\", \"Quantity Per Outer\", \"Is Chiller Stock\", \"Barcode\", \n",
    "    \"Tax Rate\", \"Unit Price\", \"Recommended Retail Price\", \"Typical Weight Per Unit\", \"Photo\", \n",
    "    \"Discount\", \"Valid From\", \"Valid To\", \"Lineage Key\"\n",
    "]\n",
    "# Remplir les valeurs manquantes de \"Stock Item Key\" avec 0\n",
    "df[\"Stock Item Key\"] = df[\"Stock Item Key\"].fillna(0)\n",
    "# Filtrer les lignes où \"Stock Item Key\" peut être converti en numérique\n",
    "df = df[pd.to_numeric(df[\"Stock Item Key\"], errors=\"coerce\").notna()]\n",
    "# Convertir \"Stock Item Key\" en type entier\n",
    "df[\"Stock Item Key\"] = df[\"Stock Item Key\"].astype(int)\n",
    "# Supprimer les \"?\" de la colonne \"Recommended Retail Price\"\n",
    "df[\"Recommended Retail Price\"] = df[\"Recommended Retail Price\"].str.replace(\"?\", \"\", regex=False)\n",
    "# Convertir la colonne \"Recommended Retail Price\" en numérique, gérer les erreurs\n",
    "df[\"Recommended Retail Price\"] = pd.to_numeric(df[\"Recommended Retail Price\"], errors=\"coerce\")\n",
    "# Importer le DataFrame modifié dans Atoti\n",
    "stockitem_table = session.read_pandas(df, keys=[\"Stock Item Key\"], table_name=\"StockItem\")\n",
    "# Vérifier si tout a bien été importé\n",
    "print(stockitem_table.head())\n"
   ]
  },
  {
   "cell_type": "code",
   "execution_count": 185,
   "id": "8ecc9952-3a0e-4bdd-b9a4-9660b262db35",
   "metadata": {},
   "outputs": [],
   "source": [
    "fact_table.join(stockitem_table, fact_table[\"Stock Item Key\"] == stockitem_table[\"Stock Item Key\"]) "
   ]
  },
  {
   "cell_type": "code",
   "execution_count": 186,
   "id": "7ad72046-9eed-4792-b263-5a1a4c8f7c5f",
   "metadata": {},
   "outputs": [
    {
     "data": {
      "text/html": [
       "<div>\n",
       "<style scoped>\n",
       "    .dataframe tbody tr th:only-of-type {\n",
       "        vertical-align: middle;\n",
       "    }\n",
       "\n",
       "    .dataframe tbody tr th {\n",
       "        vertical-align: top;\n",
       "    }\n",
       "\n",
       "    .dataframe thead th {\n",
       "        text-align: right;\n",
       "    }\n",
       "</style>\n",
       "<table border=\"1\" class=\"dataframe\">\n",
       "  <thead>\n",
       "    <tr style=\"text-align: right;\">\n",
       "      <th></th>\n",
       "      <th>WWI Stock Item ID</th>\n",
       "      <th>Stock Item</th>\n",
       "      <th>Color</th>\n",
       "      <th>Selling Package</th>\n",
       "      <th>Buying Package</th>\n",
       "      <th>Brand</th>\n",
       "      <th>Size</th>\n",
       "      <th>Lead Time Days</th>\n",
       "      <th>Quantity Per Outer</th>\n",
       "      <th>Is Chiller Stock</th>\n",
       "      <th>Barcode</th>\n",
       "      <th>Tax Rate</th>\n",
       "      <th>Unit Price</th>\n",
       "      <th>Recommended Retail Price</th>\n",
       "      <th>Typical Weight Per Unit</th>\n",
       "      <th>Photo</th>\n",
       "      <th>Discount</th>\n",
       "      <th>Valid From</th>\n",
       "      <th>Valid To</th>\n",
       "      <th>Lineage Key</th>\n",
       "    </tr>\n",
       "    <tr>\n",
       "      <th>Stock Item Key</th>\n",
       "      <th></th>\n",
       "      <th></th>\n",
       "      <th></th>\n",
       "      <th></th>\n",
       "      <th></th>\n",
       "      <th></th>\n",
       "      <th></th>\n",
       "      <th></th>\n",
       "      <th></th>\n",
       "      <th></th>\n",
       "      <th></th>\n",
       "      <th></th>\n",
       "      <th></th>\n",
       "      <th></th>\n",
       "      <th></th>\n",
       "      <th></th>\n",
       "      <th></th>\n",
       "      <th></th>\n",
       "      <th></th>\n",
       "      <th></th>\n",
       "    </tr>\n",
       "  </thead>\n",
       "  <tbody>\n",
       "    <tr>\n",
       "      <th>1</th>\n",
       "      <td>219</td>\n",
       "      <td>Void fill 400 L bag (White) 400L</td>\n",
       "      <td>N/A</td>\n",
       "      <td>Each</td>\n",
       "      <td>Each</td>\n",
       "      <td>N/A</td>\n",
       "      <td>400L</td>\n",
       "      <td>14</td>\n",
       "      <td>10</td>\n",
       "      <td>0</td>\n",
       "      <td>N/A</td>\n",
       "      <td>14</td>\n",
       "      <td>50</td>\n",
       "      <td>74.75</td>\n",
       "      <td>1</td>\n",
       "      <td>N/A</td>\n",
       "      <td>N/A</td>\n",
       "      <td>00:00.0</td>\n",
       "      <td>00:00.0</td>\n",
       "      <td>5</td>\n",
       "    </tr>\n",
       "    <tr>\n",
       "      <th>9</th>\n",
       "      <td>211</td>\n",
       "      <td>Small 9mm replacement blades 9mm</td>\n",
       "      <td>N/A</td>\n",
       "      <td>Each</td>\n",
       "      <td>Each</td>\n",
       "      <td>N/A</td>\n",
       "      <td>9mm</td>\n",
       "      <td>14</td>\n",
       "      <td>10</td>\n",
       "      <td>0</td>\n",
       "      <td>N/A</td>\n",
       "      <td>14</td>\n",
       "      <td>4.1</td>\n",
       "      <td>6.13</td>\n",
       "      <td>0.7</td>\n",
       "      <td>N/A</td>\n",
       "      <td>N/A</td>\n",
       "      <td>00:00.0</td>\n",
       "      <td>00:00.0</td>\n",
       "      <td>5</td>\n",
       "    </tr>\n",
       "    <tr>\n",
       "      <th>17</th>\n",
       "      <td>203</td>\n",
       "      <td>Tape dispenser (Black)</td>\n",
       "      <td>N/A</td>\n",
       "      <td>Each</td>\n",
       "      <td>Each</td>\n",
       "      <td>N/A</td>\n",
       "      <td>N/A</td>\n",
       "      <td>20</td>\n",
       "      <td>10</td>\n",
       "      <td>0</td>\n",
       "      <td>N/A</td>\n",
       "      <td>20</td>\n",
       "      <td>32</td>\n",
       "      <td>47.84</td>\n",
       "      <td>1</td>\n",
       "      <td>N/A</td>\n",
       "      <td>N/A</td>\n",
       "      <td>00:00.0</td>\n",
       "      <td>00:00.0</td>\n",
       "      <td>5</td>\n",
       "    </tr>\n",
       "    <tr>\n",
       "      <th>25</th>\n",
       "      <td>195</td>\n",
       "      <td>Black and orange handle with care despatch tap...</td>\n",
       "      <td>N/A</td>\n",
       "      <td>Each</td>\n",
       "      <td>Each</td>\n",
       "      <td>N/A</td>\n",
       "      <td>48mmx75m</td>\n",
       "      <td>14</td>\n",
       "      <td>24</td>\n",
       "      <td>0</td>\n",
       "      <td>N/A</td>\n",
       "      <td>14</td>\n",
       "      <td>3.7</td>\n",
       "      <td>5.53</td>\n",
       "      <td>0.5</td>\n",
       "      <td>N/A</td>\n",
       "      <td>N/A</td>\n",
       "      <td>00:00.0</td>\n",
       "      <td>00:00.0</td>\n",
       "      <td>5</td>\n",
       "    </tr>\n",
       "    <tr>\n",
       "      <th>33</th>\n",
       "      <td>187</td>\n",
       "      <td>Express post box 5kg (White) 350x280x130mm</td>\n",
       "      <td>N/A</td>\n",
       "      <td>Each</td>\n",
       "      <td>Each</td>\n",
       "      <td>N/A</td>\n",
       "      <td>350x280x130mm</td>\n",
       "      <td>14</td>\n",
       "      <td>25</td>\n",
       "      <td>0</td>\n",
       "      <td>N/A</td>\n",
       "      <td>14</td>\n",
       "      <td>0.95</td>\n",
       "      <td>1.42</td>\n",
       "      <td>0.2</td>\n",
       "      <td>N/A</td>\n",
       "      <td>N/A</td>\n",
       "      <td>00:00.0</td>\n",
       "      <td>00:00.0</td>\n",
       "      <td>5</td>\n",
       "    </tr>\n",
       "  </tbody>\n",
       "</table>\n",
       "</div>"
      ],
      "text/plain": [
       "               WWI Stock Item ID  \\\n",
       "Stock Item Key                     \n",
       "1                            219   \n",
       "9                            211   \n",
       "17                           203   \n",
       "25                           195   \n",
       "33                           187   \n",
       "\n",
       "                                                       Stock Item Color  \\\n",
       "Stock Item Key                                                            \n",
       "1                                Void fill 400 L bag (White) 400L   N/A   \n",
       "9                                Small 9mm replacement blades 9mm   N/A   \n",
       "17                                         Tape dispenser (Black)   N/A   \n",
       "25              Black and orange handle with care despatch tap...   N/A   \n",
       "33                     Express post box 5kg (White) 350x280x130mm   N/A   \n",
       "\n",
       "               Selling Package Buying Package Brand           Size  \\\n",
       "Stock Item Key                                                       \n",
       "1                         Each           Each   N/A           400L   \n",
       "9                         Each           Each   N/A            9mm   \n",
       "17                        Each           Each   N/A            N/A   \n",
       "25                        Each           Each   N/A       48mmx75m   \n",
       "33                        Each           Each   N/A  350x280x130mm   \n",
       "\n",
       "               Lead Time Days Quantity Per Outer Is Chiller Stock Barcode  \\\n",
       "Stock Item Key                                                              \n",
       "1                          14                 10                0     N/A   \n",
       "9                          14                 10                0     N/A   \n",
       "17                         20                 10                0     N/A   \n",
       "25                         14                 24                0     N/A   \n",
       "33                         14                 25                0     N/A   \n",
       "\n",
       "               Tax Rate Unit Price  Recommended Retail Price  \\\n",
       "Stock Item Key                                                 \n",
       "1                    14         50                     74.75   \n",
       "9                    14        4.1                      6.13   \n",
       "17                   20         32                     47.84   \n",
       "25                   14        3.7                      5.53   \n",
       "33                   14       0.95                      1.42   \n",
       "\n",
       "               Typical Weight Per Unit Photo Discount Valid From Valid To  \\\n",
       "Stock Item Key                                                              \n",
       "1                                    1   N/A      N/A    00:00.0  00:00.0   \n",
       "9                                  0.7   N/A      N/A    00:00.0  00:00.0   \n",
       "17                                   1   N/A      N/A    00:00.0  00:00.0   \n",
       "25                                 0.5   N/A      N/A    00:00.0  00:00.0   \n",
       "33                                 0.2   N/A      N/A    00:00.0  00:00.0   \n",
       "\n",
       "               Lineage Key  \n",
       "Stock Item Key              \n",
       "1                        5  \n",
       "9                        5  \n",
       "17                       5  \n",
       "25                       5  \n",
       "33                       5  "
      ]
     },
     "execution_count": 186,
     "metadata": {},
     "output_type": "execute_result"
    }
   ],
   "source": [
    "stockitem_table.head()"
   ]
  },
  {
   "cell_type": "code",
   "execution_count": 53,
   "id": "0a45562e-2ac5-4112-9b3f-f98ffb93ec4f",
   "metadata": {},
   "outputs": [
    {
     "data": {
      "text/markdown": [
       "```mermaid\n",
       "erDiagram\n",
       "  \"Sales\" {\n",
       "    _ int PK \"Sale Key\"\n",
       "    nullable int \"City Key\"\n",
       "    nullable double \"Customer Key\"\n",
       "    nullable int \"Bill To Customer Key\"\n",
       "    nullable long \"Stock Item Key\"\n",
       "    _ String \"Invoice Date Key\"\n",
       "    _ String \"Delivery Date Key\"\n",
       "    nullable int \"Salesperson Key\"\n",
       "    nullable int \"WWI Invoice ID\"\n",
       "    _ String \"Description\"\n",
       "    _ String \"Package\"\n",
       "    nullable int \"Quantity\"\n",
       "    nullable double \"Unit Price\"\n",
       "    nullable int \"Tax Rate\"\n",
       "    nullable double \"Total Excluding Tax\"\n",
       "    nullable double \"Tax Amount\"\n",
       "    nullable double \"Profit\"\n",
       "    nullable double \"Total Including Tax\"\n",
       "    nullable int \"Total Dry Items\"\n",
       "    nullable int \"Total Chiller Items\"\n",
       "    nullable int \"Lineage Key\"\n",
       "  }\n",
       "  \"Date\" {\n",
       "    _ String PK \"Date\"\n",
       "    nullable int \"Day Number\"\n",
       "    nullable int \"Day\"\n",
       "    _ String \"Month\"\n",
       "    _ String \"Short Month\"\n",
       "    nullable int \"Calendar Month Number\"\n",
       "    _ String \"Calendar Month Label\"\n",
       "    nullable int \"Calendar Year\"\n",
       "    _ String \"Calendar Year Label\"\n",
       "    nullable int \"Fiscal Month Number\"\n",
       "    _ String \"Fiscal Month Label\"\n",
       "    nullable int \"Fiscal Year\"\n",
       "    _ String \"Fiscal Year Label\"\n",
       "    nullable int \"ISO Week Number\"\n",
       "  }\n",
       "  \"Employee\" {\n",
       "    _ int PK \"Employee Key\"\n",
       "    nullable int \"WWI Employee ID\"\n",
       "    _ String \"Employee\"\n",
       "    _ String \"Preferred Name\"\n",
       "    nullable int \"Is Salesperson\"\n",
       "    _ String \"Photo\"\n",
       "    _ String \"Valid From\"\n",
       "    _ String \"Valid To\"\n",
       "    nullable int \"Lineage Key\"\n",
       "  }\n",
       "  \"Customer\" {\n",
       "    _ double PK \"Customer Key\"\n",
       "    _ String \"WWI Customer ID\"\n",
       "    _ String \"Customer\"\n",
       "    _ String \"Bill To Customer\"\n",
       "    _ String \"Category\"\n",
       "    _ String \"Buying Group\"\n",
       "    _ String \"Primary Contact\"\n",
       "    _ String \"Postal Code\"\n",
       "    _ String \"Credit Limit\"\n",
       "    _ String \"Lineage Key\"\n",
       "  }\n",
       "  \"City\" {\n",
       "    _ int PK \"City Key\"\n",
       "    _ String \"City\"\n",
       "    _ String \"State Province\"\n",
       "    _ String \"Country\"\n",
       "    _ String \"Sales Territory\"\n",
       "    _ String \"Location\"\n",
       "    nullable int \"Latest Recorded Population\"\n",
       "  }\n",
       "  \"StockItem\" {\n",
       "    _ long PK \"Stock Item Key\"\n",
       "    _ String \"WWI Stock Item ID\"\n",
       "    _ String \"Stock Item\"\n",
       "    _ String \"Color\"\n",
       "    _ String \"Selling Package\"\n",
       "    _ String \"Buying Package\"\n",
       "    _ String \"Brand\"\n",
       "    _ String \"Size\"\n",
       "    _ String \"Lead Time Days\"\n",
       "    _ String \"Quantity Per Outer\"\n",
       "    _ String \"Is Chiller Stock\"\n",
       "    _ String \"Barcode\"\n",
       "    _ String \"Tax Rate\"\n",
       "    _ String \"Unit Price\"\n",
       "    nullable double \"Recommended Retail Price\"\n",
       "    _ String \"Typical Weight Per Unit\"\n",
       "    _ String \"Photo\"\n",
       "    _ String \"Discount\"\n",
       "    _ String \"Valid From\"\n",
       "    _ String \"Valid To\"\n",
       "    _ String \"Lineage Key\"\n",
       "  }\n",
       "  \"Sales\" }o--o| \"City\" : \"`City Key` == `City Key`\"\n",
       "  \"Sales\" }o--o| \"Customer\" : \"`Customer Key` == `Customer Key`\"\n",
       "  \"Sales\" }o--o| \"Date\" : \"`Delivery Date Key` == `Date`\"\n",
       "  \"Sales\" }o--o| \"Employee\" : \"`Salesperson Key` == `Employee Key`\"\n",
       "  \"Sales\" }o--o| \"StockItem\" : \"`Stock Item Key` == `Stock Item Key`\"\n",
       "```\n"
      ],
      "text/plain": [
       "erDiagram\n",
       "  \"Sales\" {\n",
       "    _ int PK \"Sale Key\"\n",
       "    nullable int \"City Key\"\n",
       "    nullable double \"Customer Key\"\n",
       "    nullable int \"Bill To Customer Key\"\n",
       "    nullable long \"Stock Item Key\"\n",
       "    _ String \"Invoice Date Key\"\n",
       "    _ String \"Delivery Date Key\"\n",
       "    nullable int \"Salesperson Key\"\n",
       "    nullable int \"WWI Invoice ID\"\n",
       "    _ String \"Description\"\n",
       "    _ String \"Package\"\n",
       "    nullable int \"Quantity\"\n",
       "    nullable double \"Unit Price\"\n",
       "    nullable int \"Tax Rate\"\n",
       "    nullable double \"Total Excluding Tax\"\n",
       "    nullable double \"Tax Amount\"\n",
       "    nullable double \"Profit\"\n",
       "    nullable double \"Total Including Tax\"\n",
       "    nullable int \"Total Dry Items\"\n",
       "    nullable int \"Total Chiller Items\"\n",
       "    nullable int \"Lineage Key\"\n",
       "  }\n",
       "  \"Date\" {\n",
       "    _ String PK \"Date\"\n",
       "    nullable int \"Day Number\"\n",
       "    nullable int \"Day\"\n",
       "    _ String \"Month\"\n",
       "    _ String \"Short Month\"\n",
       "    nullable int \"Calendar Month Number\"\n",
       "    _ String \"Calendar Month Label\"\n",
       "    nullable int \"Calendar Year\"\n",
       "    _ String \"Calendar Year Label\"\n",
       "    nullable int \"Fiscal Month Number\"\n",
       "    _ String \"Fiscal Month Label\"\n",
       "    nullable int \"Fiscal Year\"\n",
       "    _ String \"Fiscal Year Label\"\n",
       "    nullable int \"ISO Week Number\"\n",
       "  }\n",
       "  \"Employee\" {\n",
       "    _ int PK \"Employee Key\"\n",
       "    nullable int \"WWI Employee ID\"\n",
       "    _ String \"Employee\"\n",
       "    _ String \"Preferred Name\"\n",
       "    nullable int \"Is Salesperson\"\n",
       "    _ String \"Photo\"\n",
       "    _ String \"Valid From\"\n",
       "    _ String \"Valid To\"\n",
       "    nullable int \"Lineage Key\"\n",
       "  }\n",
       "  \"Customer\" {\n",
       "    _ double PK \"Customer Key\"\n",
       "    _ String \"WWI Customer ID\"\n",
       "    _ String \"Customer\"\n",
       "    _ String \"Bill To Customer\"\n",
       "    _ String \"Category\"\n",
       "    _ String \"Buying Group\"\n",
       "    _ String \"Primary Contact\"\n",
       "    _ String \"Postal Code\"\n",
       "    _ String \"Credit Limit\"\n",
       "    _ String \"Lineage Key\"\n",
       "  }\n",
       "  \"City\" {\n",
       "    _ int PK \"City Key\"\n",
       "    _ String \"City\"\n",
       "    _ String \"State Province\"\n",
       "    _ String \"Country\"\n",
       "    _ String \"Sales Territory\"\n",
       "    _ String \"Location\"\n",
       "    nullable int \"Latest Recorded Population\"\n",
       "  }\n",
       "  \"StockItem\" {\n",
       "    _ long PK \"Stock Item Key\"\n",
       "    _ String \"WWI Stock Item ID\"\n",
       "    _ String \"Stock Item\"\n",
       "    _ String \"Color\"\n",
       "    _ String \"Selling Package\"\n",
       "    _ String \"Buying Package\"\n",
       "    _ String \"Brand\"\n",
       "    _ String \"Size\"\n",
       "    _ String \"Lead Time Days\"\n",
       "    _ String \"Quantity Per Outer\"\n",
       "    _ String \"Is Chiller Stock\"\n",
       "    _ String \"Barcode\"\n",
       "    _ String \"Tax Rate\"\n",
       "    _ String \"Unit Price\"\n",
       "    nullable double \"Recommended Retail Price\"\n",
       "    _ String \"Typical Weight Per Unit\"\n",
       "    _ String \"Photo\"\n",
       "    _ String \"Discount\"\n",
       "    _ String \"Valid From\"\n",
       "    _ String \"Valid To\"\n",
       "    _ String \"Lineage Key\"\n",
       "  }\n",
       "  \"Sales\" }o--o| \"City\" : \"`City Key` == `City Key`\"\n",
       "  \"Sales\" }o--o| \"Customer\" : \"`Customer Key` == `Customer Key`\"\n",
       "  \"Sales\" }o--o| \"Date\" : \"`Delivery Date Key` == `Date`\"\n",
       "  \"Sales\" }o--o| \"Employee\" : \"`Salesperson Key` == `Employee Key`\"\n",
       "  \"Sales\" }o--o| \"StockItem\" : \"`Stock Item Key` == `Stock Item Key`\""
      ]
     },
     "execution_count": 53,
     "metadata": {},
     "output_type": "execute_result"
    }
   ],
   "source": [
    "session.tables.schema"
   ]
  },
  {
   "cell_type": "code",
   "execution_count": 54,
   "id": "016bcdb0-87b9-4d79-90aa-15c4c5d776ec",
   "metadata": {
    "atoti": {
     "widget": {
      "mapping": {
       "horizontalSubplots": [],
       "splitBy": [
        "ALL_MEASURES"
       ],
       "values": [
        "[Measures].[Total Dry Items.SUM]",
        "[Measures].[Quantity.SUM]",
        "[Measures].[Total Chiller Items.SUM]"
       ],
       "verticalSubplots": [],
       "xAxis": [
        "[Date].[Calendar Year Label].[Calendar Year Label]"
       ]
      },
      "query": {
       "mdx": "SELECT NON EMPTY Hierarchize(Descendants({[Date].[Calendar Year Label].[ALL].[AllMember]}, 1, SELF_AND_BEFORE)) ON ROWS, NON EMPTY {[Measures].[Total Dry Items.SUM], [Measures].[Quantity.SUM], [Measures].[Total Chiller Items.SUM]} ON COLUMNS FROM [Sales] CELL PROPERTIES VALUE, FORMATTED_VALUE, BACK_COLOR, FORE_COLOR, FONT_FLAGS",
       "updateMode": "once"
      },
      "serverKey": "default",
      "widgetKey": "plotly-clustered-column-chart"
     }
    }
   },
   "outputs": [
    {
     "data": {
      "application/vnd.atoti.widget.v0+json": {
       "sessionId": "1741384240_281415",
       "sessionUrl": "http://localhost:61486",
       "widgetCreationCode": "session.widget"
      },
      "text/html": [
       "<img height=\"0\" width=\"0\" src=\"data:,\" />"
      ],
      "text/plain": [
       "Open the notebook in JupyterLab with the Atoti JupyterLab extension enabled to build this widget."
      ]
     },
     "metadata": {},
     "output_type": "display_data"
    }
   ],
   "source": [
    "session.widget"
   ]
  },
  {
   "cell_type": "code",
   "execution_count": 187,
   "id": "7757915e-acf0-4a49-bdd0-2f80fd3bc6a0",
   "metadata": {},
   "outputs": [],
   "source": [
    "m[\"Max Unit Price\"] = tt.agg.max(fact_table[\"Unit Price\"])"
   ]
  },
  {
   "cell_type": "code",
   "execution_count": 188,
   "id": "4967e8e2-4450-42bd-8127-82eacf86c19a",
   "metadata": {},
   "outputs": [
    {
     "data": {
      "application/vnd.atoti.convert-mdx-query-result-to-widget.v0+json": {
       "mdx": "SELECT {[Measures].[Max Unit Price]} ON COLUMNS FROM [Sales]",
       "sessionId": "1741544292_580331",
       "widgetCreationCode": "session.widget"
      },
      "text/html": [
       "<div>\n",
       "<style scoped>\n",
       "    .dataframe tbody tr th:only-of-type {\n",
       "        vertical-align: middle;\n",
       "    }\n",
       "\n",
       "    .dataframe tbody tr th {\n",
       "        vertical-align: top;\n",
       "    }\n",
       "\n",
       "    .dataframe thead th {\n",
       "        text-align: right;\n",
       "    }\n",
       "</style>\n",
       "<table border=\"1\" class=\"dataframe\">\n",
       "  <thead>\n",
       "    <tr style=\"text-align: right;\">\n",
       "      <th></th>\n",
       "      <th>Max Unit Price</th>\n",
       "    </tr>\n",
       "  </thead>\n",
       "  <tbody>\n",
       "    <tr>\n",
       "      <th>0</th>\n",
       "      <td>1,899.00</td>\n",
       "    </tr>\n",
       "  </tbody>\n",
       "</table>\n",
       "</div>"
      ],
      "text/plain": [
       "  Max Unit Price\n",
       "0       1,899.00"
      ]
     },
     "execution_count": 188,
     "metadata": {},
     "output_type": "execute_result"
    }
   ],
   "source": [
    "cube.query(m[\"Max Unit Price\"], include_totals=True )"
   ]
  },
  {
   "cell_type": "code",
   "execution_count": 189,
   "id": "c1694fcf-ad6f-4ea1-a0d1-af692b8b624a",
   "metadata": {},
   "outputs": [],
   "source": [
    "m[\"Amount.SUM\"] = tt.agg.sum(fact_table[\"Quantity\"] * fact_table[\"Unit Price\"])\n",
    "\n",
    "m[\"Amount.MEAN\"] = tt.agg.mean(fact_table[\"Quantity\"] * fact_table[\"Unit Price\"])"
   ]
  },
  {
   "cell_type": "code",
   "execution_count": 74,
   "id": "eb5620b1-c8cc-4e09-9014-91868bd2c0cd",
   "metadata": {
    "atoti": {
     "widget": {
      "mapping": {
       "horizontalSubplots": [],
       "secondaryValues": [],
       "splitBy": [
        "ALL_MEASURES"
       ],
       "values": [
        "[Measures].[Amount.SUM]",
        "[Measures].[Amount.MEAN]"
       ],
       "verticalSubplots": [],
       "xAxis": [
        "[Date].[Calendar Year Label].[Calendar Year Label]"
       ]
      },
      "query": {
       "mdx": "SELECT NON EMPTY {[Measures].[Amount.SUM], [Measures].[Amount.MEAN]} ON COLUMNS, NON EMPTY Hierarchize(Descendants({[Date].[Calendar Year Label].[ALL].[AllMember]}, 1, SELF_AND_BEFORE)) ON ROWS FROM [Sales] CELL PROPERTIES VALUE, FORMATTED_VALUE, BACK_COLOR, FORE_COLOR, FONT_FLAGS",
       "updateMode": "once"
      },
      "serverKey": "default",
      "widgetKey": "plotly-line-chart"
     }
    }
   },
   "outputs": [
    {
     "data": {
      "application/vnd.atoti.widget.v0+json": {
       "sessionId": "1741384240_281415",
       "sessionUrl": "http://localhost:61486",
       "widgetCreationCode": "session.widget"
      },
      "text/html": [
       "<img height=\"0\" width=\"0\" src=\"data:,\" />"
      ],
      "text/plain": [
       "Open the notebook in JupyterLab with the Atoti JupyterLab extension enabled to build this widget."
      ]
     },
     "metadata": {},
     "output_type": "display_data"
    }
   ],
   "source": [
    "session.widget"
   ]
  },
  {
   "cell_type": "code",
   "execution_count": 190,
   "id": "1004c339-e200-4813-932b-ee8084bcc582",
   "metadata": {},
   "outputs": [],
   "source": [
    "cost = tt.agg.sum(\n",
    "    m[\"Quantity.SUM\"] * tt.agg.single_value(stockitem_table[\"Recommended Retail Price\"]),\n",
    "    scope=tt.OriginScope({l[\"Stock Item\"]}),\n",
    ")"
   ]
  },
  {
   "cell_type": "code",
   "execution_count": 191,
   "id": "467f2989-9418-490f-b50f-18d8643f1a73",
   "metadata": {},
   "outputs": [],
   "source": [
    "m[\"Margin\"] = m[\"Amount.SUM\"] - cost"
   ]
  },
  {
   "cell_type": "code",
   "execution_count": 192,
   "id": "aca3cc76-5d57-4152-931f-8c23c140851d",
   "metadata": {},
   "outputs": [],
   "source": [
    "m[\"Margin rate\"] = m[\"Margin\"] / m[\"Amount.SUM\"]"
   ]
  },
  {
   "cell_type": "code",
   "execution_count": 193,
   "id": "f785fbd4-45d9-432c-8be8-88a5db7ae3b9",
   "metadata": {},
   "outputs": [],
   "source": [
    "result = cube.query(\n",
    "    m[\"Margin\"], \n",
    "    m[\"Margin rate\"], \n",
    "    levels=[l[\"Stock Item\"]]  \n",
    ")"
   ]
  },
  {
   "cell_type": "code",
   "execution_count": 194,
   "id": "a07ae609-6ea8-42e4-91b7-65a4e529bb45",
   "metadata": {},
   "outputs": [
    {
     "name": "stdout",
     "output_type": "stream",
     "text": [
      "                                               Margin Margin rate\n",
      "Stock Item                                                       \n",
      "10 mm Anti static bubble wrap (Blue) 10m   -92,406.60        -.49\n",
      "10 mm Anti static bubble wrap (Blue) 20m  -150,519.60        -.49\n",
      "10 mm Anti static bubble wrap (Blue) 50m  -428,837.50        -.50\n",
      "10 mm Double sided bubble wrap 10m         -41,533.70        -.50\n",
      "10 mm Double sided bubble wrap 20m        -106,623.00        -.49\n",
      "...                                               ...         ...\n",
      "Void fill 200 L bag (White) 200L           -96,068.80        -.50\n",
      "Void fill 300 L bag (White) 300L          -130,848.00        -.49\n",
      "Void fill 400 L bag (White) 400L          -200,722.50        -.49\n",
      "White chocolate moon rocks 250g             -6,270.72        -.43\n",
      "White chocolate snow balls 250g             -8,125.44        -.43\n",
      "\n",
      "[227 rows x 2 columns]\n"
     ]
    }
   ],
   "source": [
    "print(result)"
   ]
  },
  {
   "cell_type": "code",
   "execution_count": 82,
   "id": "27d6c0a8-df12-4a30-bd26-5bc997473513",
   "metadata": {
    "atoti": {
     "widget": {
      "filters": [
       {
        "dimensionName": "StockItem",
        "hierarchyName": "Stock Item",
        "levelName": "Stock Item",
        "limit": 10,
        "measureName": "Margin rate",
        "scope": "overall",
        "topBottomMode": "TopCount",
        "type": "topBottomMembers"
       }
      ],
      "mapping": {
       "columns": [
        "ALL_MEASURES"
       ],
       "measures": [
        "[Measures].[Amount.SUM]",
        "[Measures].[Margin]",
        "[Measures].[Margin rate]"
       ],
       "rows": [
        "[StockItem].[Stock Item].[Stock Item]"
       ]
      },
      "query": {
       "mdx": "SELECT NON EMPTY {[Measures].[Amount.SUM], [Measures].[Margin], [Measures].[Margin rate]} ON COLUMNS, NON EMPTY Hierarchize(Descendants({[StockItem].[Stock Item].[ALL].[AllMember]}, 1, SELF_AND_BEFORE)) ON ROWS FROM [Sales] CELL PROPERTIES VALUE, FORMATTED_VALUE, BACK_COLOR, FORE_COLOR, FONT_FLAGS",
       "updateMode": "once"
      },
      "serverKey": "default",
      "widgetKey": "pivot-table"
     }
    }
   },
   "outputs": [
    {
     "data": {
      "application/vnd.atoti.widget.v0+json": {
       "sessionId": "1741384240_281415",
       "sessionUrl": "http://localhost:61486",
       "widgetCreationCode": "session.widget"
      },
      "text/html": [
       "<img height=\"0\" width=\"0\" src=\"data:,\" />"
      ],
      "text/plain": [
       "Open the notebook in JupyterLab with the Atoti JupyterLab extension enabled to build this widget."
      ]
     },
     "metadata": {},
     "output_type": "display_data"
    }
   ],
   "source": [
    "session.widget"
   ]
  },
  {
   "cell_type": "code",
   "execution_count": 87,
   "id": "6d28af98-4eaa-4e86-8058-5e82bb9b6ad3",
   "metadata": {},
   "outputs": [
    {
     "data": {
      "application/json": {
       "City": {
        "City": [
         "City"
        ],
        "Country": [
         "Country"
        ],
        "Location": [
         "Location"
        ],
        "Sales Territory": [
         "Sales Territory"
        ],
        "State Province": [
         "State Province"
        ]
       },
       "Customer": {
        "Bill To Customer": [
         "Bill To Customer"
        ],
        "Buying Group": [
         "Buying Group"
        ],
        "Category": [
         "Category"
        ],
        "Credit Limit": [
         "Credit Limit"
        ],
        "Customer": [
         "Customer"
        ],
        "Lineage Key": [
         "Lineage Key"
        ],
        "Postal Code": [
         "Postal Code"
        ],
        "Primary Contact": [
         "Primary Contact"
        ],
        "WWI Customer ID": [
         "WWI Customer ID"
        ]
       },
       "Date": {
        "Calendar Month Label": [
         "Calendar Month Label"
        ],
        "Calendar Year Label": [
         "Calendar Year Label"
        ],
        "Fiscal Month Label": [
         "Fiscal Month Label"
        ],
        "Fiscal Year Label": [
         "Fiscal Year Label"
        ],
        "Month": [
         "Month"
        ],
        "Short Month": [
         "Short Month"
        ]
       },
       "Employee": {
        "Employee": [
         "Employee"
        ],
        "Photo": [
         "Photo"
        ],
        "Preferred Name": [
         "Preferred Name"
        ],
        "Valid From": [
         "Valid From"
        ],
        "Valid To": [
         "Valid To"
        ]
       },
       "Sales": {
        "Delivery Date Key": [
         "Delivery Date Key"
        ],
        "Description": [
         "Description"
        ],
        "Invoice Date Key": [
         "Invoice Date Key"
        ],
        "Package": [
         "Package"
        ],
        "Sale Key": [
         "Sale Key"
        ]
       },
       "StockItem": {
        "Barcode": [
         "Barcode"
        ],
        "Brand": [
         "Brand"
        ],
        "Buying Package": [
         "Buying Package"
        ],
        "Color": [
         "Color"
        ],
        "Discount": [
         "Discount"
        ],
        "Is Chiller Stock": [
         "Is Chiller Stock"
        ],
        "Lead Time Days": [
         "Lead Time Days"
        ],
        "Lineage Key": [
         "Lineage Key"
        ],
        "Photo": [
         "Photo"
        ],
        "Quantity Per Outer": [
         "Quantity Per Outer"
        ],
        "Selling Package": [
         "Selling Package"
        ],
        "Size": [
         "Size"
        ],
        "Stock Item": [
         "Stock Item"
        ],
        "Tax Rate": [
         "Tax Rate"
        ],
        "Typical Weight Per Unit": [
         "Typical Weight Per Unit"
        ],
        "Unit Price": [
         "Unit Price"
        ],
        "Valid From": [
         "Valid From"
        ],
        "Valid To": [
         "Valid To"
        ],
        "WWI Stock Item ID": [
         "WWI Stock Item ID"
        ]
       }
      },
      "text/html": [
       "<ul>\n",
       "<li>Dimensions\n",
       "  <ul>\n",
       "  <li>City\n",
       "    <ul>\n",
       "    <li>City\n",
       "      <ol>\n",
       "      <li>City</li>\n",
       "      </ol>    </li>\n",
       "    <li>Country\n",
       "      <ol>\n",
       "      <li>Country</li>\n",
       "      </ol>    </li>\n",
       "    <li>Location\n",
       "      <ol>\n",
       "      <li>Location</li>\n",
       "      </ol>    </li>\n",
       "    <li>Sales Territory\n",
       "      <ol>\n",
       "      <li>Sales Territory</li>\n",
       "      </ol>    </li>\n",
       "    <li>State Province\n",
       "      <ol>\n",
       "      <li>State Province</li>\n",
       "      </ol>    </li>\n",
       "    </ul>\n",
       "  </li>\n",
       "  <li>Customer\n",
       "    <ul>\n",
       "    <li>Bill To Customer\n",
       "      <ol>\n",
       "      <li>Bill To Customer</li>\n",
       "      </ol>    </li>\n",
       "    <li>Buying Group\n",
       "      <ol>\n",
       "      <li>Buying Group</li>\n",
       "      </ol>    </li>\n",
       "    <li>Category\n",
       "      <ol>\n",
       "      <li>Category</li>\n",
       "      </ol>    </li>\n",
       "    <li>Credit Limit\n",
       "      <ol>\n",
       "      <li>Credit Limit</li>\n",
       "      </ol>    </li>\n",
       "    <li>Customer\n",
       "      <ol>\n",
       "      <li>Customer</li>\n",
       "      </ol>    </li>\n",
       "    <li>Lineage Key\n",
       "      <ol>\n",
       "      <li>Lineage Key</li>\n",
       "      </ol>    </li>\n",
       "    <li>Postal Code\n",
       "      <ol>\n",
       "      <li>Postal Code</li>\n",
       "      </ol>    </li>\n",
       "    <li>Primary Contact\n",
       "      <ol>\n",
       "      <li>Primary Contact</li>\n",
       "      </ol>    </li>\n",
       "    <li>WWI Customer ID\n",
       "      <ol>\n",
       "      <li>WWI Customer ID</li>\n",
       "      </ol>    </li>\n",
       "    </ul>\n",
       "  </li>\n",
       "  <li>Date\n",
       "    <ul>\n",
       "    <li>Calendar Month Label\n",
       "      <ol>\n",
       "      <li>Calendar Month Label</li>\n",
       "      </ol>    </li>\n",
       "    <li>Calendar Year Label\n",
       "      <ol>\n",
       "      <li>Calendar Year Label</li>\n",
       "      </ol>    </li>\n",
       "    <li>Fiscal Month Label\n",
       "      <ol>\n",
       "      <li>Fiscal Month Label</li>\n",
       "      </ol>    </li>\n",
       "    <li>Fiscal Year Label\n",
       "      <ol>\n",
       "      <li>Fiscal Year Label</li>\n",
       "      </ol>    </li>\n",
       "    <li>Month\n",
       "      <ol>\n",
       "      <li>Month</li>\n",
       "      </ol>    </li>\n",
       "    <li>Short Month\n",
       "      <ol>\n",
       "      <li>Short Month</li>\n",
       "      </ol>    </li>\n",
       "    </ul>\n",
       "  </li>\n",
       "  <li>Employee\n",
       "    <ul>\n",
       "    <li>Employee\n",
       "      <ol>\n",
       "      <li>Employee</li>\n",
       "      </ol>    </li>\n",
       "    <li>Photo\n",
       "      <ol>\n",
       "      <li>Photo</li>\n",
       "      </ol>    </li>\n",
       "    <li>Preferred Name\n",
       "      <ol>\n",
       "      <li>Preferred Name</li>\n",
       "      </ol>    </li>\n",
       "    <li>Valid From\n",
       "      <ol>\n",
       "      <li>Valid From</li>\n",
       "      </ol>    </li>\n",
       "    <li>Valid To\n",
       "      <ol>\n",
       "      <li>Valid To</li>\n",
       "      </ol>    </li>\n",
       "    </ul>\n",
       "  </li>\n",
       "  <li>Sales\n",
       "    <ul>\n",
       "    <li>Delivery Date Key\n",
       "      <ol>\n",
       "      <li>Delivery Date Key</li>\n",
       "      </ol>    </li>\n",
       "    <li>Description\n",
       "      <ol>\n",
       "      <li>Description</li>\n",
       "      </ol>    </li>\n",
       "    <li>Invoice Date Key\n",
       "      <ol>\n",
       "      <li>Invoice Date Key</li>\n",
       "      </ol>    </li>\n",
       "    <li>Package\n",
       "      <ol>\n",
       "      <li>Package</li>\n",
       "      </ol>    </li>\n",
       "    <li>Sale Key\n",
       "      <ol>\n",
       "      <li>Sale Key</li>\n",
       "      </ol>    </li>\n",
       "    </ul>\n",
       "  </li>\n",
       "  <li>StockItem\n",
       "    <ul>\n",
       "    <li>Barcode\n",
       "      <ol>\n",
       "      <li>Barcode</li>\n",
       "      </ol>    </li>\n",
       "    <li>Brand\n",
       "      <ol>\n",
       "      <li>Brand</li>\n",
       "      </ol>    </li>\n",
       "    <li>Buying Package\n",
       "      <ol>\n",
       "      <li>Buying Package</li>\n",
       "      </ol>    </li>\n",
       "    <li>Color\n",
       "      <ol>\n",
       "      <li>Color</li>\n",
       "      </ol>    </li>\n",
       "    <li>Discount\n",
       "      <ol>\n",
       "      <li>Discount</li>\n",
       "      </ol>    </li>\n",
       "    <li>Is Chiller Stock\n",
       "      <ol>\n",
       "      <li>Is Chiller Stock</li>\n",
       "      </ol>    </li>\n",
       "    <li>Lead Time Days\n",
       "      <ol>\n",
       "      <li>Lead Time Days</li>\n",
       "      </ol>    </li>\n",
       "    <li>Lineage Key\n",
       "      <ol>\n",
       "      <li>Lineage Key</li>\n",
       "      </ol>    </li>\n",
       "    <li>Photo\n",
       "      <ol>\n",
       "      <li>Photo</li>\n",
       "      </ol>    </li>\n",
       "    <li>Quantity Per Outer\n",
       "      <ol>\n",
       "      <li>Quantity Per Outer</li>\n",
       "      </ol>    </li>\n",
       "    <li>Selling Package\n",
       "      <ol>\n",
       "      <li>Selling Package</li>\n",
       "      </ol>    </li>\n",
       "    <li>Size\n",
       "      <ol>\n",
       "      <li>Size</li>\n",
       "      </ol>    </li>\n",
       "    <li>Stock Item\n",
       "      <ol>\n",
       "      <li>Stock Item</li>\n",
       "      </ol>    </li>\n",
       "    <li>Tax Rate\n",
       "      <ol>\n",
       "      <li>Tax Rate</li>\n",
       "      </ol>    </li>\n",
       "    <li>Typical Weight Per Unit\n",
       "      <ol>\n",
       "      <li>Typical Weight Per Unit</li>\n",
       "      </ol>    </li>\n",
       "    <li>Unit Price\n",
       "      <ol>\n",
       "      <li>Unit Price</li>\n",
       "      </ol>    </li>\n",
       "    <li>Valid From\n",
       "      <ol>\n",
       "      <li>Valid From</li>\n",
       "      </ol>    </li>\n",
       "    <li>Valid To\n",
       "      <ol>\n",
       "      <li>Valid To</li>\n",
       "      </ol>    </li>\n",
       "    <li>WWI Stock Item ID\n",
       "      <ol>\n",
       "      <li>WWI Stock Item ID</li>\n",
       "      </ol>    </li>\n",
       "    </ul>\n",
       "  </li>\n",
       "  </ul>\n",
       "</li>\n",
       "</ul>\n"
      ],
      "text/plain": [
       "{('Employee', 'Employee'): <atoti.hierarchy.Hierarchy object at 0x000002A9E8BA2950>, ('Employee', 'Valid To'): <atoti.hierarchy.Hierarchy object at 0x000002A9E8BA2AA0>, ('Employee', 'Preferred Name'): <atoti.hierarchy.Hierarchy object at 0x000002A9E8BA1000>, ('Employee', 'Valid From'): <atoti.hierarchy.Hierarchy object at 0x000002A9E8BA08E0>, ('Employee', 'Photo'): <atoti.hierarchy.Hierarchy object at 0x000002A9E0F22FB0>, ('Sales', 'Sale Key'): <atoti.hierarchy.Hierarchy object at 0x000002A9E0F23DF0>, ('Sales', 'Description'): <atoti.hierarchy.Hierarchy object at 0x000002A9E0F224A0>, ('Sales', 'Package'): <atoti.hierarchy.Hierarchy object at 0x000002A9E0F20FA0>, ('Sales', 'Invoice Date Key'): <atoti.hierarchy.Hierarchy object at 0x000002A9E0F20C40>, ('Sales', 'Delivery Date Key'): <atoti.hierarchy.Hierarchy object at 0x000002A9E0F23640>, ('Customer', 'Primary Contact'): <atoti.hierarchy.Hierarchy object at 0x000002A9E0F22A70>, ('Customer', 'Postal Code'): <atoti.hierarchy.Hierarchy object at 0x000002A9E0F21240>, ('Customer', 'Credit Limit'): <atoti.hierarchy.Hierarchy object at 0x000002A9EC0AE050>, ('Customer', 'Bill To Customer'): <atoti.hierarchy.Hierarchy object at 0x000002A9EC0ACDF0>, ('Customer', 'WWI Customer ID'): <atoti.hierarchy.Hierarchy object at 0x000002A9EC0AD540>, ('Customer', 'Category'): <atoti.hierarchy.Hierarchy object at 0x000002A9EC0AE020>, ('Customer', 'Buying Group'): <atoti.hierarchy.Hierarchy object at 0x000002A9E0BA4160>, ('Customer', 'Lineage Key'): <atoti.hierarchy.Hierarchy object at 0x000002A9E91610F0>, ('Customer', 'Customer'): <atoti.hierarchy.Hierarchy object at 0x000002A9E8880E80>, ('StockItem', 'Photo'): <atoti.hierarchy.Hierarchy object at 0x000002A9E8881300>, ('StockItem', 'Valid To'): <atoti.hierarchy.Hierarchy object at 0x000002A9E8882AD0>, ('StockItem', 'Tax Rate'): <atoti.hierarchy.Hierarchy object at 0x000002A9EF74D060>, ('StockItem', 'Quantity Per Outer'): <atoti.hierarchy.Hierarchy object at 0x000002A9EF74E9E0>, ('StockItem', 'Unit Price'): <atoti.hierarchy.Hierarchy object at 0x000002A9EF74E050>, ('StockItem', 'Valid From'): <atoti.hierarchy.Hierarchy object at 0x000002A9EF74DA20>, ('StockItem', 'Lead Time Days'): <atoti.hierarchy.Hierarchy object at 0x000002A9EF74E410>, ('StockItem', 'Selling Package'): <atoti.hierarchy.Hierarchy object at 0x000002A9EF74CB80>, ('StockItem', 'Buying Package'): <atoti.hierarchy.Hierarchy object at 0x000002A9EF74E770>, ('StockItem', 'Barcode'): <atoti.hierarchy.Hierarchy object at 0x000002A9EF74DEA0>, ('StockItem', 'Stock Item'): <atoti.hierarchy.Hierarchy object at 0x000002A9EF74C8E0>, ('StockItem', 'Lineage Key'): <atoti.hierarchy.Hierarchy object at 0x000002A9EF74D390>, ('StockItem', 'Color'): <atoti.hierarchy.Hierarchy object at 0x000002A9E8B07BB0>, ('StockItem', 'Typical Weight Per Unit'): <atoti.hierarchy.Hierarchy object at 0x000002A9E8B05000>, ('StockItem', 'Size'): <atoti.hierarchy.Hierarchy object at 0x000002A9E8B04BE0>, ('StockItem', 'Is Chiller Stock'): <atoti.hierarchy.Hierarchy object at 0x000002A9E8B041C0>, ('StockItem', 'Discount'): <atoti.hierarchy.Hierarchy object at 0x000002A9E8B05840>, ('StockItem', 'Brand'): <atoti.hierarchy.Hierarchy object at 0x000002A9E8B07CD0>, ('StockItem', 'WWI Stock Item ID'): <atoti.hierarchy.Hierarchy object at 0x000002A9E8B04550>, ('City', 'Country'): <atoti.hierarchy.Hierarchy object at 0x000002A9E8B050C0>, ('City', 'City'): <atoti.hierarchy.Hierarchy object at 0x000002A9E8B04CD0>, ('City', 'State Province'): <atoti.hierarchy.Hierarchy object at 0x000002A9E8B05A50>, ('City', 'Location'): <atoti.hierarchy.Hierarchy object at 0x000002A9E8B05C60>, ('City', 'Sales Territory'): <atoti.hierarchy.Hierarchy object at 0x000002A9E8B073D0>, ('Date', 'Month'): <atoti.hierarchy.Hierarchy object at 0x000002A9E8B04A90>, ('Date', 'Fiscal Year Label'): <atoti.hierarchy.Hierarchy object at 0x000002A9E8B044C0>, ('Date', 'Calendar Year Label'): <atoti.hierarchy.Hierarchy object at 0x000002A9E8B07490>, ('Date', 'Fiscal Month Label'): <atoti.hierarchy.Hierarchy object at 0x000002A9E8B04610>, ('Date', 'Calendar Month Label'): <atoti.hierarchy.Hierarchy object at 0x000002A9E8B07FA0>, ('Date', 'Short Month'): <atoti.hierarchy.Hierarchy object at 0x000002A9E8B071C0>}"
      ]
     },
     "execution_count": 87,
     "metadata": {
      "application/json": {
       "expanded": true,
       "root": "Dimensions"
      }
     },
     "output_type": "execute_result"
    }
   ],
   "source": [
    "h"
   ]
  },
  {
   "cell_type": "code",
   "execution_count": 195,
   "id": "878ea59d-65ff-4320-8cea-f1ad3007727b",
   "metadata": {},
   "outputs": [],
   "source": [
    "m[\"Cumulative amount\"] = tt.agg.sum(\n",
    "    m[\"Amount.SUM\"],\n",
    "    scope=tt.CumulativeScope(l[(\"Date\", \"Calendar Month Label\", \"Calendar Month Label\")])\n",
    ")"
   ]
  },
  {
   "cell_type": "code",
   "execution_count": 91,
   "id": "2fdc7a17-c8c8-4758-95a2-2d22587d3d84",
   "metadata": {
    "atoti": {
     "widget": {
      "mapping": {
       "horizontalSubplots": [],
       "secondaryValues": [],
       "splitBy": [
        "ALL_MEASURES"
       ],
       "values": [
        "[Measures].[Cumulative amount]",
        "[Measures].[Amount.SUM]"
       ],
       "verticalSubplots": [],
       "xAxis": [
        "[Date].[Calendar Month Label].[Calendar Month Label]"
       ]
      },
      "query": {
       "mdx": "SELECT NON EMPTY {[Measures].[Cumulative amount], [Measures].[Amount.SUM]} ON COLUMNS, NON EMPTY Hierarchize(Descendants({[Date].[Calendar Month Label].[ALL].[AllMember]}, 1, SELF_AND_BEFORE)) ON ROWS FROM [Sales] CELL PROPERTIES VALUE, FORMATTED_VALUE, BACK_COLOR, FORE_COLOR, FONT_FLAGS",
       "updateMode": "once"
      },
      "serverKey": "default",
      "widgetKey": "plotly-line-chart"
     }
    },
    "scrolled": true
   },
   "outputs": [
    {
     "data": {
      "application/vnd.atoti.widget.v0+json": {
       "sessionId": "1741384240_281415",
       "sessionUrl": "http://localhost:61486",
       "widgetCreationCode": "session.widget"
      },
      "text/html": [
       "<img height=\"0\" width=\"0\" src=\"data:,\" />"
      ],
      "text/plain": [
       "Open the notebook in JupyterLab with the Atoti JupyterLab extension enabled to build this widget."
      ]
     },
     "metadata": {},
     "output_type": "display_data"
    }
   ],
   "source": [
    "session.widget"
   ]
  },
  {
   "cell_type": "code",
   "execution_count": 196,
   "id": "6bf710c2-f317-44ba-8619-a27c02523892",
   "metadata": {},
   "outputs": [],
   "source": [
    "m[\"Average amount per bouquet\"] = tt.agg.mean(\n",
    "    m[\"Amount.SUM\"],\n",
    "    scope=tt.OriginScope({l[(\"StockItem\", \"Buying Package\", \"Buying Package\")]}),\n",
    ")"
   ]
  },
  {
   "cell_type": "code",
   "execution_count": 197,
   "id": "27a20376-c3d4-49a3-92c3-d484737aa645",
   "metadata": {},
   "outputs": [
    {
     "data": {
      "application/vnd.atoti.convert-mdx-query-result-to-widget.v0+json": {
       "mdx": "SELECT {[Measures].[Average amount per bouquet]} ON COLUMNS, NON EMPTY Hierarchize(Descendants({[StockItem].[Buying Package].[ALL].[AllMember]}, 1, SELF_AND_BEFORE)) ON ROWS FROM [Sales]",
       "sessionId": "1741544292_580331",
       "widgetCreationCode": "session.widget"
      },
      "text/html": [
       "<div>\n",
       "<style scoped>\n",
       "    .dataframe tbody tr th:only-of-type {\n",
       "        vertical-align: middle;\n",
       "    }\n",
       "\n",
       "    .dataframe tbody tr th {\n",
       "        vertical-align: top;\n",
       "    }\n",
       "\n",
       "    .dataframe thead th {\n",
       "        text-align: right;\n",
       "    }\n",
       "</style>\n",
       "<table border=\"1\" class=\"dataframe\">\n",
       "  <thead>\n",
       "    <tr style=\"text-align: right;\">\n",
       "      <th></th>\n",
       "      <th>Average amount per bouquet</th>\n",
       "    </tr>\n",
       "    <tr>\n",
       "      <th>Buying Package</th>\n",
       "      <th></th>\n",
       "    </tr>\n",
       "  </thead>\n",
       "  <tbody>\n",
       "    <tr>\n",
       "      <th>Total</th>\n",
       "      <td>6,626,530.93</td>\n",
       "    </tr>\n",
       "    <tr>\n",
       "      <th>Carton</th>\n",
       "      <td>4,745,450.60</td>\n",
       "    </tr>\n",
       "    <tr>\n",
       "      <th>Each</th>\n",
       "      <td>14,624,634.20</td>\n",
       "    </tr>\n",
       "    <tr>\n",
       "      <th>Packet</th>\n",
       "      <td>509,508.00</td>\n",
       "    </tr>\n",
       "  </tbody>\n",
       "</table>\n",
       "</div>"
      ],
      "text/plain": [
       "               Average amount per bouquet\n",
       "Buying Package                           \n",
       "Total                        6,626,530.93\n",
       "Carton                       4,745,450.60\n",
       "Each                        14,624,634.20\n",
       "Packet                         509,508.00"
      ]
     },
     "execution_count": 197,
     "metadata": {},
     "output_type": "execute_result"
    }
   ],
   "source": [
    "cube.query(\n",
    "    m[\"Average amount per bouquet\"],\n",
    "    include_totals=True,\n",
    "    levels=[l[(\"StockItem\", \"Buying Package\", \"Buying Package\")]],\n",
    ")"
   ]
  },
  {
   "cell_type": "code",
   "execution_count": 198,
   "id": "c83fb2c2-9019-4e7f-ab97-d9f28413bbec",
   "metadata": {},
   "outputs": [],
   "source": [
    "del m[\"Unit Price.SUM\"] "
   ]
  },
  {
   "cell_type": "code",
   "execution_count": 199,
   "id": "fe3d0174-e66a-4cfb-843d-7bab31836cf2",
   "metadata": {},
   "outputs": [],
   "source": [
    "m[\"Tax Amount.SUM\"].visible = False"
   ]
  },
  {
   "cell_type": "code",
   "execution_count": 200,
   "id": "9dfb416a-5c04-4947-b666-0e160c471b7a",
   "metadata": {},
   "outputs": [],
   "source": [
    "# Dossier \"Client\"\n",
    "for measure in [\n",
    "    m[\"Bill To Customer Key.MEAN\"],\n",
    "    m[\"Bill To Customer Key.SUM\"],\n",
    "    m[\"Customer Key.MEAN\"],\n",
    "    m[\"Customer Key.SUM\"],\n",
    "]:\n",
    "    measure.folder = \"Client\"\n",
    "\n",
    "# Dossier \"Localisation\"\n",
    "for measure in [\n",
    "    m[\"City Key.MEAN\"],\n",
    "    m[\"City Key.SUM\"],\n",
    "]:\n",
    "    measure.folder = \"Localisation\"\n",
    "\n",
    "# Dossier \"Ventes\"\n",
    "for measure in [\n",
    "    m[\"Profit.MEAN\"],\n",
    "    m[\"Profit.SUM\"],\n",
    "    m[\"Quantity.MEAN\"],\n",
    "    m[\"Quantity.SUM\"],\n",
    "    m[\"Total Excluding Tax.MEAN\"],\n",
    "    m[\"Total Excluding Tax.SUM\"],\n",
    "    m[\"Total Including Tax.MEAN\"],\n",
    "    m[\"Total Including Tax.SUM\"],\n",
    "    m[\"Unit Price.MEAN\"],\n",
    "]:\n",
    "    measure.folder = \"Ventes\"\n",
    "\n",
    "# Dossier \"Produits\"\n",
    "for measure in [\n",
    "    m[\"Stock Item Key.MEAN\"],\n",
    "    m[\"Stock Item Key.SUM\"],\n",
    "    m[\"Total Chiller Items.MEAN\"],\n",
    "    m[\"Total Chiller Items.SUM\"],\n",
    "    m[\"Total Dry Items.MEAN\"],\n",
    "    m[\"Total Dry Items.SUM\"],\n",
    "]:\n",
    "    measure.folder = \"Produits\"\n",
    "\n",
    "# Dossier \"Taxation\"\n",
    "for measure in [\n",
    "    m[\"Tax Amount.MEAN\"],\n",
    "    m[\"Tax Amount.SUM\"],\n",
    "    m[\"Tax Rate.MEAN\"],\n",
    "    m[\"Tax Rate.SUM\"],\n",
    "]:\n",
    "    measure.folder = \"Taxation\"\n",
    "\n",
    "# Dossier \"Vendeur\"\n",
    "for measure in [\n",
    "    m[\"Salesperson Key.MEAN\"],\n",
    "    m[\"Salesperson Key.SUM\"],\n",
    "]:\n",
    "    measure.folder = \"Vendeur\"\n",
    "\n",
    "# Dossier \"Facturation\"\n",
    "for measure in [\n",
    "    m[\"WWI Invoice ID.MEAN\"],\n",
    "    m[\"WWI Invoice ID.SUM\"],\n",
    "]:\n",
    "    measure.folder = \"Facturation\"\n",
    "\n",
    "# Dossier \"Divers\"\n",
    "for measure in [\n",
    "    m[\"Lineage Key.MEAN\"],\n",
    "    m[\"Lineage Key.SUM\"],\n",
    "    m[\"contributors.COUNT\"],\n",
    "]:\n",
    "    measure.folder = \"Divers\"\n"
   ]
  },
  {
   "cell_type": "code",
   "execution_count": 112,
   "id": "0603b86c-abb1-4dcb-89e0-d9214a9c8688",
   "metadata": {},
   "outputs": [
    {
     "data": {
      "application/json": {
       "Amount.MEAN": {
        "formatter": "DOUBLE[#,###.00]"
       },
       "Amount.SUM": {
        "formatter": "DOUBLE[#,###.00]"
       },
       "Average amount per bouquet": {
        "formatter": "DOUBLE[#,###.00]"
       },
       "Cumulative amount": {
        "formatter": "DOUBLE[#,###.00]"
       },
       "Margin": {
        "formatter": "DOUBLE[#,###.00]"
       },
       "Margin rate": {
        "formatter": "DOUBLE[#,###.00]"
       },
       "Max Unit Price": {
        "formatter": "DOUBLE[#,###.00]"
       },
       "📁 Client": {
        "Bill To Customer Key.MEAN": {
         "formatter": "DOUBLE[#,###.00]"
        },
        "Bill To Customer Key.SUM": {
         "formatter": "INT[#,###]"
        },
        "Customer Key.MEAN": {
         "formatter": "DOUBLE[#,###.00]"
        },
        "Customer Key.SUM": {
         "formatter": "DOUBLE[#,###.00]"
        }
       },
       "📁 Divers": {
        "Lineage Key.MEAN": {
         "formatter": "DOUBLE[#,###.00]"
        },
        "Lineage Key.SUM": {
         "formatter": "INT[#,###]"
        },
        "contributors.COUNT": {
         "formatter": "INT[#,###]"
        }
       },
       "📁 Facturation": {
        "WWI Invoice ID.MEAN": {
         "formatter": "DOUBLE[#,###.00]"
        },
        "WWI Invoice ID.SUM": {
         "formatter": "INT[#,###]"
        }
       },
       "📁 Localisation": {
        "City Key.MEAN": {
         "formatter": "DOUBLE[#,###.00]"
        },
        "City Key.SUM": {
         "formatter": "INT[#,###]"
        }
       },
       "📁 Produits": {
        "Stock Item Key.MEAN": {
         "formatter": "DOUBLE[#,###.00]"
        },
        "Stock Item Key.SUM": {
         "formatter": "INT[#,###]"
        },
        "Total Chiller Items.MEAN": {
         "formatter": "DOUBLE[#,###.00]"
        },
        "Total Chiller Items.SUM": {
         "formatter": "INT[#,###]"
        },
        "Total Dry Items.MEAN": {
         "formatter": "DOUBLE[#,###.00]"
        },
        "Total Dry Items.SUM": {
         "formatter": "INT[#,###]"
        }
       },
       "📁 Taxation": {
        "Tax Amount.MEAN": {
         "formatter": "DOUBLE[#,###.00]"
        },
        "Tax Rate.MEAN": {
         "formatter": "DOUBLE[#,###.00]"
        },
        "Tax Rate.SUM": {
         "formatter": "INT[#,###]"
        }
       },
       "📁 Vendeur": {
        "Salesperson Key.MEAN": {
         "formatter": "DOUBLE[#,###.00]"
        },
        "Salesperson Key.SUM": {
         "formatter": "INT[#,###]"
        }
       },
       "📁 Ventes": {
        "Profit.MEAN": {
         "formatter": "DOUBLE[#,###.00]"
        },
        "Profit.SUM": {
         "formatter": "DOUBLE[#,###.00]"
        },
        "Quantity.MEAN": {
         "formatter": "DOUBLE[#,###.00]"
        },
        "Quantity.SUM": {
         "formatter": "INT[#,###]"
        },
        "Total Excluding Tax.MEAN": {
         "formatter": "DOUBLE[#,###.00]"
        },
        "Total Excluding Tax.SUM": {
         "formatter": "DOUBLE[#,###.00]"
        },
        "Total Including Tax.MEAN": {
         "formatter": "DOUBLE[#,###.00]"
        },
        "Total Including Tax.SUM": {
         "formatter": "DOUBLE[#,###.00]"
        },
        "Unit Price.MEAN": {
         "formatter": "DOUBLE[#,###.00]"
        }
       }
      },
      "text/html": [
       "<ul>\n",
       "<li>Measures\n",
       "  <ul>\n",
       "  <li>📁 Localisation\n",
       "    <ul>\n",
       "    <li>City Key.MEAN\n",
       "      <ul>\n",
       "      <li>formatter: DOUBLE[#,###.00]</li>\n",
       "      </ul>\n",
       "    </li>\n",
       "    <li>City Key.SUM\n",
       "      <ul>\n",
       "      <li>formatter: INT[#,###]</li>\n",
       "      </ul>\n",
       "    </li>\n",
       "    </ul>\n",
       "  </li>\n",
       "  <li>📁 Taxation\n",
       "    <ul>\n",
       "    <li>Tax Amount.MEAN\n",
       "      <ul>\n",
       "      <li>formatter: DOUBLE[#,###.00]</li>\n",
       "      </ul>\n",
       "    </li>\n",
       "    <li>Tax Rate.MEAN\n",
       "      <ul>\n",
       "      <li>formatter: DOUBLE[#,###.00]</li>\n",
       "      </ul>\n",
       "    </li>\n",
       "    <li>Tax Rate.SUM\n",
       "      <ul>\n",
       "      <li>formatter: INT[#,###]</li>\n",
       "      </ul>\n",
       "    </li>\n",
       "    </ul>\n",
       "  </li>\n",
       "  <li>📁 Produits\n",
       "    <ul>\n",
       "    <li>Stock Item Key.MEAN\n",
       "      <ul>\n",
       "      <li>formatter: DOUBLE[#,###.00]</li>\n",
       "      </ul>\n",
       "    </li>\n",
       "    <li>Stock Item Key.SUM\n",
       "      <ul>\n",
       "      <li>formatter: INT[#,###]</li>\n",
       "      </ul>\n",
       "    </li>\n",
       "    <li>Total Chiller Items.MEAN\n",
       "      <ul>\n",
       "      <li>formatter: DOUBLE[#,###.00]</li>\n",
       "      </ul>\n",
       "    </li>\n",
       "    <li>Total Chiller Items.SUM\n",
       "      <ul>\n",
       "      <li>formatter: INT[#,###]</li>\n",
       "      </ul>\n",
       "    </li>\n",
       "    <li>Total Dry Items.MEAN\n",
       "      <ul>\n",
       "      <li>formatter: DOUBLE[#,###.00]</li>\n",
       "      </ul>\n",
       "    </li>\n",
       "    <li>Total Dry Items.SUM\n",
       "      <ul>\n",
       "      <li>formatter: INT[#,###]</li>\n",
       "      </ul>\n",
       "    </li>\n",
       "    </ul>\n",
       "  </li>\n",
       "  <li>📁 Client\n",
       "    <ul>\n",
       "    <li>Bill To Customer Key.MEAN\n",
       "      <ul>\n",
       "      <li>formatter: DOUBLE[#,###.00]</li>\n",
       "      </ul>\n",
       "    </li>\n",
       "    <li>Bill To Customer Key.SUM\n",
       "      <ul>\n",
       "      <li>formatter: INT[#,###]</li>\n",
       "      </ul>\n",
       "    </li>\n",
       "    <li>Customer Key.MEAN\n",
       "      <ul>\n",
       "      <li>formatter: DOUBLE[#,###.00]</li>\n",
       "      </ul>\n",
       "    </li>\n",
       "    <li>Customer Key.SUM\n",
       "      <ul>\n",
       "      <li>formatter: DOUBLE[#,###.00]</li>\n",
       "      </ul>\n",
       "    </li>\n",
       "    </ul>\n",
       "  </li>\n",
       "  <li>📁 Ventes\n",
       "    <ul>\n",
       "    <li>Profit.MEAN\n",
       "      <ul>\n",
       "      <li>formatter: DOUBLE[#,###.00]</li>\n",
       "      </ul>\n",
       "    </li>\n",
       "    <li>Profit.SUM\n",
       "      <ul>\n",
       "      <li>formatter: DOUBLE[#,###.00]</li>\n",
       "      </ul>\n",
       "    </li>\n",
       "    <li>Quantity.MEAN\n",
       "      <ul>\n",
       "      <li>formatter: DOUBLE[#,###.00]</li>\n",
       "      </ul>\n",
       "    </li>\n",
       "    <li>Quantity.SUM\n",
       "      <ul>\n",
       "      <li>formatter: INT[#,###]</li>\n",
       "      </ul>\n",
       "    </li>\n",
       "    <li>Total Excluding Tax.MEAN\n",
       "      <ul>\n",
       "      <li>formatter: DOUBLE[#,###.00]</li>\n",
       "      </ul>\n",
       "    </li>\n",
       "    <li>Total Excluding Tax.SUM\n",
       "      <ul>\n",
       "      <li>formatter: DOUBLE[#,###.00]</li>\n",
       "      </ul>\n",
       "    </li>\n",
       "    <li>Total Including Tax.MEAN\n",
       "      <ul>\n",
       "      <li>formatter: DOUBLE[#,###.00]</li>\n",
       "      </ul>\n",
       "    </li>\n",
       "    <li>Total Including Tax.SUM\n",
       "      <ul>\n",
       "      <li>formatter: DOUBLE[#,###.00]</li>\n",
       "      </ul>\n",
       "    </li>\n",
       "    <li>Unit Price.MEAN\n",
       "      <ul>\n",
       "      <li>formatter: DOUBLE[#,###.00]</li>\n",
       "      </ul>\n",
       "    </li>\n",
       "    </ul>\n",
       "  </li>\n",
       "  <li>📁 Vendeur\n",
       "    <ul>\n",
       "    <li>Salesperson Key.MEAN\n",
       "      <ul>\n",
       "      <li>formatter: DOUBLE[#,###.00]</li>\n",
       "      </ul>\n",
       "    </li>\n",
       "    <li>Salesperson Key.SUM\n",
       "      <ul>\n",
       "      <li>formatter: INT[#,###]</li>\n",
       "      </ul>\n",
       "    </li>\n",
       "    </ul>\n",
       "  </li>\n",
       "  <li>📁 Facturation\n",
       "    <ul>\n",
       "    <li>WWI Invoice ID.MEAN\n",
       "      <ul>\n",
       "      <li>formatter: DOUBLE[#,###.00]</li>\n",
       "      </ul>\n",
       "    </li>\n",
       "    <li>WWI Invoice ID.SUM\n",
       "      <ul>\n",
       "      <li>formatter: INT[#,###]</li>\n",
       "      </ul>\n",
       "    </li>\n",
       "    </ul>\n",
       "  </li>\n",
       "  <li>📁 Divers\n",
       "    <ul>\n",
       "    <li>Lineage Key.MEAN\n",
       "      <ul>\n",
       "      <li>formatter: DOUBLE[#,###.00]</li>\n",
       "      </ul>\n",
       "    </li>\n",
       "    <li>Lineage Key.SUM\n",
       "      <ul>\n",
       "      <li>formatter: INT[#,###]</li>\n",
       "      </ul>\n",
       "    </li>\n",
       "    <li>contributors.COUNT\n",
       "      <ul>\n",
       "      <li>formatter: INT[#,###]</li>\n",
       "      </ul>\n",
       "    </li>\n",
       "    </ul>\n",
       "  </li>\n",
       "  <li>Amount.MEAN\n",
       "    <ul>\n",
       "    <li>formatter: DOUBLE[#,###.00]</li>\n",
       "    </ul>\n",
       "  </li>\n",
       "  <li>Amount.SUM\n",
       "    <ul>\n",
       "    <li>formatter: DOUBLE[#,###.00]</li>\n",
       "    </ul>\n",
       "  </li>\n",
       "  <li>Average amount per bouquet\n",
       "    <ul>\n",
       "    <li>formatter: DOUBLE[#,###.00]</li>\n",
       "    </ul>\n",
       "  </li>\n",
       "  <li>Cumulative amount\n",
       "    <ul>\n",
       "    <li>formatter: DOUBLE[#,###.00]</li>\n",
       "    </ul>\n",
       "  </li>\n",
       "  <li>Margin\n",
       "    <ul>\n",
       "    <li>formatter: DOUBLE[#,###.00]</li>\n",
       "    </ul>\n",
       "  </li>\n",
       "  <li>Margin rate\n",
       "    <ul>\n",
       "    <li>formatter: DOUBLE[#,###.00]</li>\n",
       "    </ul>\n",
       "  </li>\n",
       "  <li>Max Unit Price\n",
       "    <ul>\n",
       "    <li>formatter: DOUBLE[#,###.00]</li>\n",
       "    </ul>\n",
       "  </li>\n",
       "  </ul>\n",
       "</li>\n",
       "</ul>\n"
      ],
      "text/plain": [
       "{'City Key.SUM': <atoti.measure.Measure object at 0x000002A9E9ECE620>, 'Tax Rate.MEAN': <atoti.measure.Measure object at 0x000002A9E9DD72E0>, 'Total Chiller Items.MEAN': <atoti.measure.Measure object at 0x000002A9E9DD64D0>, 'Bill To Customer Key.SUM': <atoti.measure.Measure object at 0x000002A9E9DD6F50>, 'Tax Amount.MEAN': <atoti.measure.Measure object at 0x000002A9E9DD7D60>, 'Cumulative amount': <atoti.measure.Measure object at 0x000002A9E9DD6620>, 'Tax Rate.SUM': <atoti.measure.Measure object at 0x000002A9E9DD7010>, 'Total Dry Items.SUM': <atoti.measure.Measure object at 0x000002A9E9DD6380>, 'Stock Item Key.MEAN': <atoti.measure.Measure object at 0x000002A9E9DD62F0>, 'StockItem.Recommended Retail Price.SINGLE_VALUE_NULLABLE__#__1d': <atoti.measure.Measure object at 0x000002A9E9DD69E0>, 'Average amount per bouquet': <atoti.measure.Measure object at 0x000002A9E9DD4BB0>, 'Amount.SUM': <atoti.measure.Measure object at 0x000002A9E9DD7310>, 'Profit.MEAN': <atoti.measure.Measure object at 0x000002A9E9DD6DD0>, '__hidden_4_COMPARABLE_MAX': <atoti.measure.Measure object at 0x000002A9E9DD7AC0>, 'Salesperson Key.MEAN': <atoti.measure.Measure object at 0x000002A9E9DD76A0>, 'λ(SUM.(Amount.SUM).over(Window[Hierarchy : Hierarchy[dimension=Date; hierarchy=Calendar Month Label] ;Range : CopperRange:[-2147483648;0] ;IsOrdered : true ;Reversed : false]))__#__1j': <atoti.measure.Measure object at 0x000002A9E9DD7730>, 'MULTIPLY(Quantity.SUM;StockItem.Recommended Retail Price.SINGLE_VALUE_NULLABLE)__#__1e': <atoti.measure.Measure object at 0x000002A9E9DD5FF0>, 'WWI Invoice ID.SUM': <atoti.measure.Measure object at 0x000002A9E9DD7340>, 'update.TIMESTAMP': <atoti.measure.Measure object at 0x000002A9E9DD7460>, 'Quantity.SUM': <atoti.measure.Measure object at 0x000002A9E9DD6C50>, 'Total Including Tax.MEAN': <atoti.measure.Measure object at 0x000002A9E9DD7430>, 'SUM.(Amount.SUM).over(Window[Hierarchy : Hierarchy[dimension=Date; hierarchy=Calendar Month Label] ;Range : CopperRange:[-2147483648;0] ;IsOrdered : true ;Reversed : false])__#__1g': <atoti.measure.Measure object at 0x000002A9E9DD70D0>, 'Max Unit Price': <atoti.measure.Measure object at 0x000002A9E9DD6890>, 'Total Excluding Tax.SUM': <atoti.measure.Measure object at 0x000002A9E9DD6C80>, 'Lineage Key.MEAN': <atoti.measure.Measure object at 0x000002A9E9DD7400>, 'Margin rate': <atoti.measure.Measure object at 0x000002A9E9DD7190>, 'λ(SUM.(Amount.SUM).over(Window[Hierarchy : Hierarchy[dimension=Date; hierarchy=Calendar Month Label] ;Range : CopperRange:[-2147483648;0] ;IsOrdered : true ;Reversed : false])).per(Calendar Month Label).comparable_max()__#__1h': <atoti.measure.Measure object at 0x000002A9E9DD7FD0>, 'Unit Price.MEAN': <atoti.measure.Measure object at 0x000002A9E9DD75E0>, 'City Key.MEAN': <atoti.measure.Measure object at 0x000002A9E9DD6E30>, 'Bill To Customer Key.MEAN': <atoti.measure.Measure object at 0x000002A9E9DD6920>, 'Margin': <atoti.measure.Measure object at 0x000002A9E9DD5540>, 'Tax Amount.SUM': <atoti.measure.Measure object at 0x000002A9E9DD5CF0>, 'MULTIPLY(Quantity.SUM;StockItem.Recommended Retail Price.SINGLE_VALUE_NULLABLE).per(Stock Item).sum()__#__1c': <atoti.measure.Measure object at 0x000002A9E9DD48B0>, 'Profit.SUM': <atoti.measure.Measure object at 0x000002A9E9DD4E20>, 'Quantity.MEAN': <atoti.measure.Measure object at 0x000002A9E9DD7C70>, 'Total Including Tax.SUM': <atoti.measure.Measure object at 0x000002A9E9DD7490>, 'Stock Item Key.SUM': <atoti.measure.Measure object at 0x000002A9E9DD6500>, 'Customer Key.MEAN': <atoti.measure.Measure object at 0x000002A9E9DD40D0>, 'Total Chiller Items.SUM': <atoti.measure.Measure object at 0x000002A9E9DD60B0>, 'Total Dry Items.MEAN': <atoti.measure.Measure object at 0x000002A9E9DD5990>, 'Total Excluding Tax.MEAN': <atoti.measure.Measure object at 0x000002A9E9DD4FA0>, 'Salesperson Key.SUM': <atoti.measure.Measure object at 0x000002A9E9DD5480>, 'Amount.MEAN': <atoti.measure.Measure object at 0x000002A9E9DD7160>, 'Customer Key.SUM': <atoti.measure.Measure object at 0x000002A9E9DD7040>, 'contributors.COUNT': <atoti.measure.Measure object at 0x000002A9E9DD6710>, 'WWI Invoice ID.MEAN': <atoti.measure.Measure object at 0x000002A9E9DD5EA0>, 'Lineage Key.SUM': <atoti.measure.Measure object at 0x000002A9E9DD67A0>}"
      ]
     },
     "execution_count": 112,
     "metadata": {
      "application/json": {
       "expanded": false,
       "root": "Measures"
      }
     },
     "output_type": "execute_result"
    }
   ],
   "source": [
    "m = cube.measures\n",
    "m"
   ]
  },
  {
   "cell_type": "code",
   "execution_count": 201,
   "id": "4cd8281c-d2a3-464a-a94c-c8665718d207",
   "metadata": {},
   "outputs": [
    {
     "data": {
      "application/vnd.atoti.convert-mdx-query-result-to-widget.v0+json": {
       "mdx": "SELECT {[Measures].[Profit.SUM]} ON COLUMNS, NON EMPTY Hierarchize(Descendants({[Customer].[Category].[ALL].[AllMember]}, 1, SELF_AND_BEFORE)) ON ROWS FROM [Sales]",
       "sessionId": "1741544292_580331",
       "widgetCreationCode": "session.widget"
      },
      "text/html": [
       "<div>\n",
       "<style scoped>\n",
       "    .dataframe tbody tr th:only-of-type {\n",
       "        vertical-align: middle;\n",
       "    }\n",
       "\n",
       "    .dataframe tbody tr th {\n",
       "        vertical-align: top;\n",
       "    }\n",
       "\n",
       "    .dataframe thead th {\n",
       "        text-align: right;\n",
       "    }\n",
       "</style>\n",
       "<table border=\"1\" class=\"dataframe\">\n",
       "  <thead>\n",
       "    <tr style=\"text-align: right;\">\n",
       "      <th></th>\n",
       "      <th>Profit.SUM</th>\n",
       "    </tr>\n",
       "    <tr>\n",
       "      <th>Category</th>\n",
       "      <th></th>\n",
       "    </tr>\n",
       "  </thead>\n",
       "  <tbody>\n",
       "    <tr>\n",
       "      <th>N/A</th>\n",
       "      <td>3,428,606.80</td>\n",
       "    </tr>\n",
       "    <tr>\n",
       "      <th>Novelty Shop</th>\n",
       "      <td>6,495,284.90</td>\n",
       "    </tr>\n",
       "  </tbody>\n",
       "</table>\n",
       "</div>"
      ],
      "text/plain": [
       "                Profit.SUM\n",
       "Category                  \n",
       "N/A           3,428,606.80\n",
       "Novelty Shop  6,495,284.90"
      ]
     },
     "execution_count": 201,
     "metadata": {},
     "output_type": "execute_result"
    }
   ],
   "source": [
    "cube.query(m[\"Profit.SUM\"], levels=[l[\"Category\"]])"
   ]
  },
  {
   "cell_type": "code",
   "execution_count": 202,
   "id": "37379359-9587-43a2-855d-687895f4a7b3",
   "metadata": {},
   "outputs": [],
   "source": [
    "m[\"Profit.SUM\"].formatter = \"DOUBLE[#,###.00€]\""
   ]
  },
  {
   "cell_type": "code",
   "execution_count": 203,
   "id": "56035a83-7837-4677-8654-f83c9238434b",
   "metadata": {},
   "outputs": [
    {
     "data": {
      "application/vnd.atoti.convert-mdx-query-result-to-widget.v0+json": {
       "mdx": "SELECT {[Measures].[Profit.SUM]} ON COLUMNS, NON EMPTY Hierarchize(Descendants({[Customer].[Category].[ALL].[AllMember]}, 1, SELF_AND_BEFORE)) ON ROWS FROM [Sales]",
       "sessionId": "1741544292_580331",
       "widgetCreationCode": "session.widget"
      },
      "text/html": [
       "<div>\n",
       "<style scoped>\n",
       "    .dataframe tbody tr th:only-of-type {\n",
       "        vertical-align: middle;\n",
       "    }\n",
       "\n",
       "    .dataframe tbody tr th {\n",
       "        vertical-align: top;\n",
       "    }\n",
       "\n",
       "    .dataframe thead th {\n",
       "        text-align: right;\n",
       "    }\n",
       "</style>\n",
       "<table border=\"1\" class=\"dataframe\">\n",
       "  <thead>\n",
       "    <tr style=\"text-align: right;\">\n",
       "      <th></th>\n",
       "      <th>Profit.SUM</th>\n",
       "    </tr>\n",
       "    <tr>\n",
       "      <th>Category</th>\n",
       "      <th></th>\n",
       "    </tr>\n",
       "  </thead>\n",
       "  <tbody>\n",
       "    <tr>\n",
       "      <th>N/A</th>\n",
       "      <td>3,428,606.80€</td>\n",
       "    </tr>\n",
       "    <tr>\n",
       "      <th>Novelty Shop</th>\n",
       "      <td>6,495,284.90€</td>\n",
       "    </tr>\n",
       "  </tbody>\n",
       "</table>\n",
       "</div>"
      ],
      "text/plain": [
       "                 Profit.SUM\n",
       "Category                   \n",
       "N/A           3,428,606.80€\n",
       "Novelty Shop  6,495,284.90€"
      ]
     },
     "execution_count": 203,
     "metadata": {},
     "output_type": "execute_result"
    }
   ],
   "source": [
    "cube.query(m[\"Profit.SUM\"], levels=[l[\"Category\"]])"
   ]
  },
  {
   "cell_type": "code",
   "execution_count": 117,
   "id": "42f1ebcd-7708-45b8-abe5-b2b71d883e4e",
   "metadata": {},
   "outputs": [],
   "source": [
    "import pandas as pd"
   ]
  },
  {
   "cell_type": "code",
   "execution_count": 204,
   "id": "9eb64037-5269-4a63-be16-d65a4ca4a1d0",
   "metadata": {},
   "outputs": [
    {
     "name": "stdout",
     "output_type": "stream",
     "text": [
      "Avant modification des prix :\n",
      "                            Stock Item Unit Price\n",
      "2     Void fill 400 L bag (White) 400L         50\n",
      "3     Void fill 300 L bag (White) 300L       37.5\n",
      "4     Void fill 200 L bag (White) 200L         25\n",
      "5     Void fill 100 L bag (White) 100L       12.5\n",
      "6           Air cushion machine (Blue)       1899\n",
      "7    Air cushion film 200mmx200mm 325m         90\n",
      "294   Void fill 400 L bag (White) 400L         50\n",
      "\n",
      "Après modification des prix :\n",
      "                            Stock Item Unit Price\n",
      "2     Void fill 400 L bag (White) 400L       45.0\n",
      "3     Void fill 300 L bag (White) 300L       40.0\n",
      "4     Void fill 200 L bag (White) 200L       35.0\n",
      "5     Void fill 100 L bag (White) 100L       30.0\n",
      "6           Air cushion machine (Blue)     1500.0\n",
      "7    Air cushion film 200mmx200mm 325m      125.0\n",
      "294   Void fill 400 L bag (White) 400L       45.0\n"
     ]
    }
   ],
   "source": [
    "import pandas as pd\n",
    "\n",
    "# Charger le fichier CSV et ignorer la première ligne\n",
    "df = pd.read_csv(\"Datasets/WWI/DimStockItem.csv\", skiprows=1, header=None)\n",
    "\n",
    "# Définir les noms de colonnes\n",
    "df.columns = [\n",
    "    \"Stock Item Key\", \"WWI Stock Item ID\", \"Stock Item\", \"Color\", \"Selling Package\", \"Buying Package\", \n",
    "    \"Brand\", \"Size\", \"Lead Time Days\", \"Quantity Per Outer\", \"Is Chiller Stock\", \"Barcode\", \n",
    "    \"Tax Rate\", \"Unit Price\", \"Recommended Retail Price\", \"Typical Weight Per Unit\", \"Photo\", \n",
    "    \"Discount\", \"Valid From\", \"Valid To\", \"Lineage Key\"\n",
    "]\n",
    "\n",
    "# Remplir les valeurs manquantes de \"Stock Item Key\" avec 0\n",
    "df[\"Stock Item Key\"] = df[\"Stock Item Key\"].fillna(0)\n",
    "\n",
    "# Filtrer les lignes où \"Stock Item Key\" peut être converti en numérique\n",
    "df = df[pd.to_numeric(df[\"Stock Item Key\"], errors=\"coerce\").notna()]\n",
    "\n",
    "# Convertir \"Stock Item Key\" en type entier\n",
    "df[\"Stock Item Key\"] = df[\"Stock Item Key\"].astype(int)\n",
    "\n",
    "# Supprimer les \"?\" de la colonne \"Recommended Retail Price\"\n",
    "df[\"Recommended Retail Price\"] = df[\"Recommended Retail Price\"].str.replace(\"?\", \"\", regex=False)\n",
    "\n",
    "# Convertir la colonne \"Recommended Retail Price\" en numérique, gérer les erreurs\n",
    "df[\"Recommended Retail Price\"] = pd.to_numeric(df[\"Recommended Retail Price\"], errors=\"coerce\")\n",
    "\n",
    "# Liste des produits à modifier et leurs nouveaux prix unitaires\n",
    "articles_to_update = {\n",
    "    \"Void fill 400 L bag (White) 400L\": 45.0,\n",
    "    \"Void fill 300 L bag (White) 300L\": 40.0,\n",
    "    \"Void fill 200 L bag (White) 200L\": 35.0,\n",
    "    \"Void fill 100 L bag (White) 100L\": 30.0,\n",
    "    \"Air cushion machine (Blue)\": 1500.0,\n",
    "    \"Air cushion film 200mmx200mm 325m\": 125.0\n",
    "}\n",
    "\n",
    "# Affichage des 7 premières lignes avant modification des prix\n",
    "print(\"Avant modification des prix :\")\n",
    "print(df[df[\"Stock Item\"].isin(articles_to_update.keys())][[\"Stock Item\", \"Unit Price\"]].head(7))\n",
    "\n",
    "# Appliquer les modifications des prix dans df\n",
    "for article, new_price in articles_to_update.items():\n",
    "    df.loc[df[\"Stock Item\"] == article, \"Unit Price\"] = new_price\n",
    "\n",
    "# Affichage des 7 premières lignes après modification des prix\n",
    "print(\"\\nAprès modification des prix :\")\n",
    "print(df[df[\"Stock Item\"].isin(articles_to_update.keys())][[\"Stock Item\", \"Unit Price\"]].head(7))\n"
   ]
  },
  {
   "cell_type": "code",
   "execution_count": 215,
   "id": "5e1fcf15-8688-4bf8-824c-261a99387827",
   "metadata": {},
   "outputs": [],
   "source": [
    "# Création de la simulation de paramètre pour le pays\n",
    "country_simulation = cube.create_parameter_simulation(\n",
    "    \"Country Simulation1\",\n",
    "    levels=[l[\"Country\"]],  # Vous pouvez ajuster cela si vous avez un niveau pays différent\n",
    "    measures={\"Country parameter\": 1.0}  # Le paramètre initial est de 1 pour tous les pays\n",
    ")"
   ]
  },
  {
   "cell_type": "code",
   "execution_count": 216,
   "id": "59857003-2046-4f79-af49-130da49a455f",
   "metadata": {},
   "outputs": [
    {
     "data": {
      "text/html": [
       "<div>\n",
       "<style scoped>\n",
       "    .dataframe tbody tr th:only-of-type {\n",
       "        vertical-align: middle;\n",
       "    }\n",
       "\n",
       "    .dataframe tbody tr th {\n",
       "        vertical-align: top;\n",
       "    }\n",
       "\n",
       "    .dataframe thead th {\n",
       "        text-align: right;\n",
       "    }\n",
       "</style>\n",
       "<table border=\"1\" class=\"dataframe\">\n",
       "  <thead>\n",
       "    <tr style=\"text-align: right;\">\n",
       "      <th></th>\n",
       "      <th></th>\n",
       "      <th>Country parameter</th>\n",
       "    </tr>\n",
       "    <tr>\n",
       "      <th>Scenario</th>\n",
       "      <th>Country</th>\n",
       "      <th></th>\n",
       "    </tr>\n",
       "  </thead>\n",
       "  <tbody>\n",
       "    <tr>\n",
       "      <th>France Crisis</th>\n",
       "      <th>France</th>\n",
       "      <td>0.8</td>\n",
       "    </tr>\n",
       "  </tbody>\n",
       "</table>\n",
       "</div>"
      ],
      "text/plain": [
       "                       Country parameter\n",
       "Scenario      Country                   \n",
       "France Crisis France                 0.8"
      ]
     },
     "execution_count": 216,
     "metadata": {},
     "output_type": "execute_result"
    }
   ],
   "source": [
    "# Ajouter un scénario pour la crise en France\n",
    "country_simulation += (\"France Crisis\", \"France\", 0.80)\n",
    "country_simulation.head()  # Afficher les premières lignes pour vérifier"
   ]
  },
  {
   "cell_type": "code",
   "execution_count": 225,
   "id": "bf53284a-43cb-4e15-a273-13f77823b92b",
   "metadata": {},
   "outputs": [],
   "source": [
    "# Modifier les mesures Quantity.SUM et Amount.SUM en fonction du paramètre de pays\n",
    "m[\"Quantity.SUM\"] = tt.agg.sum(\n",
    "    tt.agg.sum(fact_table[\"Quantity\"]) * m[\"Country parameter\"],\n",
    "    scope=tt.OriginScope({l[\"Country\"]})\n",
    ")\n",
    "\n",
    "m[\"Amount.SUM\"] = tt.agg.sum(\n",
    "    tt.agg.sum(fact_table[\"Unit Price\"]) * m[\"Country parameter\"],\n",
    "    scope=tt.OriginScope({l[\"Country\"]}),\n",
    ")\n"
   ]
  },
  {
   "cell_type": "code",
   "execution_count": 226,
   "id": "8110273e-6264-41e4-a75e-df3cf4c53c70",
   "metadata": {},
   "outputs": [
    {
     "data": {
      "application/vnd.atoti.convert-mdx-query-result-to-widget.v0+json": {
       "mdx": "SELECT {[Measures].[Quantity.SUM], [Measures].[Amount.SUM]} ON COLUMNS, NON EMPTY Crossjoin([Country Simulation1].[Country Simulation1].[Country Simulation1].Members, Hierarchize(Descendants({[City].[Country].[ALL].[AllMember]}, 1, SELF_AND_BEFORE))) ON ROWS FROM [Sales]",
       "sessionId": "1741544292_580331",
       "widgetCreationCode": "session.widget"
      },
      "text/html": [
       "<div>\n",
       "<style scoped>\n",
       "    .dataframe tbody tr th:only-of-type {\n",
       "        vertical-align: middle;\n",
       "    }\n",
       "\n",
       "    .dataframe tbody tr th {\n",
       "        vertical-align: top;\n",
       "    }\n",
       "\n",
       "    .dataframe thead th {\n",
       "        text-align: right;\n",
       "    }\n",
       "</style>\n",
       "<table border=\"1\" class=\"dataframe\">\n",
       "  <thead>\n",
       "    <tr style=\"text-align: right;\">\n",
       "      <th></th>\n",
       "      <th></th>\n",
       "      <th>Quantity.SUM</th>\n",
       "      <th>Amount.SUM</th>\n",
       "    </tr>\n",
       "    <tr>\n",
       "      <th>Country Simulation1</th>\n",
       "      <th>Country</th>\n",
       "      <th></th>\n",
       "      <th></th>\n",
       "    </tr>\n",
       "  </thead>\n",
       "  <tbody>\n",
       "    <tr>\n",
       "      <th rowspan=\"2\" valign=\"top\">Base</th>\n",
       "      <th></th>\n",
       "      <td>1,028,670.00</td>\n",
       "      <td>1,181,940.96</td>\n",
       "    </tr>\n",
       "    <tr>\n",
       "      <th>United States</th>\n",
       "      <td>1,028,670.00</td>\n",
       "      <td>1,181,940.96</td>\n",
       "    </tr>\n",
       "    <tr>\n",
       "      <th rowspan=\"2\" valign=\"top\">France Crisis</th>\n",
       "      <th></th>\n",
       "      <td>1,028,670.00</td>\n",
       "      <td>1,181,940.96</td>\n",
       "    </tr>\n",
       "    <tr>\n",
       "      <th>United States</th>\n",
       "      <td>1,028,670.00</td>\n",
       "      <td>1,181,940.96</td>\n",
       "    </tr>\n",
       "    <tr>\n",
       "      <th rowspan=\"2\" valign=\"top\">US boost</th>\n",
       "      <th></th>\n",
       "      <td>1,028,670.00</td>\n",
       "      <td>1,181,940.96</td>\n",
       "    </tr>\n",
       "    <tr>\n",
       "      <th>United States</th>\n",
       "      <td>1,028,670.00</td>\n",
       "      <td>1,181,940.96</td>\n",
       "    </tr>\n",
       "  </tbody>\n",
       "</table>\n",
       "</div>"
      ],
      "text/plain": [
       "                                   Quantity.SUM    Amount.SUM\n",
       "Country Simulation1 Country                                  \n",
       "Base                               1,028,670.00  1,181,940.96\n",
       "                    United States  1,028,670.00  1,181,940.96\n",
       "France Crisis                      1,028,670.00  1,181,940.96\n",
       "                    United States  1,028,670.00  1,181,940.96\n",
       "US boost                           1,028,670.00  1,181,940.96\n",
       "                    United States  1,028,670.00  1,181,940.96"
      ]
     },
     "execution_count": 226,
     "metadata": {},
     "output_type": "execute_result"
    }
   ],
   "source": [
    "cube.query(\n",
    "    m[\"Quantity.SUM\"],\n",
    "    m[\"Amount.SUM\"],\n",
    "    include_totals=True,\n",
    "    levels=[l[\"Country Simulation1\"], l[\"Country\"]]\n",
    ")"
   ]
  },
  {
   "cell_type": "code",
   "execution_count": 227,
   "id": "a919c8fd-4007-44ff-a25b-0f78d94539c1",
   "metadata": {},
   "outputs": [],
   "source": [
    "# Ajouter un scénario pour l'augmentation des ventes aux États-Unis\n",
    "country_simulation += (\"US boost\", \"USA\", 1.15)"
   ]
  },
  {
   "cell_type": "code",
   "execution_count": 230,
   "id": "82d4636c-9628-4c5c-bc5a-89ec53e1e866",
   "metadata": {},
   "outputs": [
    {
     "data": {
      "application/vnd.atoti.convert-mdx-query-result-to-widget.v0+json": {
       "mdx": "SELECT {[Measures].[Quantity.SUM]} ON COLUMNS, NON EMPTY Crossjoin([Country Simulation1].[Country Simulation1].[Country Simulation1].Members, Hierarchize(Descendants({[City].[Country].[ALL].[AllMember]}, 1, SELF_AND_BEFORE))) ON ROWS FROM [Sales]",
       "sessionId": "1741544292_580331",
       "widgetCreationCode": "session.widget"
      },
      "text/html": [
       "<div>\n",
       "<style scoped>\n",
       "    .dataframe tbody tr th:only-of-type {\n",
       "        vertical-align: middle;\n",
       "    }\n",
       "\n",
       "    .dataframe tbody tr th {\n",
       "        vertical-align: top;\n",
       "    }\n",
       "\n",
       "    .dataframe thead th {\n",
       "        text-align: right;\n",
       "    }\n",
       "</style>\n",
       "<table border=\"1\" class=\"dataframe\">\n",
       "  <thead>\n",
       "    <tr style=\"text-align: right;\">\n",
       "      <th></th>\n",
       "      <th></th>\n",
       "      <th>Quantity.SUM</th>\n",
       "    </tr>\n",
       "    <tr>\n",
       "      <th>Country Simulation1</th>\n",
       "      <th>Country</th>\n",
       "      <th></th>\n",
       "    </tr>\n",
       "  </thead>\n",
       "  <tbody>\n",
       "    <tr>\n",
       "      <th>Base</th>\n",
       "      <th>United States</th>\n",
       "      <td>1,028,670.00</td>\n",
       "    </tr>\n",
       "    <tr>\n",
       "      <th>France Crisis</th>\n",
       "      <th>United States</th>\n",
       "      <td>1,028,670.00</td>\n",
       "    </tr>\n",
       "    <tr>\n",
       "      <th>US boost</th>\n",
       "      <th>United States</th>\n",
       "      <td>1,028,670.00</td>\n",
       "    </tr>\n",
       "  </tbody>\n",
       "</table>\n",
       "</div>"
      ],
      "text/plain": [
       "                                   Quantity.SUM\n",
       "Country Simulation1 Country                    \n",
       "Base                United States  1,028,670.00\n",
       "France Crisis       United States  1,028,670.00\n",
       "US boost            United States  1,028,670.00"
      ]
     },
     "execution_count": 230,
     "metadata": {},
     "output_type": "execute_result"
    }
   ],
   "source": [
    "cube.query(m[\"Quantity.SUM\"], levels=[l[\"Country Simulation1\"], l[\"Country\"]])"
   ]
  },
  {
   "cell_type": "code",
   "execution_count": 229,
   "id": "45bd1380-bd9d-4cdf-91e7-835037f7d547",
   "metadata": {
    "atoti": {
     "widget": {
      "mapping": {
       "horizontalSubplots": [],
       "secondaryValues": [],
       "splitBy": [
        "ALL_MEASURES",
        "[Country Simulation1].[Country Simulation1].[Country Simulation1]"
       ],
       "values": [
        "[Measures].[Cumulative amount]"
       ],
       "verticalSubplots": [],
       "xAxis": []
      },
      "query": {
       "mdx": "SELECT NON EMPTY Crossjoin({[Measures].[Cumulative amount]}, [Country Simulation1].[Country Simulation1].[Country Simulation1].Members) ON COLUMNS FROM [Sales] CELL PROPERTIES VALUE, FORMATTED_VALUE, BACK_COLOR, FORE_COLOR, FONT_FLAGS",
       "updateMode": "once"
      },
      "serverKey": "default",
      "widgetKey": "plotly-line-chart"
     }
    }
   },
   "outputs": [
    {
     "data": {
      "application/vnd.atoti.widget.v0+json": {
       "sessionId": "1741544292_580331",
       "sessionUrl": "http://localhost:51806",
       "widgetCreationCode": "session.widget"
      },
      "text/plain": [
       "Open the notebook in JupyterLab with the Atoti JupyterLab extension enabled to build this widget."
      ]
     },
     "metadata": {},
     "output_type": "display_data"
    }
   ],
   "source": [
    "session.widget"
   ]
  },
  {
   "cell_type": "code",
   "execution_count": null,
   "id": "44ae0a50-35a0-410b-a7c5-c1e5679e8565",
   "metadata": {},
   "outputs": [],
   "source": []
  }
 ],
 "metadata": {
  "kernelspec": {
   "display_name": "Python 3 (ipykernel)",
   "language": "python",
   "name": "python3"
  },
  "language_info": {
   "codemirror_mode": {
    "name": "ipython",
    "version": 3
   },
   "file_extension": ".py",
   "mimetype": "text/x-python",
   "name": "python",
   "nbconvert_exporter": "python",
   "pygments_lexer": "ipython3",
   "version": "3.10.16"
  }
 },
 "nbformat": 4,
 "nbformat_minor": 5
}
